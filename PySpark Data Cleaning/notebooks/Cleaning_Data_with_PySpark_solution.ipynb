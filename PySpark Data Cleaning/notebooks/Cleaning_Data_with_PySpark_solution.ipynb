{
 "cells": [
  {
   "cell_type": "markdown",
   "metadata": {
    "colab_type": "text",
    "id": "6Ijg5wUCTQYG"
   },
   "source": [
    "\n",
    "\n",
    "## **Cleaning Data with Pyspark**\n",
    "\n",
    "Welcome to this hands-on training where we will investigate cleaning a dataset using Python and Apache Spark! During this training, we will cover:\n",
    "\n",
    "* Efficiently loading data into a Spark DataFrame\n",
    "* Handling errant rows / columns from the dataset, including comments, missing data, combined or misinterpreted columns, etc.\n",
    "* Using Python UDFs to run advanced transformations on data\n",
    "\n",
    "\n",
    "## **The Dataset**\n",
    "\n",
    "The dataset used in this webinar is a set of CSV files named `netflix_titles_raw*.csv`. These contain information related to the movies and television shows available on Netflix. These are the *dirty* versions of the dataset - we will cover the individual problems as we work through the notebook.\n",
    "\n",
    "Given that this is a data cleaning webinar, let's look at our intended result.  The dataset will contain the follwing information:\n",
    "\n",
    "- `show_id`: A unique integer identifier for the show\n",
    "- `type`: The type of content, `Movie` or `TV Show`\n",
    "- `title`: The title of the content\n",
    "- `director`: The director (or directors)\n",
    "- `cast`: The cast\n",
    "- `country`: Country (or countries) where the content is available\n",
    "- `date_added`: Date added to Netflix\n",
    "- `release_year`: Year of content release\n",
    "- `rating`: Content rating\n",
    "- `duration`: The duration\n",
    "- `listed_in`: The genres the content is listed in\n",
    "- `description`: A description of the content\n",
    "\n"
   ]
  },
  {
   "cell_type": "markdown",
   "metadata": {
    "colab_type": "text",
    "id": "KLi6HZeKbiG4"
   },
   "source": [
    "## **Setting up a PySpark session**\n",
    "\n",
    "Before we can start processing our data, we need to configure a Pyspark session for Google Colab. Note that this is specific for using Spark and Python in Colab and likely is not required for other environments. "
   ]
  },
  {
   "cell_type": "code",
   "execution_count": 1,
   "metadata": {
    "colab": {},
    "colab_type": "code",
    "id": "qKvFmTnQbiG9"
   },
   "outputs": [],
   "source": [
    "import numpy as np\n",
    "import matplotlib.pyplot as plt\n",
    "import seaborn as sns\n",
    "import pandas as pd\n",
    "import sys\n",
    "\n",
    "# Import spark session\n",
    "import pyspark\n",
    "from pyspark.sql.types import *\n",
    "from pyspark.sql import functions as sf\n",
    "from pyspark import SparkConf, SparkContext\n",
    "from pyspark.sql import SparkSession, SQLContext\n",
    "from pyspark.sql.functions import year\n",
    "from pyspark.sql.functions import to_date\n",
    "from pyspark.sql.functions import col\n",
    "from pyspark.sql import functions as F\n",
    "from pyspark.sql.types import IntegerType\n",
    "from pyspark.sql.types import DoubleType\n",
    "from pyspark.sql.types import DateType\n",
    "from pyspark.sql.functions import * #sum, mean,col, udf\n",
    "from pyspark.ml import Pipeline\n",
    "from pyspark.ml.feature import StringIndexer\n",
    "from pyspark.ml.feature import OneHotEncoder\n",
    "from pyspark.ml.linalg import Vectors\n",
    "import datetime\n",
    "\n",
    "spark = SparkSession.builder \\\n",
    "    .master('local[*]') \\\n",
    "    .config(\"spark.driver.memory\", \"16G\") \\\n",
    "    .appName('pyspark-app-1') \\\n",
    "    .getOrCreate()\n",
    "\n",
    "sqlContext = SQLContext(spark)"
   ]
  },
  {
   "cell_type": "markdown",
   "metadata": {
    "colab_type": "text",
    "id": "tlIBIjOM39AS"
   },
   "source": [
    "## **Loading our initial DataFrame**\n",
    "\n",
    "Let's take a look at what Spark does with our data and see if it can properly parse the output. To do this, we'll first load the content into a DataFrame using the `spark.read.csv()` method. \n",
    "\n",
    "We'll pass in three arguments:\n",
    "\n",
    " - The path to the file(s)\n",
    " - An entry for `header=False`. Our files do not have a header row, so we must specify this or risk a data row being interpreted as a header.\n",
    " - The last argument we add is the `sep` option, which specifies the field separator. Often in CSV files this is a comma (`,`), but in our files it's a `\\t` or tab character.\n",
    "\n",
    "In our command, we'll be using the wildcard character, `*`, again to access all the files matching `/tmp/netflix_titles_dirty*.csv.gz` (ie, all the files we've downloaded thus far). Spark will handle associating all the files to the same dataframe. \n",
    "\n",
    "Depending on how familiar you are with Spark, you should note that this line does not actually read the contents of the files yet. This command is *lazy*, which means it's not executed until we request Spark to execute some type of analysis. This is a crucial point to understand how data processing behaves within Spark. "
   ]
  },
  {
   "cell_type": "code",
   "execution_count": 3,
   "metadata": {
    "colab": {},
    "colab_type": "code",
    "id": "uQ_z1ZFYb9AX"
   },
   "outputs": [],
   "source": [
    "# Read csv file wiith spark.read_csv()\n",
    "\n",
    "titles_df = spark.read.csv('C:/Users/dennis.ee/Desktop/Directory/Demo/PySpark Data Cleaning\\data/netflix_titles_dirty*.csv', header=False, sep='\\t')"
   ]
  },
  {
   "cell_type": "markdown",
   "metadata": {
    "colab_type": "text",
    "id": "lUFy-nit4fmP"
   },
   "source": [
    "## **Initial analysis**\n",
    "\n",
    "Let's look at the first 150 rows using the `.show()` method on the DataFrame. We'll pass in:\n",
    "\n",
    "- The number of rows to display (`150`)\n",
    "- Set the `truncate` option to `False` so we can see all the DataFrame columns and content.\n",
    "\n",
    "*Note: `.show()` is a Spark action, meaning that any previous lazy commands will now be executed prior to the actual action. Spark can also optimize these commands for best performance as needed.*\n",
    "\n"
   ]
  },
  {
   "cell_type": "code",
   "execution_count": 4,
   "metadata": {
    "colab": {},
    "colab_type": "code",
    "id": "0LjdckdCcCQR"
   },
   "outputs": [
    {
     "name": "stdout",
     "output_type": "stream",
     "text": [
      "+------------------------------------------------------------------------------+-------+-----------------------------------------------+-------------------------------------------+-----------------------------------------------------------------------------------------------------------------------------------------------------------------------------------------------------------------------------------------------------------------------------------------------------------------------------------------------------------------------------------------------------------------------------------------------------------------------------------------------------------------------------+---------------------------------------------+-------------+----+-----+--------+------------------------------------------------------------------+--------------------------------------------------------------------------------------------------------------------------------------------------------------------------------------------------------------------------------------------------------+\n",
      "|_c0                                                                           |_c1    |_c2                                            |_c3                                        |_c4                                                                                                                                                                                                                                                                                                                                                                                                                                                                                                                          |_c5                                          |_c6          |_c7 |_c8  |_c9     |_c10                                                              |_c11                                                                                                                                                                                                                                                    |\n",
      "+------------------------------------------------------------------------------+-------+-----------------------------------------------+-------------------------------------------+-----------------------------------------------------------------------------------------------------------------------------------------------------------------------------------------------------------------------------------------------------------------------------------------------------------------------------------------------------------------------------------------------------------------------------------------------------------------------------------------------------------------------------+---------------------------------------------+-------------+----+-----+--------+------------------------------------------------------------------+--------------------------------------------------------------------------------------------------------------------------------------------------------------------------------------------------------------------------------------------------------+\n",
      "|80044126                                                                      |Movie  |D.L. Hughley: Clear                            |Jay Chapman                                |D.L. Hughley                                                                                                                                                                                                                                                                                                                                                                                                                                                                                                                 |United States                                |July 13, 2017|2014|TV-MA|59 min  |Stand-Up Comedy                                                   |In this 2014 standup special filmed in San Francisco, comedic genius D.L. Hughley entertains with his hilarious take on current affairs and more.                                                                                                       |\n",
      "|80148179                                                                      |Movie  |My Scientology Movie                           |John Dower                                 |Louis Theroux                                                                                                                                                                                                                                                                                                                                                                                                                                                                                                                |United Kingdom                               |July 13, 2017|2015|TV-MA|99 min  |Documentaries                                                     |After speaking with former Scientology members and being stonewalled by higher-ups, filmmaker Louis Theroux hires actors to re-create alleged events.                                                                                                   |\n",
      "|70301023                                                                      |Movie  |Tom Segura: Completely Normal                  |Jay Chapman                                |Tom Segura                                                                                                                                                                                                                                                                                                                                                                                                                                                                                                                   |United States                                |July 13, 2017|2014|TV-MA|74 min  |Stand-Up Comedy                                                   |Levelheaded stand-up Tom Segura shares offhand appraisals on hotels and opens up about his hobbies and digestive ailments in this comedy special.                                                                                                       |\n",
      "|80221109                                                                      |Movie  |4L                                             |Gerardo Olivares                           |Jean Reno, Hovik Keuchkerian, Susana Abaitua, Juan Dos Santos, Arturo Valls, Enrique San Francisco, Francesc Garrido, Eric Nguyen                                                                                                                                                                                                                                                                                                                                                                                            |Spain                                        |July 12, 2019|2019|TV-MA|105 min |Comedies, Dramas, Independent Movies                              |Hoping to reunite with a dying friend, two longtime pals re-create their desert road trip from Spain to Mali, bringing along his estranged daughter.                                                                                                    |\n",
      "|80221942                                                                      |TV Show|Age Gap Love                                   |null                                       |Fay Ripley                                                                                                                                                                                                                                                                                                                                                                                                                                                                                                                   |United Kingdom                               |July 12, 2019|2017|TV-MA|1 Season|British TV Shows, Reality TV, Romantic TV Shows                   |Despite the social backlash and challenges that come with intergenerational romance, these couples choose to stick together through thick and thin.                                                                                                     |\n",
      "|80221943                                                                      |TV Show|Ainsley Eats the Streets                       |null                                       |Ainsley Harriott                                                                                                                                                                                                                                                                                                                                                                                                                                                                                                             |United Kingdom                               |July 12, 2019|2014|TV-PG|1 Season|British TV Shows, Docuseries, International TV Shows              |Celebrity chef Ainsley Harriott embarks on a journey around the world to explore the relationship between local street foods and cultural identity.                                                                                                     |\n",
      "|81145271                                                                      |Movie  |Black & Privileged: Volume 1                   |Mark Harris                                |Dawnisha Halfkenny, Simeon Henderson, Corey Hendrix, Malcom Banks, Nadia Simms, Brian White, Brely Evans, Cynda Williams, Carl Anthony Payne II                                                                                                                                                                                                                                                                                                                                                                              |United States                                |July 12, 2019|2019|TV-MA|79 min  |Dramas                                                            |When low-income families move into a thriving black community in Chicago, they find themselves at odds with politicians to maintain their status.                                                                                                       |\n",
      "|80215147                                                                      |TV Show|Blown Away                                     |null                                       |null                                                                                                                                                                                                                                                                                                                                                                                                                                                                                                                         |Canada                                       |July 12, 2019|2019|TV-PG|1 Season|International TV Shows, Reality TV                                |Ten master artists turn up the heat in glassblowing sculpture challenges for the chance to win $60,000 in prizes and the title of champion.                                                                                                             |\n",
      "|81024041                                                                      |Movie  |Cities of Last Things                          |Wi Ding Ho                                 |Jack Kao, Lee Hong-chi, Louise Grinberg, Huang Lu, Ding Ning                                                                                                                                                                                                                                                                                                                                                                                                                                                                 |Taiwan, China, France, United States         |July 12, 2019|2018|TV-MA|106 min |Dramas, Independent Movies, International Movies                  |In a dystopian tale unfolding in reverse chronology, a man with a complicated past takes revenge on the individuals who wronged him decades ago.                                                                                                        |\n",
      "|80222071                                                                      |TV Show|Encounters with Evil                           |null                                       |Richard Lintern                                                                                                                                                                                                                                                                                                                                                                                                                                                                                                              |United Kingdom                               |July 12, 2019|2016|TV-14|1 Season|British TV Shows, Crime TV Shows, Docuseries                      |This documentary series tries to get at the root of some of the most heinous crimes ever committed by deranged, cold-blooded criminals.                                                                                                                 |\n",
      "|80210245                                                                      |TV Show|Extreme Engagement                             |null                                       |Tim Noonan, PJ Madam                                                                                                                                                                                                                                                                                                                                                                                                                                                                                                         |null                                         |July 12, 2019|2019|TV-MA|1 Season|International TV Shows, Reality TV                                |An engaged couple travels the world for a year to explore marriage customs in diverse cultures. Will the journey bring them closer or tear them apart?                                                                                                  |\n",
      "|80224312                                                                      |TV Show|History's Greatest Hoaxes                      |null                                       |null                                                                                                                                                                                                                                                                                                                                                                                                                                                                                                                         |Australia                                    |July 12, 2019|2016|TV-PG|1 Season|British TV Shows, Docuseries                                      |Using previously unseen footage, this documentary series offers new insights into some of the biggest scams and forgeries in human history.                                                                                                             |\n",
      "|81044248                                                                      |Movie  |Kidnapping Stella                              |Thomas Sieben                              |Max von der Groeben, Jella Haase, Clemens Schick                                                                                                                                                                                                                                                                                                                                                                                                                                                                             |Germany                                      |July 12, 2019|2019|TV-MA|90 min  |Dramas, International Movies, Thrillers                           |Snatched off the street and held for ransom, a bound and gagged woman uses her limited powers to derail her two masked abductors' carefully laid plans.                                                                                                 |\n",
      "|80191236                                                                      |TV Show|Luis Miguel - The Series                       |null                                       |Diego Boneta, Juan Pablo Zurita, Camila Sodi, Óscar Jaenada, Izan Llunas, Paulina Dávila, Martín Bello, Anna Favella, César Bordón, Vanessa Bauche                                                                                                                                                                                                                                                                                                                                                                           |Mexico                                       |July 12, 2019|2018|TV-MA|1 Season|International TV Shows, Spanish-Language TV Shows, TV Dramas      |This series dramatizes the life story of Mexican superstar singer Luis Miguel, who has captivated audiences in Latin America and beyond for decades.                                                                                                    |\n",
      "|80224314                                                                      |TV Show|Mega Food                                      |null                                       |null                                                                                                                                                                                                                                                                                                                                                                                                                                                                                                                         |United Kingdom                               |July 12, 2019|2013|TV-G |1 Season|British TV Shows, Docuseries, International TV Shows              |Visiting the busiest kitchens in the world, this reality series focuses on large-scale food production – and the people who make it happen.                                                                                                             |\n",
      "|80224184                                                                      |TV Show|MegaTruckers                                   |null                                       |null                                                                                                                                                                                                                                                                                                                                                                                                                                                                                                                         |Australia                                    |July 12, 2019|2012|TV-PG|1 Season|Reality TV                                                        |This reality ride-along offers a glimpse into the can-do, high-stakes world of big rig drivers who haul massive loads of cargo across Australia.                                                                                                        |\n",
      "|80224602                                                                      |TV Show|Money for Nothing                              |null                                       |null                                                                                                                                                                                                                                                                                                                                                                                                                                                                                                                         |null                                         |July 12, 2019|2015|TV-PG|1 Season|British TV Shows, International TV Shows, Reality TV              |Aided by designers and craftspeople, entrepreneur Sarah Moore rescues items bound for the garbage dump and turns them into valuable, unique objects.                                                                                                    |\n",
      "|81094069                                                                      |TV Show|One Spring Night                               |null                                       |Han Ji-min, Jung Hae-in, Kim Jun-han, Yim Sung-eon, Song Seung-hwan, Kil Hae-yeon, Lee Moo-saeng, Kim Chang-wan                                                                                                                                                                                                                                                                                                                                                                                                              |South Korea                                  |July 12, 2019|2019|TV-14|1 Season|International TV Shows, Korean TV Shows, Romantic TV Shows        |When Lee Jeong-in and Yu Ji-ho meet, something unexpected happens. Or it just may be that spring is in the air – and anything is possible.                                                                                                              |\n",
      "|81094893                                                                      |TV Show|PILI Fantasy: War of Dragons                   |null                                       |Wang Hsi-hua, Lai Wei, Zhang Yu-quan, Chen Yu-kuan, Gao Ming-xiao, Tian Zhi-jie, Li Xiang-yu, Guo Ya-zhen, Zhan Yi-chun, Ye Yu-jia                                                                                                                                                                                                                                                                                                                                                                                           |null                                         |July 12, 2019|2019|TV-14|1 Season|International TV Shows, TV Action & Adventure, TV Sci-Fi & Fantasy|As turmoil looms in the Martial World, and the Eight Wonders of the Evil Dragon unleashes dark forces, who will emerge as the new warrior legend?                                                                                                       |\n",
      "|80221677                                                                      |Movie  |Point Blank                                    |Joe Lynch                                  |Frank Grillo, Anthony Mackie, Marcia Gay Harden, Teyonah Parris, Boris McGiver, Christian Cooke, Markice Moore                                                                                                                                                                                                                                                                                                                                                                                                               |France, United States                        |July 12, 2019|2019|TV-MA|87 min  |Action & Adventure                                                |To save his pregnant wife, an emergency room nurse unwillingly partners with an injured murder suspect in a race against time and renegade cops.                                                                                                        |\n",
      "|70084221                                                                      |Movie  |Smart People                                   |Noam Murro                                 |Dennis Quaid, Sarah Jessica Parker, Thomas Haden Church, Ellen Page, Ashton Holmes, Christine Lahti, Camille Mana, David Denman, Don Wadsworth, Robert Haley                                                                                                                                                                                                                                                                                                                                                                 |United States                                |July 12, 2019|2008|R    |95 min  |Comedies, Dramas, Independent Movies                              |An unexpected romance and a surprise visit from his wild brother turn the life of widowed professor Lawrence Wetherhold upside down.                                                                                                                    |\n",
      "|81040704                                                                      |TV Show|Taco Chronicles                                |null                                       |null                                                                                                                                                                                                                                                                                                                                                                                                                                                                                                                         |United States                                |July 12, 2019|2019|TV-PG|1 Season|Docuseries, International TV Shows, Reality TV                    |Many of the most popular taco styles have long, rich, little-known histories. Explore some of them in this eye-opening, mouth-watering food adventure.                                                                                                  |\n",
      "|80234791                                                                      |Movie  |The Milk System                                |Andreas Pichler                            |null                                                                                                                                                                                                                                                                                                                                                                                                                                                                                                                         |Germany, Italy                               |July 12, 2019|2017|TV-14|91 min  |Documentaries, International Movies                               |Farmers, scientists and industry insiders delve into the hidden costs and consequences of global dairy production and offer up possible solutions.                                                                                                      |\n",
      "|81056491                                                                      |TV Show|True Tunes                                     |null                                       |Michela Luci, Jamie Watson, Eric Peterson, Anna Claire Bartlam, Nicolas Aqui, Cory Doran, Julie Lemieux                                                                                                                                                                                                                                                                                                                                                                                                                      |null                                         |July 12, 2019|2019|TV-Y |1 Season|Kids' TV                                                          |True and her friends are dropping sweet, silly beats with freshly modern music videos set to the sounds of classic nursery rhyme songs.                                                                                                                 |\n",
      "|80120200                                                                      |TV Show|Gonul                                          |Neslihan Yesilyurt                         |Gökçe Bahadır, Engin Öztürk, Onur Saylak                                                                                                                                                                                                                                                                                                                                                                                                                                                                                     |Turkey                                       |July 12, 2017|2015|TV-14|1 Season|International TV Shows, TV Dramas, TV Thrillers                   |A nurse escapes from her surgeon fiancé after his ex reveals his dark secrets. She later finds love again, but a car accident changes everything.                                                                                                       |\n",
      "|81088331                                                                      |TV Show|Chhota Bheem                                   |null                                       |Vatsal Dubey, Julie Tejwani, Rupa Bhimani, Jigna Bhardwaj, Rajesh Kava, Mousam, Swapnil                                                                                                                                                                                                                                                                                                                                                                                                                                      |India                                        |July 11, 2019|2019|TV-Y7|1 Season|Kids' TV                                                          |A brave, energetic little boy with superhuman powers leads his friends on exciting adventures to guard their fellow Dholakpur villagers from evil.                                                                                                      |\n",
      "|80234451                                                                      |TV Show|Family Reunion                                 |null                                       |Loretta Devine, Tia Mowry-Hardrict, Anthony Alabi, Talia Jackson, Isaiah Russell-Bailey, Cameron J. Wright, Jordyn Raya James, Richard Roundtree                                                                                                                                                                                                                                                                                                                                                                             |United States                                |July 11, 2019|2019|TV-PG|1 Season|TV Comedies                                                       |When the McKellan family moves from Seattle to small-town Georgia, life down South – and traditional grandparents – challenge their big-city ways.                                                                                                      |\n",
      "|80995079                                                                      |Movie  |Little Singham Bandarpur Mein Hu Ha Hu         |null                                       |Anamaya Verma, Ganesh Divekar, Jigna Bharadhwaj, Jitendra Dasadiva, Manoj Pandey, Manish Bhuvan, Meena Nahta, Neshma Chemburkar, Saumya Daan, Sonal Kaushal                                                                                                                                                                                                                                                                                                                                                                  |null                                         |July 11, 2019|2019|TV-Y7|67 min  |Children & Family Movies, Comedies                                |Little Singham's sidekick monkey, Chikki, is stuck in the magical land of Bandarpur! Can the kid cop save his beloved pet before danger strikes?                                                                                                        |\n",
      "|81036520                                                                      |Movie  |Parchís: the Documentary                       |Daniel Arasanz                             |null                                                                                                                                                                                                                                                                                                                                                                                                                                                                                                                         |Spain                                        |July 11, 2019|2019|TV-14|106 min |Documentaries, International Movies, Music & Musicals             |The spotlight's on Parchís, a record company-created Spanish boy/girl band that had unprecedented success with Top 10 songs and hit films in the '80s.                                                                                                  |\n",
      "|80180224                                                                      |Movie  |Us and Them                                    |Joseph Martin                              |Jack Roth, Tim Bentinck, Daniel Kendrick, Sophie Colquhoun, Paul Westwood, Carolyn Backhouse, Louis Dempsey, Andrew Tiernan                                                                                                                                                                                                                                                                                                                                                                                                  |United Kingdom                               |July 11, 2018|2017|TV-MA|83 min  |Dramas, International Movies, Thrillers                           |Tired of his lot in life, an angry young man persuades two of his pub buddies to record a home invasion as a protest against the \"one percent\".                                                                                                         |\n",
      "|70299904                                                                      |Movie  |The Battered Bastards of Baseball              |Chapman Way, Maclain Way                   |Todd Field, Kurt Russell                                                                                                                                                                                                                                                                                                                                                                                                                                                                                                     |United States                                |July 11, 2014|2014|NR   |80 min  |Documentaries, Sports Movies                                      |The colorful true story of the Portland Mavericks, a scrappy, independent baseball team of underdogs started by actor Bing Russell in the 1970s.                                                                                                        |\n",
      "|80171125                                                                      |Movie  |Sex Doll                                       |Sylvie Verheyde                            |Hafsia Herzi, Ash Stymest, Karole Rocher, Paul Hamy, Ira Max, Lindsay Karamoh, Myriam Djeljeli                                                                                                                                                                                                                                                                                                                                                                                                                               |United Kingdom, France                       |July 10, 2017|2016|UR   |103 min |Dramas, International Movies, Romantic Movies                     |A high-end call girl falls for a handsome man she meets at a nightclub, but he harbors a secret that throws a wrench in their relationship.                                                                                                             |\n",
      "|80106989                                                                      |Movie  |Summer of '92                                  |Kasper Barfoed                             |Ulrich Thomsen, Henning Jensen, Mikkel Boe Følsgaard, Cyron Melville, Esben Smed Jensen, Gustav Dyekjaer Giese, Jon Lange, Allan Hyde, Johannes Lassen, Morten Vang Simonsen                                                                                                                                                                                                                                                                                                                                                 |Denmark, United Kingdom                      |July 10, 2016|2015|NR   |94 min  |Dramas, International Movies, Sports Movies                       |When a quirk of fate kicks the Danish national soccer team into the European Championship final, the coach must whip his unprepared squad into shape.                                                                                                   |\n",
      "|80044731                                                                      |Movie  |Chris Tucker Live                              |Phil Joanou                                |Chris Tucker                                                                                                                                                                                                                                                                                                                                                                                                                                                                                                                 |United States                                |July 10, 2015|2015|TV-MA|92 min  |Stand-Up Comedy                                                   |Filmed in his hometown of Atlanta, Chris Tucker showcases his stand-up comedic chops as he shares his experiences from childhood to the big time.                                                                                                       |\n",
      "|60010069                                                                      |Movie  |Alice Doesn't Live Here Anymore                |Martin Scorsese                            |Ellen Burstyn, Kris Kristofferson, Billy Green Bush, Diane Ladd, Harvey Keitel, Lelia Goldoni, Lane Bradbury, Vic Tayback, Jodie Foster, Alfred Lutter                                                                                                                                                                                                                                                                                                                                                                       |United States                                |July 1, 2019 |1974|PG   |112 min |Classic Movies, Comedies, Dramas                                  |A widowed singer and single mother starts over as a diner waitress in Arizona, befriending her coworkers and romancing a ruggedly handsome rancher.                                                                                                     |\n",
      "|70241791                                                                      |TV Show|DreamWorks Kung Fu Panda Awesome Secrets       |null                                       |Jack Black, Dustin Hoffman, Dennis Haysbert, Paul Scheer, Randall Duk Kim, David Cross, Jessica DiCicco, Jaycee Chan, Angelina Jolie, Seth Rogen, Tony Leondis                                                                                                                                                                                                                                                                                                                                                               |United States                                |July 1, 2019 |2008|TV-PG|1 Season|Kids' TV, TV Action & Adventure, TV Comedies                      |In this pair of adventures, Po tells the story of how masters Thundering Rhino, Storming Ox and Croc met and takes on Shifu's biggest challenge yet.                                                                                                    |\n",
      "|81099997                                                                      |TV Show|Flowering Heart                                |null                                       |Choi Da-in, Yang Se-na, Gim Chae-eun, Esther, Um Sang-hyun, Shin Yong-woo                                                                                                                                                                                                                                                                                                                                                                                                                                                    |South Korea                                  |July 1, 2019 |2016|TV-Y7|1 Season|Kids' TV, Korean TV Shows                                         |An ordinary student, who forms an advice club with her friends to help others, gains special powers after a mysterious encounter.                                                                                                                       |\n",
      "|70084148                                                                      |Movie  |Frozen River                                   |Courtney Hunt                              |Melissa Leo, Misty Upham, Charlie McDermott, Michael O'Keefe, Mark Boone Junior, James Reilly, Jay Klaitz, John Canoe, Dylan Carusona, Michael Sky                                                                                                                                                                                                                                                                                                                                                                           |United States                                |July 1, 2019 |2008|R    |97 min  |Dramas, Independent Movies                                        |On a Mohawk reservation on the Canadian border, Ray Eddy teams with a widowed tribe member to smuggle illegal immigrants into the United States.                                                                                                        |\n",
      "|70101345                                                                      |Movie  |Inkheart                                       |Iain Softley                               |Brendan Fraser, Paul Bettany, Helen Mirren, Jim Broadbent, Andy Serkis, Sienna Guillory, Eliza Bennett, Rafi Gavron, Lesley Sharp, Jamie Foreman                                                                                                                                                                                                                                                                                                                                                                             |Germany, United Kingdom, United States       |July 1, 2019 |2008|PG   |106 min |Action & Adventure, Children & Family Movies, Sci-Fi & Fantasy    |Unbeknownst to his 12-year-old daughter, a bookbinder has a secret ability to bring characters to life by reading their stories out loud.                                                                                                               |\n",
      "|80189451                                                                      |TV Show|Inside the Mind of a Serial Killer             |null                                       |null                                                                                                                                                                                                                                                                                                                                                                                                                                                                                                                         |United States                                |July 1, 2019 |2015|TV-14|1 Season|Crime TV Shows, Docuseries                                        |Mixing dramatic re-enactments with real-life footage, this series delves into the tormented psyches of the world's most infamous serial killers.                                                                                                        |\n",
      "|80238020                                                                      |Movie  |Katherine Ryan: Glitter Room                   |Linda Mendoza                              |Katherine Ryan                                                                                                                                                                                                                                                                                                                                                                                                                                                                                                               |United States                                |July 1, 2019 |2019|TV-MA|66 min  |Stand-Up Comedy                                                   |Fresh from a tour, comedian Katherine Ryan shares shrewd observations about school bullies, revenge bodies and raising a very fancy child.                                                                                                              |\n",
      "|70128697                                                                      |Movie  |Kill the Irishman                              |Jonathan Hensleigh                         |Ray Stevenson, Vincent D'Onofrio, Val Kilmer, Christopher Walken, Linda Cardellini, Fionnula Flanagan, Jason Butler Harner, Vinnie Jones, Paul Sorvino, Marcus Thomas, Tony Darrow, Jim Gaffigan, Jeremy Davies, Emma Roberts, Viola Davis, Lauren Graham, Zoë Kravitz, Aasif Mandvi, Keir Gilchrist                                                                                                                                                                                                                         |United States                                |July 1, 2019 |2011|R    |106 min |Action & Adventure, Dramas, Independent Movies                    |This true crime tale charts the rise and fall of mobster Danny Greene, who faced down the Mafia to gain control of organized crime in 1970s Cleveland.                                                                                                  |\n",
      "|70044688                                                                      |Movie  |Lady in the Water                              |M. Night Shyamalan                         |Paul Giamatti, Bryce Dallas Howard, Jeffrey Wright, Bob Balaban, Sarita Choudhury, Cindy Cheung, M. Night Shyamalan, Freddy Rodríguez, Bill Irwin, Mary Beth Hurt                                                                                                                                                                                                                                                                                                                                                            |United States                                |July 1, 2019 |2006|PG-13|110 min |Sci-Fi & Fantasy, Thrillers                                       |When an apartment building manager discovers a water nymph in the complex's swimming pool, he tries to help her return to her mythical home.                                                                                                            |\n",
      "|60035622                                                                      |Movie  |Little Monsters                                |Richard Greenberg                          |Fred Savage, Howie Mandel, Daniel Stern, Margaret Whitton, Rick Ducommun, Frank Whaley, Ben Savage, William Murray Weiss, Devin Ratray, Amber Barretto, J. Michael Hunter, Tom Hull                                                                                                                                                                                                                                                                                                                                          |United States                                |July 1, 2019 |1989|PG   |102 min |Children & Family Movies, Comedies                                |Brian knows there are creatures under his bed. When he faces his fears and confronts them, however, he makes some hilariously weird new friends.                                                                                                        |\n",
      "|80117079                                                                      |Movie  |Mean Dreams                                    |Nathan Morlando                            |Bill Paxton, Sophie Nélisse, Josh Wiggins, Colm Feore, Vickie Papavs, Joe Cobden, Ryan Blakely, George Buza                                                                                                                                                                                                                                                                                                                                                                                                                  |Canada                                       |July 1, 2019 |2016|R    |105 min |Dramas, Independent Movies, Thrillers                             |Desperate to start a new life with his girlfriend, a teenage boy steals drug money from her father, who happens to be the town's corrupt lawman.                                                                                                        |\n",
      "|70001958                                                                      |Movie  |Mean Streets                                   |Martin Scorsese                            |Robert De Niro, Harvey Keitel, David Proval, Amy Robinson, Richard Romanus, Cesare Danova, Victor Argo, George Memmoli                                                                                                                                                                                                                                                                                                                                                                                                       |United States                                |July 1, 2019 |1973|R    |112 min |Classic Movies, Dramas, Independent Movies                        |In New York's Little Italy, a low-level hoodlum wrestles with loyalty to his mobster uncle, his faith and his friendship with an inveterate gambler.                                                                                                    |\n",
      "|81099996                                                                      |TV Show|Molang                                         |null                                       |Bruno Guéraçague                                                                                                                                                                                                                                                                                                                                                                                                                                                                                                             |France                                       |July 1, 2019 |2015|TV-Y |1 Season|Kids' TV                                                          |An imaginative, big-hearted bunny and his friend, a shy chick, explore the everyday joys of their pastel-colored world.                                                                                                                                 |\n",
      "|70066433                                                                      |Movie  |Next                                           |Lee Tamahori                               |Nicolas Cage, Julianne Moore, Jessica Biel, Thomas Kretschmann, Tory Kittles, José Zúñiga, Jim Beaver, Jason Butler Harner, Michael Trucco, Enzo Cilenti                                                                                                                                                                                                                                                                                                                                                                     |United States                                |July 1, 2019 |2007|PG-13|96 min  |Action & Adventure, Sci-Fi & Fantasy                              |Las Vegas magician Cris can see a few minutes into the future and an FBI agent wants his help thwarting a nuclear attack.                                                                                                                               |\n",
      "|70098899                                                                      |Movie  |Nights in Rodanthe                             |George C. Wolfe                            |Richard Gere, Diane Lane, Christopher Meloni, Viola Davis, Becky Ann Baker, Scott Glenn, Linda Molloy, Pablo Schreiber, Mae Whitman, Charlie Tahan                                                                                                                                                                                                                                                                                                                                                                           |United States, Australia                     |July 1, 2019 |2008|PG-13|97 min  |Dramas, Romantic Movies                                           |When a hurricane hits a coastal North Carolina inn and strands the only guest, surgeon Paul Flanner, a young woman's life changes forever.                                                                                                              |\n",
      "|81121171                                                                      |Movie  |NOVA: Bird Brain                               |null                                       |Craig Sechler                                                                                                                                                                                                                                                                                                                                                                                                                                                                                                                |United States                                |July 1, 2019 |2017|TV-G |53 min  |Children & Family Movies, Documentaries                           |Scientists test avian aptitude and challenge concepts of intelligence with examples ranging from puzzle-solving crows to parrots with a sense of time.                                                                                                  |\n",
      "|81121172                                                                      |Movie  |NOVA: Black Hole Apocalypse                    |Rushmore DeNooyer                          |Janna Levin                                                                                                                                                                                                                                                                                                                                                                                                                                                                                                                  |United States                                |July 1, 2019 |2018|TV-G |113 min |Documentaries                                                     |Astrophysicists show how black holes might hold answers to how the universe evolved, leading to life on Earth and, ultimately, the human race.                                                                                                          |\n",
      "|81121173                                                                      |Movie  |NOVA: Building Chernobyl's MegaTomb            |Martin Gorst                               |Eric Meyers                                                                                                                                                                                                                                                                                                                                                                                                                                                                                                                  |United States                                |July 1, 2019 |2017|TV-PG|53 min  |Documentaries                                                     |Thirty years after Chernobyl’s nuclear disaster, engineers race against time to complete a new dome to contain the reactor’s lethal radiation.                                                                                                          |\n",
      "|81121174                                                                      |Movie  |NOVA: Chinese Chariot Revealed                 |Giulia Clark                               |Eric Meyers                                                                                                                                                                                                                                                                                                                                                                                                                                                                                                                  |United States                                |July 1, 2019 |2017|TV-PG|54 min  |Documentaries                                                     |The chariot dominated Chinese warfare for millennia. Now, a team of experts is building their own and unlocking its many secrets.                                                                                                                       |\n",
      "|81121175                                                                      |Movie  |NOVA: Day the Dinosaurs Died                   |Sarah Holt                                 |Craig Sechler                                                                                                                                                                                                                                                                                                                                                                                                                                                                                                                |United States                                |July 1, 2019 |2017|TV-PG|53 min  |Documentaries                                                     |Drilling into the impact crater of the asteroid that wiped out the dinosaurs, a group of scientists unearths new evidence about the catastrophic event.                                                                                                 |\n",
      "|81121176                                                                      |Movie  |NOVA: Death Dive to Saturn                     |Terri Randall                              |Craig Sechler                                                                                                                                                                                                                                                                                                                                                                                                                                                                                                                |United States                                |July 1, 2019 |2017|TV-G |54 min  |Documentaries                                                     |After decades of amazing discoveries, spacecraft Cassini embarks on its final – and most daring – mission: a dive below Saturn’s rings.                                                                                                                 |\n",
      "|81121177                                                                      |Movie  |NOVA: Decoding the Weather Machine             |Doug Hamilton                              |Jay O. Sanders                                                                                                                                                                                                                                                                                                                                                                                                                                                                                                               |United States                                |July 1, 2019 |2018|TV-14|113 min |Documentaries                                                     |Scientists investigate Earth’s climate machine, looking for clues across the globe, from Greenland’s ice sheet to the desert of Australia.                                                                                                              |\n",
      "|81121178                                                                      |Movie  |NOVA: Eclipse Over America                     |Martin Gorst                               |null                                                                                                                                                                                                                                                                                                                                                                                                                                                                                                                         |United States                                |July 1, 2019 |2017|TV-G |53 min  |Documentaries                                                     |Scientists reveal how the 2017 solar eclipse provided new clues into how the sun works, from its scorching atmosphere to its deadly solar storms.                                                                                                       |\n",
      "|81121179                                                                      |Movie  |NOVA: Extreme Animal Weapons                   |Peter Fison                                |Doug Averill                                                                                                                                                                                                                                                                                                                                                                                                                                                                                                                 |United States                                |July 1, 2019 |2017|TV-PG|53 min  |Documentaries                                                     |From huge tusks to giant horns, some animals sport weaponry that’s larger than life. Researchers explain the science behind this biological arms race.                                                                                                  |\n",
      "|81121180                                                                      |Movie  |NOVA: First Face of America                    |Graham Townsley                            |Jay O. Sanders                                                                                                                                                                                                                                                                                                                                                                                                                                                                                                               |United States                                |July 1, 2019 |2018|TV-PG|53 min  |Documentaries                                                     |During risky expeditions in an underwater cave, scientists unearth a 13,000-year-old skeleton to gain insight into the earliest known humans in America.                                                                                                |\n",
      "|81121181                                                                      |Movie  |NOVA: Holocaust Escape Tunnel                  |Paula Apsell, Kirk Wolfinger               |null                                                                                                                                                                                                                                                                                                                                                                                                                                                                                                                         |United States                                |July 1, 2019 |2017|TV-14|54 min  |Documentaries                                                     |At a former Nazi execution site in Lithuania, an international team of archaeologists searches for a lost escape tunnel dug by Jewish prisoners.                                                                                                        |\n",
      "|81121182                                                                      |Movie  |NOVA: Killer Floods                            |null                                       |Craig Sechler                                                                                                                                                                                                                                                                                                                                                                                                                                                                                                                |United States                                |July 1, 2019 |2017|TV-PG|54 min  |Documentaries                                                     |Scientists search for evidence left behind by the world’s greatest floods and predict if climate change will cause even greater aquatic disasters.                                                                                                      |\n",
      "|81121183                                                                      |Movie  |NOVA: Killer Hurricanes                        |Oliver Twinch                              |Craig Sechler                                                                                                                                                                                                                                                                                                                                                                                                                                                                                                                |United States                                |July 1, 2019 |2017|TV-PG|52 min  |Documentaries                                                     |Scientists research the world’s deadliest hurricane, trying to understand what this 18th-century storm could tell us about our own future.                                                                                                              |\n",
      "|81121184                                                                      |Movie  |NOVA: Killer Volcanoes                         |Oliver Twinch                              |Craig Sechler                                                                                                                                                                                                                                                                                                                                                                                                                                                                                                                |United States                                |July 1, 2019 |2017|TV-PG|54 min  |Documentaries                                                     |Evidence of a mysterious medieval famine leads researchers on a quest for one of the deadliest volcanoes in human history.                                                                                                                              |\n",
      "|81121185                                                                      |Movie  |NOVA: Poisoned Water                           |Llewellyn M. Smith                         |Joe Morton                                                                                                                                                                                                                                                                                                                                                                                                                                                                                                                   |United States                                |July 1, 2019 |2017|TV-PG|54 min  |Documentaries                                                     |This documentary details how the water disaster in Flint, Michigan happened, its lasting effects, and the lengthy efforts it took to correct it.                                                                                                        |\n",
      "|81121186                                                                      |Movie  |NOVA: Prediction by the Numbers                |Daniel McCabe                              |Jay O. Sanders                                                                                                                                                                                                                                                                                                                                                                                                                                                                                                               |United States                                |July 1, 2019 |2018|TV-G |53 min  |Documentaries                                                     |With the science of forecasting flourishing, this documentary explores how predictions inform our lives and statistics and algorithms' reliability.                                                                                                     |\n",
      "|81121187                                                                      |Movie  |NOVA: Secrets of the Shining Knight            |Peter Yost                                 |Jay O. Sanders                                                                                                                                                                                                                                                                                                                                                                                                                                                                                                               |United States                                |July 1, 2019 |2017|TV-PG|53 min  |Documentaries                                                     |A master armorer and his team recreate parts of a knight's medieval armor and test its strength while rediscovering centuries-old metalworking secrets.                                                                                                 |\n",
      "|81121188                                                                      |Movie  |NOVA: Thai Cave Rescue                         |Tom Stubberfield                           |null                                                                                                                                                                                                                                                                                                                                                                                                                                                                                                                         |United States                                |July 1, 2019 |2018|TV-PG|53 min  |Documentaries                                                     |An international team of rescue workers race to save 12 young soccer players and their coach trapped in a flooded cave in Thailand.                                                                                                                     |\n",
      "|81121189                                                                      |Movie  |NOVA: The Impossible Flight                    |Noel Dockstader, Quinn Kanaly              |null                                                                                                                                                                                                                                                                                                                                                                                                                                                                                                                         |United States                                |July 1, 2019 |2018|TV-PG|113 min |Documentaries                                                     |Two adventurous pilots attempt to fly around the world without using any fuel, relying only on the power of the sun.                                                                                                                                    |\n",
      "|70265211                                                                      |Movie  |Nova: Ultimate Mars Challenge                  |Gail Willumsen                             |Lance Lewman                                                                                                                                                                                                                                                                                                                                                                                                                                                                                                                 |United States                                |July 1, 2019 |2012|TV-G |53 min  |Movies                                                            |With access to the scientists and engineers responsible for the Curiosity rover's on-the-ground experiments, NOVA captures its landing on Mars.                                                                                                         |\n",
      "|70109689                                                                      |Movie  |null                                           |Steve Carr                                 |Kevin James, Keir O'Donnell, Jayma Mays, Raini Rodriguez, Shirley Knight, Stephen Rannazzisi, Peter Gerety, Bobby Cannavale, Adam Ferrara, Jamal Mixon, Adhir Kalyan, Gary Valentine                                                                                                                                                                                                                                                                                                                                         |United States                                |July 1, 2019 |2009|PG   |91 min  |Action & Adventure, Comedies                                      |An overzealous security guard finds himself in over his head when he tries to thwart a criminal mastermind's plot to rob an entire shopping mall.                                                                                                       |\n",
      "|855084                                                                        |Movie  |Philadelphia                                   |Jonathan Demme                             |Tom Hanks, Denzel Washington, Jason Robards, Mary Steenburgen, Antonio Banderas, Ron Vawter, Robert Ridgely, Charles Napier, Lisa Summerour, Obba Babatundé                                                                                                                                                                                                                                                                                                                                                                  |United States                                |July 1, 2019 |1993|PG-13|126 min |Classic Movies, Dramas, LGBTQ Movies                              |Philadelphia attorney Andrew Beckett launches a wrongful termination suit against his law firm when they fire him because he's gay and HIV-positive.                                                                                                    |\n",
      "|80005772                                                                      |TV Show|Rabbids Invasion                               |null                                       |Damien Laquet, David Gasman, Barbara Scaff                                                                                                                                                                                                                                                                                                                                                                                                                                                                                   |France                                       |July 1, 2019 |2018|TV-Y7|1 Season|Kids' TV, TV Comedies                                             |Giant, rambunctious rabbits have invaded and are wreaking havoc on the world. But we'll have to get used to them, because they're not going anywhere!                                                                                                   |\n",
      "|70105369                                                                      |Movie  |Race to Witch Mountain                         |Andy Fickman                               |Dwayne Johnson, AnnaSophia Robb, Alexander Ludwig, Carla Gugino, Ciarán Hinds, Tom Everett Scott, Chris Marquette, Billy Brown, Christine Lakin, Tom Woodruff Jr., John Kassir, Garry Marshall, John Duff, Ted Hartley, Dave Engfer, Bob Clendenin, Shengyi Huang, Robert Torti, Kim Richards, Brandon Miller, Paul Darnell, Omar Dorsey, Dennis Hayden, Suzanne Krull, Steve Rosenbaum, Andrew Shaifer, Bryan Fogel, Bob Koherr, Sam Wolfson, Beth Kennedy, Corri English, Jonathan Slavin, Kevin Christy, Meredith Salenger|United States                                |July 1, 2019 |2009|PG   |99 min  |Children & Family Movies                                          |A sister and brother with special powers are on the run from a mysterious organization that wants to take advantage of the siblings' gifts.                                                                                                             |\n",
      "|60029369                                                                      |Movie  |Rain Man                                       |Barry Levinson                             |Dustin Hoffman, Tom Cruise, Valeria Golino, Gerald R. Molen, Jack Murdock, Michael D. Roberts, Ralph Seymour, Lucinda Jenney, Bonnie Hunt                                                                                                                                                                                                                                                                                                                                                                                    |United States                                |July 1, 2019 |1988|R    |134 min |Classic Movies, Dramas                                            |A fast-talking yuppie is forced to slow down when he meets the brother he never knew he had, an unusually gifted autistic savant named Raymond.                                                                                                         |\n",
      "|81086718                                                                      |TV Show|Record of Grancrest War                        |null                                       |Kentaro Kumagai, Akari Kito, Yuichi Nakamura, Reina Ueda, Satoshi Hino, Yoshitsugu Matsuoka, Natsumi Takamori, Ai Kayano, Takahiro Sakurai, Wataru Hatano, Yuichi Iguchi, Minori Suzuki, Megumi Nakajima, Yuhko Kaida, Chika Anzai, Yumi Uchiyama, Kaede Hondo, Satoshi Mikami, Ayane Sakura, Ari Ozawa, Tatsuhisa Suzuki, Hiro Shimono                                                                                                                                                                                      |Japan                                        |July 1, 2019 |2018|TV-MA|1 Season|Anime Series                                                      |Lone mage Siluca wanders the land of Atlatan, disgusted by its greedy nobility. When she meets knight errant Theo, she sees a chance to create peace.                                                                                                   |\n",
      "|80005738                                                                      |Movie  |Room on the Broom                              |Max Lang, Jani Lachauer                    |Simon Pegg, Gillian Anderson, Rob Brydon, Martin Clunes, Sally Hawkins, David Walliams, Timothy Spall                                                                                                                                                                                                                                                                                                                                                                                                                        |United Kingdom                               |July 1, 2019 |2012|G    |26 min  |Children & Family Movies, Independent Movies                      |A gentle witch with a ginger braid offers rides to a variety of animals on her increasingly crowded broom, much to her grumpy cat's chagrin.                                                                                                            |\n",
      "|60000415                                                                      |Movie  |Scream 3                                       |Wes Craven                                 |David Arquette, Neve Campbell, Courteney Cox, Patrick Dempsey, Scott Foley, Lance Henriksen, Matt Keeslar, Jenny McCarthy, Emily Mortimer, Parker Posey, Deon Richmond, Kelly Rutherford, Liev Schreiber, Patrick Warburton, Jamie Kennedy                                                                                                                                                                                                                                                                                   |United States                                |July 1, 2019 |2000|R    |117 min |Horror Movies                                                     |This installment of the tongue-in-cheek horror franchise finds Sidney Prescott once again battling a crazed killer – this time, on a movie set.                                                                                                         |\n",
      "|70112731                                                                      |Movie  |Shorts                                         |Robert Rodriguez                           |Jimmy Bennett, Jake Short, Kat Dennings, Trevor Gagnon, Devon Gearhart, Jolie Vanier, Rebel Rodriguez, Leo Howard, Leslie Mann, Jon Cryer, William H. Macy, James Spader                                                                                                                                                                                                                                                                                                                                                     |United States, United Arab Emirates          |July 1, 2019 |2009|PG   |89 min  |Children & Family Movies, Comedies                                |Chaos erupts when locals learn that an 11-year-old boy has discovered a mysterious rock that grants the wishes of whoever possesses it.                                                                                                                 |\n",
      "|81130297                                                                      |Movie  |Soul to Keep                                   |David Allensworth, Monière                 |Sandra Mae Frank, Aurora Heimbach, Craig Fogel, Tony Spitz, Jordan Theodore, Kate Rose Reynolds, Jessie Jordan, Derek Long, Sophia Getz, Amelia Sheeler                                                                                                                                                                                                                                                                                                                                                                      |United States                                |July 1, 2019 |2019|TV-MA|94 min  |Horror Movies, Independent Movies                                 |Two siblings invite friends to their inherited, remote country home, but the fun stops when the group summons a demonic force from an old spellbook.                                                                                                    |\n",
      "|60033320                                                                      |Movie  |Starsky & Hutch                                |Todd Phillips                              |Ben Stiller, Owen Wilson, Vince Vaughn, Juliette Lewis, Snoop Dogg, Fred Williamson, Jason Bateman, Amy Smart, Carmen Electra, George Cheung                                                                                                                                                                                                                                                                                                                                                                                 |United States                                |July 1, 2019 |2004|PG-13|101 min |Action & Adventure, Comedies                                      |New undercover cop partners Starsky and Hutch must overcome their differences to solve an important case with help from street informant Huggy Bear.                                                                                                    |\n",
      "|81100120                                                                      |TV Show|Stone Age                                      |null                                       |Samantha Moon, Nancy Kim, Jacqueline Youn, Mike Yantzi, Anna Paik, Matt Anipen, Josh Schwartzentruber                                                                                                                                                                                                                                                                                                                                                                                                                        |null                                         |July 1, 2019 |2017|TV-Y7|1 Season|Kids' TV, Korean TV Shows                                         |Woody sets out to become the Stone Age's best animal trainer with a little help from his faithful pet dinosaur, Moga.                                                                                                                                   |\n",
      "|81060038                                                                      |Movie  |Swiped                                         |Ann Deborah Fishman                        |Kendall Ryan Sanders, Noah Centineo, Nathan Gamble, Kristen Johnston, Leigh-Allyn Baker, Christian Hutcherson, Shelby Wulfert, Steve Daron, Kalani Hilliker, Maddy Curley, George Hamilton                                                                                                                                                                                                                                                                                                                                   |United States                                |July 1, 2019 |2018|TV-14|94 min  |Comedies                                                          |When two college roommates develop a groundbreaking hookup app, casual affairs – and complications – soon run rampant on campus.                                                                                                                        |\n",
      "|60020745                                                                      |Movie  |Swordfish                                      |Dominic Sena                               |John Travolta, Hugh Jackman, Halle Berry, Don Cheadle, Sam Shepard, Vinnie Jones, Drea de Matteo, Rudolf Martin, Zach Grenier, Camryn Grimes                                                                                                                                                                                                                                                                                                                                                                                 |United States                                |July 1, 2019 |2001|R    |99 min  |Action & Adventure                                                |Determined to get his mitts on $9 billion in a secret DEA account so he can fight terrorism, a rogue agent recruits an encryption expert to hack in.                                                                                                    |\n",
      "|# (87.8 percent Baxter memorize them. Extra dials, buttons, and controls their|null   |null                                           |null                                       |null                                                                                                                                                                                                                                                                                                                                                                                                                                                                                                                         |null                                         |null         |null|null |null    |null                                                              |null                                                                                                                                                                                                                                                    |\n",
      "|81113468                                                                      |Movie  |Tayo the Little Bus Movie: Mission Ace         |Ryu Jung-woo                               |Moon Nam-sook, Jeong Hye-ok, Choe Hana, Gim Yeong-seon                                                                                                                                                                                                                                                                                                                                                                                                                                                                       |United States                                |July 1, 2019 |2016|TV-Y7|48 min  |Children & Family Movies                                          |After he loses his favorite racing car, Duri ventures to a mysterious, magical land filled with toys that have been thrown away.                                                                                                                        |\n",
      "|81017506                                                                      |Movie  |The Accountant of Auschwitz                    |Matthew Shoychet                           |null                                                                                                                                                                                                                                                                                                                                                                                                                                                                                                                         |Canada                                       |July 1, 2019 |2018|TV-14|78 min  |Documentaries, International Movies                               |Decades after WWII, a former SS officer stands trial in his native Germany after being charged for his complicity in the murder of Jews at Auschwitz.                                                                                                   |\n",
      "|70114342                                                                      |Movie  |The Book of Eli                                |Albert Hughes, Allen Hughes                |Denzel Washington, Gary Oldman, Mila Kunis, Ray Stevenson, Jennifer Beals, Evan Jones, Joe Pingue, Frances de la Tour, Michael Gambon, Tom Waits                                                                                                                                                                                                                                                                                                                                                                             |United States                                |July 1, 2019 |2010|R    |118 min |Action & Adventure, Sci-Fi & Fantasy                              |Determined to protect a sacred text that promises to save humanity, Eli goes on a quest westward across the barren, postapocalyptic country.                                                                                                            |\n",
      "|70021661                                                                      |Movie  |The Brothers Grimm                             |Terry Gilliam                              |Matt Damon, Heath Ledger, Monica Bellucci, Lena Headey, Peter Stormare, Jonathan Pryce, Roger Ashton-Griffiths, Richard Ridings, Mackenzie Crook, Julian Bleach, Tomás Hanák, Laura Greenwood                                                                                                                                                                                                                                                                                                                                |United States, Czech Republic, United Kingdom|July 1, 2019 |2005|PG-13|119 min |Action & Adventure, Sci-Fi & Fantasy                              |Brothers Jake and Will Grimm travel from village to village, posing as exterminators of magical creatures. But in reality, they're expert con artists.                                                                                                  |\n",
      "|70084795                                                                      |Movie  |The Forbidden Kingdom                          |Rob Minkoff                                |Jackie Chan, Jet Li, Collin Chou, Liu Yifei, Li Bingbing, Michael Angarano, Morgan Benoit, Juana Collignon, Wang Deshun, Thomas McDonell                                                                                                                                                                                                                                                                                                                                                                                     |United States, China                         |July 1, 2019 |2008|PG-13|104 min |Action & Adventure, Sci-Fi & Fantasy                              |Jackie Chan and Jet Li star in this rousing adventure about a martial arts movie fan who finds a mystical staff that transports him to ancient China.                                                                                                   |\n",
      "|60027701                                                                      |Movie  |The In-Laws                                    |Andrew Fleming                             |Michael Douglas, Albert Brooks, Robin Tunney, Ryan Reynolds, David Suchet, Lindsay Sloane, Russell Andrews, Maria Ricossa, Candice Bergen                                                                                                                                                                                                                                                                                                                                                                                    |United States, Germany, Canada               |July 1, 2019 |2003|PG-13|98 min  |Action & Adventure, Comedies                                      |Daredevil secret agent and father of the groom Steve gives conservative podiatrist and father of the bride Jerry prenuptial jitters when they meet.                                                                                                     |\n",
      "|70021654                                                                      |Movie  |The Pink Panther                               |Shawn Levy                                 |Steve Martin, Kevin Kline, Beyoncé Knowles-Carter, Jean Reno, Emily Mortimer, Henry Czerny, Kristin Chenoweth, Roger Rees, Philip Goodwin, Henri Garcin, William Abadie                                                                                                                                                                                                                                                                                                                                                      |United States, Czech Republic                |July 1, 2019 |2006|PG   |93 min  |Children & Family Movies, Comedies                                |Bumbling Inspector Clouseau must solve the murder of a world-famous soccer coach and catch the thief who stole his priceless diamond ring.                                                                                                              |\n",
      "|81099976                                                                      |TV Show|Titipo Titipo                                  |null                                       |Jeon Hae-ri, Kim Eun-ah, Hong Bum-ki, Nam Do-hyeong, Um Sang-hyun                                                                                                                                                                                                                                                                                                                                                                                                                                                            |null                                         |July 1, 2019 |2018|TV-Y |1 Season|Kids' TV, Korean TV Shows                                         |Titipo the train is out to prove that he's got what it takes to help the folks of Train Village ride the rails safely and reliably.                                                                                                                     |\n",
      "|81077862                                                                      |Movie  |War Against Women                              |Hernán Zin                                 |null                                                                                                                                                                                                                                                                                                                                                                                                                                                                                                                         |United States, Spain                         |July 1, 2019 |2013|TV-14|61 min  |Documentaries, International Movies                               |Filmed over three years in 10 countries, this documentary gives voice to the women who have become victims of sexual violence as weapons of war.                                                                                                        |\n",
      "|70001777                                                                      |Movie  |Who's That Knocking at My Door?                |Martin Scorsese                            |Zina Bethune, Harvey Keitel, Anne Collette, Lennard Kuras, Michael Scala, Harry Northup, Susan Wood, Marissa Mathes, Catherine Scorsese                                                                                                                                                                                                                                                                                                                                                                                      |United States                                |July 1, 2019 |1967|R    |90 min  |Classic Movies, Dramas, Independent Movies                        |A woman's revelation that she was once raped sends her boyfriend, a reformed street thug, into an emotional and spiritual tailspin.                                                                                                                     |\n",
      "|80182447                                                                      |Movie  |Angamaly Diaries                               |Lijo Jose Pellissery                       |Antony Varghese, Sarath Kumar, Tito Wilson, Reshma Rajan, Vineeth Vishwam, Kichu Tellus, Bitto Davis, Ullas Jose Chemban, Merin Jose Pottackal, Binny Rinky Benjamin, Amrutha Anna Reji                                                                                                                                                                                                                                                                                                                                      |India                                        |July 1, 2018 |2017|TV-14|128 min |Action & Adventure, Comedies, Dramas                              |After growing up amidst the gang wars of his hometown, Vincent forms an entrepreneurial squad of his own and ends up on the wrong side of the law.                                                                                                      |\n",
      "|70055855                                                                      |Movie  |Anthony Kaun Hai?                              |Raj Kaushal                                |Sanjay Dutt, Arshad Warsi, Minissha Lamba, Raghuvir Yadav, Anusha Dhandekar, Gulshan Grover, Ravi Baswani                                                                                                                                                                                                                                                                                                                                                                                                                    |India                                        |July 1, 2018 |2006|TV-14|122 min |Comedies, Dramas, International Movies                            |A forger uses a fake identity in trying to retrieve stolen diamonds buried in a penitentiary, unaware a mob assassin is on the trail of his phony alias.                                                                                                |\n",
      "|70295560                                                                      |Movie  |Bo Burnham: what.                              |Bo Burnham, Christopher Storer             |Bo Burnham                                                                                                                                                                                                                                                                                                                                                                                                                                                                                                                   |United States                                |July 1, 2018 |2013|TV-MA|60 min  |Stand-Up Comedy                                                   |Left brain and right brain duke it out – and ultimately belt out a melody – in stand-up comedian Bo Burnham's quick and clever one-man show.                                                                                                            |\n",
      "|80994575                                                                      |Movie  |Cappuccino                                     |Noushad                                    |Dharmajan Bolgatty, Aneesh Menon, Sunil Sukhada, Anita Lukmance, Kottayam Pradeep, Natasha Doshi, Hareesh Perumanna, Sharanya, Vineeth Mohan, Sudhi Koppa                                                                                                                                                                                                                                                                                                                                                                    |India                                        |July 1, 2018 |2017|TV-14|126 min |Comedies, Dramas, International Movies                            |Richi is a director of commercials whose computer memory drive is accidentally switched with that of Sneha, a woman he soon falls in love with.                                                                                                         |\n",
      "|60036112                                                                      |Movie  |Chalte Chalte                                  |Aziz Mirza                                 |Shah Rukh Khan, Rani Mukerji, Jas Arora, Satish Shah, Rajiv Verma, Lillete Dubey, Jayshree T., Johny Lever                                                                                                                                                                                                                                                                                                                                                                                                                   |India                                        |July 1, 2018 |2003|TV-PG|166 min |Dramas, International Movies, Romantic Movies                     |Priya and Raj are polar opposites. Raj is brash and earthy, while Pirya is sophisticated and something of a perfectionist in all she does. They really are like oil and water, but nonetheless, they dare to fall in love.                              |\n",
      "|80994424                                                                      |Movie  |Chicken Kokkachi                               |Anuranjan Premji                           |Anuranjan Premji, Indrans, Dharmajan Bolgatty, Sudhi Koppa, Bijukuttan, Neha Rathanakaran, Prasanth                                                                                                                                                                                                                                                                                                                                                                                                                          |India                                        |July 1, 2018 |2017|TV-14|113 min |Comedies, International Movies                                    |In the wake of his sister's marriage, a young middle-class man leaves his village and learns that supporting one's self is easier said than done.                                                                                                       |\n",
      "|80229417                                                                      |TV Show|Comedy High School                             |null                                       |Ram Kapoor, Gopal Dutt, Paritosh Tripathi, Krishna Bhatt, Jasmeet Bhatia, Deepak Dutta, Parvati Sehgal, Surleen Kaur                                                                                                                                                                                                                                                                                                                                                                                                         |null                                         |July 1, 2018 |2018|TV-14|1 Season|International TV Shows, TV Comedies                               |Featuring goofy sketches and celebrity appearances, this offbeat stage show follows an assortment of oddball characters at an eccentric high school.                                                                                                    |\n",
      "|80997402                                                                      |Movie  |Counterfeiting in Suburbia                     |Jason Bourque                              |Sarah Butler, Larissa Albuquerque, Kayla Wallace, Matthew MacCaull, James Dean, Alison Wandzura, Bruce Blain, Natalie Grace, Phillip Mitchell                                                                                                                                                                                                                                                                                                                                                                                |Canada                                       |July 1, 2018 |2018|TV-14|88 min  |Dramas, Thrillers                                                 |Two teenagers print counterfeit money in their high school art room, but things go terribly wrong when their debt-ridden teacher becomes suspicious.                                                                                                    |\n",
      "|80994423                                                                      |Movie  |Daffedar                                       |Johnson Esthappan                          |Tini Tom, Malavikka, Sudheer Karamana, Indrans                                                                                                                                                                                                                                                                                                                                                                                                                                                                               |India                                        |July 1, 2018 |2017|TV-PG|151 min |Dramas, International Movies                                      |A retired government worker continues to dedicate himself to public service, but his principled ways soon clash with those of his extravagant sons.                                                                                                     |\n",
      "|80236278                                                                      |Movie  |Deewana Main Deewana                           |K.C. Bokadia                               |Govinda, Priyanka Chopra, Kader Khan, Prem Chopra, Shakti Kapoor, Sharat Saxena, Himani Shivpuri, Johnny Lever                                                                                                                                                                                                                                                                                                                                                                                                               |India                                        |July 1, 2018 |2013|TV-14|107 min |Comedies, Dramas, International Movies                            |A man's instant attraction to a woman becomes an obsession as he adopts a friend's identity and even commits murder in order to get closer to her.                                                                                                      |\n",
      "|80217136                                                                      |Movie  |Dream Big: Engineering Our World               |Greg MacGillivray                          |Jeff Bridges                                                                                                                                                                                                                                                                                                                                                                                                                                                                                                                 |United States                                |July 1, 2018 |2017|TV-G |42 min  |Documentaries                                                     |Narrated by Jeff Bridges, this compelling documentary examines some incredible achievements of engineering from across the globe.                                                                                                                       |\n",
      "|80115118                                                                      |Movie  |Duck Butter                                    |Miguel Arteta                              |Alia Shawkat, Laia Costa, Mae Whitman, Hong Chau, Kate Berlant, Lindsay Burdge, Kumail Nanjiani, Mark Duplass, Jay Duplass, Jenny O'Hara                                                                                                                                                                                                                                                                                                                                                                                     |United States                                |July 1, 2018 |2018|TV-MA|94 min  |Dramas, Independent Movies, LGBTQ Movies                          |Wary of dishonesty in relationships, two young women embark on a 24-hour experiment on intimacy, but their romance flounders as the clock winds down.                                                                                                   |\n",
      "|80180851                                                                      |Movie  |Gemini                                         |P.K. Baaburaaj                             |Esther Anil, Sijoy Varghese, Renji Panicker, Thanusree Ghosh, Sasi Kalinga, Kishore Sathya, Sethu Lakshmi, Rosin Jolly                                                                                                                                                                                                                                                                                                                                                                                                       |India                                        |July 1, 2018 |2018|TV-PG|130 min |Dramas                                                            |Despite growing up with traits that set her apart from her peers, a young adopted girl discovers her gift when she takes an interest in spelling bees.                                                                                                  |\n",
      "|80236279                                                                      |Movie  |I Am Kalam                                     |Nila Madhab Panda                          |Gulshan Grover, Harsh Mayar, Pitobash, Hussan Saad, Beatrice Ordeix, Sanjay Chauhan                                                                                                                                                                                                                                                                                                                                                                                                                                          |India                                        |July 1, 2018 |2010|TV-PG|87 min  |Children & Family Movies, Comedies, Dramas                        |An intelligent boy born into poverty befriends the son of a once noble family and is inspired by the life of India's president to pursue an education.                                                                                                  |\n",
      "|80994573                                                                      |Movie  |Kaviyude Osyath                                |Vineeth Anil                               |Prakash Bare, Arun Kumar, Kulappulli Leela, Sangeetha Mohan, Kochu Preman                                                                                                                                                                                                                                                                                                                                                                                                                                                    |India                                        |July 1, 2018 |2017|TV-PG|116 min |Dramas, International Movies                                      |When a late poet leaves behind his property to a young man, the man's brother suspects the poet may have been more than just a family friend.                                                                                                           |\n",
      "|70057519                                                                      |Movie  |Loving Annabelle                               |Katherine Brooks                           |Erin Kelly, Diane Gaidry, Laura Breckenridge, Michelle Horn, Gustine Fudickar, Ilene Graff, Kevin McCarthy, Markus Flanagan                                                                                                                                                                                                                                                                                                                                                                                                  |United States                                |July 1, 2018 |2006|TV-MA|77 min  |Dramas, Independent Movies, LGBTQ Movies                          |An esteemed young poetry teacher at a Catholic boarding school risks everything when she engages in a feverish affair with a female student.                                                                                                            |\n",
      "|80994425                                                                      |Movie  |Ma Chu Ka                                      |Jayan Vannery                              |Pasupathy, Janani Iyer, Pratap Pothen                                                                                                                                                                                                                                                                                                                                                                                                                                                                                        |India                                        |July 1, 2018 |2017|TV-14|117 min |International Movies, Thrillers                                   |The relationship between a journalist and a lawyer she meets while investigating a story grows complicated as she uncovers layers of deception.                                                                                                         |\n",
      "|60029032                                                                      |Movie  |Melvin Goes to Dinner                          |Bob Odenkirk                               |Michael Blieden, Stephanie Courtney, Annabelle Gurwitch, Matt Price, David Cross, Maura Tierney, Kathleen Roll, Jack Black, Jenna Fischer, Fred Armisen                                                                                                                                                                                                                                                                                                                                                                      |United States                                |July 1, 2018 |2003|R    |84 min  |Comedies, Dramas, Independent Movies                              |When Melvin and his friends gather for dinner, their casual conversation takes a sharp turn as they begin to disclose raw truths about themselves.                                                                                                      |\n",
      "|81002211                                                                      |Movie  |My Birthday Song                               |Samir Soni                                 |Sanjay Suri, Nora Fatehi, Zenia Starr, Suparna Krishna, Elena Kazan                                                                                                                                                                                                                                                                                                                                                                                                                                                          |India                                        |July 1, 2018 |2018|TV-14|92 min  |Dramas, International Movies, Thrillers                           |After a wild night of impulse and infidelity, advertising executive Rajiv Kaul must navigate the blurred lines between life, death, fact and fiction.                                                                                                   |\n",
      "|70062158                                                                      |Movie  |Namastey London                                |Vipul Amrutlal Shah                        |Akshay Kumar, Katrina Kaif, Rishi Kapoor, Upen Patel, Javed Sheikh, Nina Wadia, Clive Standen, Tiffany Mulheron                                                                                                                                                                                                                                                                                                                                                                                                              |India                                        |July 1, 2018 |2007|TV-PG|130 min |Dramas, International Movies, Romantic Movies                     |To her Indian parents' dismay, London-born Jasmeet \"Jazz\" Malhotra longs for everything Western, including her British boyfriend. On a family trip to India, her father arranges Jazz's nuptials to Arjun Ballu Singh, who's smitten with his new bride.|\n",
      "|80996343                                                                      |Movie  |Our Shining Days                               |null                                       |Lulu Xu, Yuchang Peng, Mingjie Luo, Yongxi Liu, Zhongyu Han, Zhaohua Lu                                                                                                                                                                                                                                                                                                                                                                                                                                                      |China                                        |July 1, 2018 |2017|TV-PG|103 min |Comedies, Dramas, International Movies                            |In a battle of the bands, a percussions student and her musical kindred spirits set out to prove the merits of Chinese folk against the Western canon.                                                                                                  |\n",
      "|80994419                                                                      |Movie  |Paathi                                         |Chandran Narikode                          |Indrans, Joy Mathew, Kalabhavan Shajohn, Sasi Kalinga, Santhosh Keezhattoor, Valsala Menon, Seema G. Nair, Parvathi T                                                                                                                                                                                                                                                                                                                                                                                                        |India                                        |July 1, 2018 |2017|TV-MA|89 min  |Dramas, International Movies                                      |A face painter for Theyyam rituals who is himself disfigured conceals his guilt over the fact that he performs abortions as a medical practitioner.                                                                                                     |\n",
      "|80994426                                                                      |Movie  |Pareeth Pandaari                               |Gafoor Y. Elliyaas                         |Kalabhavan Shajohn, Sajitha Madathil, Jaffer Idukki, Sunil Sukhada, Joy Mathew, Ansiba                                                                                                                                                                                                                                                                                                                                                                                                                                       |India                                        |July 1, 2018 |2017|TV-PG|109 min |Dramas, Independent Movies, International Movies                  |As the parents of three unmarried daughters, a humble cook and his wife contend with the challenges of matchmaking and social expectations.                                                                                                             |\n",
      "|80994574                                                                      |Movie  |Paulettante Veedu                              |Dileep Narayanan                           |Saikumar, Amal Unnithan, Manasa Radhakrishnan, K.P.A.C. Lalitha, Sudheer Karamana, Seema G. Nair                                                                                                                                                                                                                                                                                                                                                                                                                             |India                                        |July 1, 2018 |2016|TV-14|104 min |Dramas, International Movies                                      |A wealthy businessman's miserly habits cause no small amount of stress and embarrassment to his family, particularly his daughter.                                                                                                                      |\n",
      "|70125939                                                                      |Movie  |Paying Guests                                  |Paritosh Painter                           |Shreyas Talpade, Javed Jaffrey, Aashish Chaudhary, Vatsal Seth, Celina Jaitly, Johnny Lever, Delnaaz Paul, Riya Sen, Sayali Bhagat, Neha Dhupia                                                                                                                                                                                                                                                                                                                                                                              |India                                        |July 1, 2018 |2009|TV-14|114 min |Comedies, International Movies                                    |Desperate for a place to live, twentysomething bachelors Parikshit, Jayesh, Parag and Bhavesh finally locate a house to rent, only to learn that the landlords will consider married applicants only.                                                   |\n",
      "|80994420                                                                      |Movie  |Sarvopari Palakkaran                           |Venugopan                                  |Anoop Menon, Alencier Ley Lopez, Balu Varghese, Aparna Balamurali, Anu Sithara, Gayathri Arun, Nandu, Chali Pala                                                                                                                                                                                                                                                                                                                                                                                                             |India                                        |July 1, 2018 |2017|TV-14|133 min |Dramas, International Movies                                      |In the course of a human trafficking investigation, a conservative cop crosses paths with an artist-activist in a clash of worldviews.                                                                                                                  |\n",
      "|70205125                                                                      |Movie  |Secret                                         |Jay Chou                                   |Jay Chou, Lun-Mei Kwai, Anthony Wong Chau-Sang, Kai-xuan Tseng, Devon Song, Jun Lang Huang, Zhan Yuhao                                                                                                                                                                                                                                                                                                                                                                                                                       |Hong Kong, Taiwan                            |July 1, 2018 |2007|TV-PG|101 min |Dramas, International Movies, Romantic Movies                     |Enchanted by a pretty pianist and the haunting melody she plays, a musical prodigy falls in love. But a secret soon threatens to derail their romance.                                                                                                  |\n",
      "|70034610                                                                      |Movie  |Socha Na Tha                                   |Imtiaz Ali                                 |Abhay Deol, Ayesha Takia, Apoorva Jha, Ayesha Jhulka, Rati Agnihotri, Sandhya Mridul, Suresh Oberoi, Manish Chaudhary                                                                                                                                                                                                                                                                                                                                                                                                        |India                                        |July 1, 2018 |2005|TV-PG|137 min |Comedies, International Movies, Romantic Movies                   |An arranged marriage becomes a friendship for Viren and Aditi, who aren't in love – until they begin having unexpected feelings for each other.                                                                                                         |\n",
      "|80992111                                                                      |Movie  |Soul Robbers                                   |Juan Antonio de la Riva                    |Sofía Sisniega, Natasha Dupeyron, Ana Sofía Durán, Javier Escobar, Luis Gatica, Juan Ángel Esparza, Jorge Luis Moreno, Arnulfo Reyes Sanchez, Tizoc Arroyo, José Enot, Ricardo Dalmacci, Harding Junior, Claudine Sosa, Pablo Valentín                                                                                                                                                                                                                                                                                       |Mexico                                       |July 1, 2018 |2015|TV-MA|88 min  |Horror Movies, International Movies                               |During Mexico's War of Independence, a group of men face unimaginable horrors when they attempt to steal from the seemingly helpless Cordero sisters.                                                                                                   |\n",
      "|80222256                                                                      |Movie  |The Feels                                      |Jenée LaMarque                             |Jenée LaMarque, Angela Trimbur, Constance Wu, Josh Fadem, Ever Mainard                                                                                                                                                                                                                                                                                                                                                                                                                                                       |United States                                |July 1, 2018 |2018|TV-MA|88 min  |Comedies, Independent Movies, LGBTQ Movies                        |During their bachelorette weekend, a lesbian couple's relationship hits a snag when one of the brides confesses to never having an orgasm.                                                                                                              |\n",
      "|80206917                                                                      |Movie  |The Music of Silence                           |Michael Radford                            |Toby Sebastian, Luisa Ranieri, Jordi Mollà, Antonio Banderas, Ennio Fantastichini, Nadir Caselli, Alessandro Sperduti, Francesco Salvi                                                                                                                                                                                                                                                                                                                                                                                       |Italy                                        |July 1, 2018 |2017|TV-PG|115 min |Dramas, International Movies, Music & Musicals                    |Based on the autobiography by tenor Andrea Bocelli, this musical biopic chronicles his life from his bumpy childhood to his meteoric rise to fame.                                                                                                      |\n",
      "|80176064                                                                      |Movie  |The Redeemed and the Dominant: Fittest on Earth|Heber Cannon, Mariah Moore, Marston Sawyers|null                                                                                                                                                                                                                                                                                                                                                                                                                                                                                                                         |United States                                |July 1, 2018 |2017|TV-14|120 min |Documentaries, Sports Movies                                      |Questions about endurance, doping and overall toughness surround a group of elite athletes as they compete fiercely at the Reebok Crossfit Games.                                                                                                       |\n",
      "|80994421                                                                      |Movie  |Theeram                                        |Saheed Arafath                             |Pranav Ratheesh, Maria Yohannan, Askar Ameer, Tini Tom, Anjali Nair, Krishna Prabha, Sudhi Koppa, Nandhan Unni                                                                                                                                                                                                                                                                                                                                                                                                               |India                                        |July 1, 2018 |2017|TV-14|104 min |Dramas, International Movies, Romantic Movies                     |An auto rickshaw driver harbors a deep affection for a young woman, but his troubled past threatens to stand between them.                                                                                                                              |\n",
      "|70098332                                                                      |Movie  |Traitor                                        |Jeffrey Nachmanoff                         |Don Cheadle, Guy Pearce, Saïd Taghmaoui, Neal McDonough, Alyy Khan, Archie Panjabi, Raad Rawi, Jeff Daniels, Lorena Gale, Simon Reynolds, Jonathan Walker, Mozhan Marnò, Tom Barnett, Scali Delpeyrat                                                                                                                                                                                                                                                                                                                        |United States                                |July 1, 2018 |2008|PG-13|114 min |Dramas, Thrillers                                                 |An FBI agent assigned to pursue an ex-Special Ops soldier who joined a terrorist organization begins to question his target's true intentions.                                                                                                          |\n",
      "|80236280                                                                      |Movie  |Tum Milo Toh Sahi                              |Kabir Sadanand                             |Nana Patekar, Dimple Kapadia, Sunil Shetty, Vidya Malvade, Rehan Khan, Anjana Sukhani, Mohnish Bahl, Vrajesh Hirjee                                                                                                                                                                                                                                                                                                                                                                                                          |India                                        |July 1, 2018 |2010|TV-PG|128 min |Comedies, Dramas, International Movies                            |An astute but old-fashioned law clerk steps up to help the owner of a cafe in a legal battle that has both business and personal ramifications.                                                                                                         |\n",
      "|80994572                                                                      |Movie  |Viswasapoorvam Mansoor                         |P.T. Kunju Muhammad                        |Roshan Mathew, Asha Sarath, Prayaga Martin, Zarina Wahab, Renji Panicker, Leona Lishoy, Santhosh Keezhattoor, Sunil Sukhada                                                                                                                                                                                                                                                                                                                                                                                                  |India                                        |July 1, 2018 |2017|TV-14|125 min |Dramas, International Movies                                      |When a mother and her daughter arrive to stay in his home in Kerala, a young Muslim man becomes torn between love, faith and clashing political views.                                                                                                  |\n",
      "|80217135                                                                      |Movie  |We, the Marines                                |Greg MacGillivray                          |null                                                                                                                                                                                                                                                                                                                                                                                                                                                                                                                         |United States                                |July 1, 2018 |2017|TV-PG|38 min  |Documentaries, International Movies                               |Narrated by actor and former Marine Gene Hackman, this documentary showcases the experience of becoming a member of the US Marine Corps.                                                                                                                |\n",
      "|80996349                                                                      |Movie  |What a Wonderful Family!                       |Huang Lei                                  |Huang Lei, Sun Li, Lee Li-Chun, Zhang Weixin, Hai Qing, Wang Xun, Wei Daxun, Lorene Ren, Lei Huang                                                                                                                                                                                                                                                                                                                                                                                                                           |China                                        |July 1, 2018 |2017|TV-PG|102 min |Comedies, Dramas, International Movies                            |In a large family living under one roof, a storm brews when the matriarch requests a divorce from her husband on their 50th anniversary.                                                                                                                |\n",
      "|80217120                                                                      |Movie  |What We Started                                |Bert Marcus, Cyrus Saidi                   |null                                                                                                                                                                                                                                                                                                                                                                                                                                                                                                                         |United States                                |July 1, 2018 |2017|TV-MA|96 min  |Documentaries, Music & Musicals                                   |DJs and industry insiders offer a backstage pass to the world of electronic dance music, reflecting on its radical origins and the future of the genre.                                                                                                 |\n",
      "|80993648                                                                      |Movie  |Zoo                                            |Shlok Sharma                               |Shashank Arora, Shweta Tripathi, Rahul Kumar, Gopal K. Singh, Yogesh Kurme, Prince Daniel                                                                                                                                                                                                                                                                                                                                                                                                                                    |India                                        |July 1, 2018 |2018|TV-MA|94 min  |Dramas, Independent Movies, International Movies                  |A drug dealer starts having doubts about his trade as his brother, his client, and two rappers from the slums each battle their own secret addictions.                                                                                                  |\n",
      "|70306701                                                                      |Movie  |1 Chance 2 Dance                               |Adam Deyoe                                 |Lexi Giovagnoli, Justin Ray, Rae Latt, Poonam Basu, Teresa Biter, Kalilah Harris, Alexia Dox, Adam Powell, Sean McBride                                                                                                                                                                                                                                                                                                                                                                                                      |United States                                |July 1, 2017 |2014|TV-PG|89 min  |Dramas, Romantic Movies                                           |When an aspiring dancer is uprooted during her senior year of high school, she finds herself torn between two boys – and with one shot at her dream.                                                                                                    |\n",
      "|80178940                                                                      |Movie  |10 jours en or                                 |Nicolas Brossette                          |Franck Dubosc, Claude Rich, Marie Kremer, Mathis Touré, Rufus, Olivier Claverie                                                                                                                                                                                                                                                                                                                                                                                                                                              |France                                       |July 1, 2017 |2012|TV-PG|97 min  |Comedies, Dramas, International Movies                            |When a carefree bachelor is unexpectedly left in charge of a young boy, the two embark on a road trip that will change both of their lives.                                                                                                             |\n",
      "|80158301                                                                      |TV Show|46                                             |Serdar Akar                                |Erdal Beşikçioğlu, Yasemin Allen, Melis Birkan, Saygın Soysal, Berkan Şal, Metin Belgin, Ayça Eren, Selin Uludoğan, Özay Fecht, Suna Yıldızoğlu                                                                                                                                                                                                                                                                                                                                                                              |Turkey                                       |July 1, 2017 |2016|TV-14|1 Season|International TV Shows, TV Dramas, TV Mysteries                   |A genetics professor experiments with a treatment for his comatose sister that blends medical and shamanic cures, but unlocks a shocking side effect.                                                                                                   |\n",
      "|70290905                                                                      |Movie  |A 2nd Chance                                   |Clay Glen                                  |Nina Pearce, Adam Tuominen, Emily Morris, Amy Handley, Carmel Johnson, Alanah Gilbert, Hapi Murphy, Lilly Blacker, Julie Kay Lumasag, Elysia Markou                                                                                                                                                                                                                                                                                                                                                                          |Australia                                    |July 1, 2017 |2011|PG   |95 min  |Children & Family Movies, Dramas, Sports Movies                   |A gymnast lacks the confidence she needs to reach the top. But with the help of her new coach, she has the chance to win a spot on the national team.                                                                                                   |\n",
      "|80156950                                                                      |TV Show|Against the Tide                               |null                                       |Christopher Lee, Rui En, Desmond Tan, Zheng Geping, Zhang Zhenhuan, Paige Chua, Xu Bin, Carrie Wong                                                                                                                                                                                                                                                                                                                                                                                                                          |Singapore                                    |July 1, 2017 |2014|TV-14|1 Season|Crime TV Shows, International TV Shows, TV Dramas                 |A detective and a psychologist investigating a string of murders form a crime-solving team with the novelist whose work inspired the killings.                                                                                                          |\n",
      "|80167699                                                                      |Movie  |Albion: The Enchanted Stallion                 |Castille Landon                            |Daniel Sharman, Jennifer Morrison, Debra Messing, Stephen Dorff, John Cleese, Liam McIntyre, Richard Kind, Avery Arendes, Castille Landon                                                                                                                                                                                                                                                                                                                                                                                    |United States, Bulgaria                      |July 1, 2017 |2016|TV-PG|106 min |Children & Family Movies                                          |After a magical horse transports her to a fantasy world ruled by an evil general, a brave girl sets out to save the land once and for all.                                                                                                              |\n",
      "|80158390                                                                      |Movie  |Amrapali                                       |Lekh Tandon                                |Vyjayantimala, Sunil Dutt, Prem Nath, Bipin Gupta, Gajanan Jagirdar, Zul Vellani, K.N. Singh, Randhir                                                                                                                                                                                                                                                                                                                                                                                                                        |India                                        |July 1, 2017 |1966|TV-PG|116 min |Dramas, International Movies, Music & Musicals                    |In the age of Buddha and his philosophy of nonviolence, a warmonger king plots the destruction of an enemy kingdom to rescue the woman he loves.                                                                                                        |\n",
      "|70294800                                                                      |TV Show|Barbie Life in the Dreamhouse                  |null                                       |Kate Higgins, Sean Hankinson, Haviland Stillwell, Paula Rhodes, Charlie Bodin, Laura Gerow, Katie Crown, Nakia Burrise, Tara Sands, Ashlyn Selich                                                                                                                                                                                                                                                                                                                                                                            |United States                                |July 1, 2017 |2012|TV-G |1 Season|Kids' TV, TV Comedies                                             |Join blond icon Barbie and her fabulous friends as their behind-the-scenes adventures are revealed in this animated Web series.                                                                                                                         |\n",
      "|80184770                                                                      |Movie  |Black Snow                                     |Martin Hodara                              |Ricardo Darín, Leonardo Sbaraglia, Laia Costa, Federico Luppi, Dolores Fonzi, Andrés Herrera                                                                                                                                                                                                                                                                                                                                                                                                                                 |Argentina, Spain                             |July 1, 2017 |2017|TV-MA|91 min  |Dramas, International Movies, Thrillers                           |An old tragedy and lingering animosity erupt when a man returns to Patagonia to convince his estranged brother to sell the family's isolated property.                                                                                                  |\n",
      "|80156992                                                                      |TV Show|Breakout                                       |null                                       |Jeanette Aw, Elvin Ng, Zhou Ying, Christopher Lee, Dai Xiangyu, Guo Liang                                                                                                                                                                                                                                                                                                                                                                                                                                                    |null                                         |July 1, 2017 |2010|TV-14|1 Season|International TV Shows, TV Dramas                                 |After losing her family in a suspicious car crash, a woman awakens from a 13-year coma determined to expose the truth about the long-ago tragedy.                                                                                                       |\n",
      "|80191358                                                                      |Movie  |Bruno and Boots: The Wizzle War                |Vivieno Caldinelli                         |Jonny Gray, Callan Potter, Matt Baram, Caroline Rhea, Kiana Madeira                                                                                                                                                                                                                                                                                                                                                                                                                                                          |Canada                                       |July 1, 2017 |2017|TV-PG|90 min  |Children & Family Movies, Comedies                                |Fed up with weird dress codes and wacky punishments, the students of neighboring schools face off against two recently hired oddball authoritarians.                                                                                                    |\n",
      "|80118532                                                                      |TV Show|Deep Water                                     |null                                       |Noah Taylor, Yael Stone, Jeremy Lindsay Taylor, Danielle Cormack, Ben Oxenbould, Dan Spielman, Craig McLachlan, William McInnes, Olivia McNamara, John Brumpton, Simon Burke, Simon Elrahi, Victoria Haralabidou, Renee Lim, Julian Maroun, George Harrison Xanthis                                                                                                                                                                                                                                                          |Australia                                    |July 1, 2017 |2016|TV-MA|1 Season|Crime TV Shows, International TV Shows, TV Dramas                 |Back in Bondi Beach, where she grew up, DC Tori Lustigman investigates a gay man's murder and finds a link to her brother's death decades earlier.                                                                                                      |\n",
      "|80190946                                                                      |Movie  |Hans Teeuwen: Real Rancour                     |Doesjka van Hoogdalem                      |Hans Teeuwen                                                                                                                                                                                                                                                                                                                                                                                                                                                                                                                 |Netherlands                                  |July 1, 2017 |2018|TV-MA|86 min  |Stand-Up Comedy                                                   |Comedian Hans Teeuwen rebels against political correctness, proclaims himself Britain's moral leader and takes on Donald Trump.                                                                                                                         |\n",
      "|80107948                                                                      |Movie  |Here Alone                                     |Rod Blackhurst                             |Lucy Walters, Gina Piersanti, Adam David Thompson, Shane West, Ryken A. Whitfield, Abel McSurely Bradshaw, Rebecca Spiro                                                                                                                                                                                                                                                                                                                                                                                                     |United States                                |July 1, 2017 |2016|TV-MA|97 min  |Horror Movies                                                     |When she finally encounters two other survivors, a woman alone in a world decimated by a zombie epidemic struggles to trust her new companions.                                                                                                         |\n",
      "|80094964                                                                      |Movie  |Ho Mann Jahaan                                 |Asim Raza                                  |Adeel Hussain, Mahira Khan, Sheheryar Munawar, Sonya Jehan, Bushra Ansari, Nimra Bucha, Arshad Mahmud, Jamal Shah                                                                                                                                                                                                                                                                                                                                                                                                            |Pakistan                                     |July 1, 2017 |2015|TV-PG|170 min |Dramas, International Movies, Romantic Movies                     |Three friends in modern-day Karachi navigate their post-college lives, while struggling to balance their passion for music with familial obligations.                                                                                                   |\n",
      "|80158481                                                                      |Movie  |Lal Patthar                                    |Sushil Majumdar                            |Raaj Kumar, Hema Malini, Rakhee Gulzar, Vinod Mehra, Asit Kumar Sen, Paintal, Dulari, Chandramohan, Sujata Bakshi, Meena T.                                                                                                                                                                                                                                                                                                                                                                                                  |India                                        |July 1, 2017 |1971|TV-PG|153 min |Classic Movies, Dramas, International Movies                      |A vain, self-righteous nobleman falls in love with a village girl and tries to transform her into his version of the ideal woman.                                                                                                                       |\n",
      "+------------------------------------------------------------------------------+-------+-----------------------------------------------+-------------------------------------------+-----------------------------------------------------------------------------------------------------------------------------------------------------------------------------------------------------------------------------------------------------------------------------------------------------------------------------------------------------------------------------------------------------------------------------------------------------------------------------------------------------------------------------+---------------------------------------------+-------------+----+-----+--------+------------------------------------------------------------------+--------------------------------------------------------------------------------------------------------------------------------------------------------------------------------------------------------------------------------------------------------+\n",
      "only showing top 150 rows\n",
      "\n"
     ]
    }
   ],
   "source": [
    "# Show first 150 rows\n",
    "\n",
    "titles_df.show(150, truncate=False)"
   ]
  },
  {
   "cell_type": "markdown",
   "metadata": {
    "colab_type": "text",
    "id": "LGzPDicW4zUo"
   },
   "source": [
    "\n",
    "**Observation 1**:\n",
    "\n",
    "If we start by looking at the first column of data, we see that most of the entries are numeric IDs. If we scroll through the data we do see at least one random text entry. Let's make a note of this and browse through the rest of the data, looking for anything that might be out of the ordinary.\n",
    "\n",
    "**Problem 1**: First column contains a mix of numeric and string data.\n",
    "\n",
    "**Observation 2**:\n",
    "We can also use the `.printSchema()` method to print the inferred schema associated with the data. Notice that we have 12 columns (which is expected based on our format information) but there are no column names, incorrect datatypes, and each field is nullable. *Note: `.printSchema()` is also a Spark action.*\n",
    "\n",
    "**Problem 2**: Column names are generic.\n",
    "\n",
    "**Problem 3**: All columns are typed as strings, but appear to contain various datatypes (also reference **problem 1**)"
   ]
  },
  {
   "cell_type": "code",
   "execution_count": 5,
   "metadata": {
    "colab": {
     "base_uri": "https://localhost:8080/",
     "height": 255
    },
    "colab_type": "code",
    "id": "THf1tctucd9h",
    "outputId": "2119ae95-74db-4488-de2f-ec60259cf8a2"
   },
   "outputs": [
    {
     "name": "stdout",
     "output_type": "stream",
     "text": [
      "root\n",
      " |-- _c0: string (nullable = true)\n",
      " |-- _c1: string (nullable = true)\n",
      " |-- _c2: string (nullable = true)\n",
      " |-- _c3: string (nullable = true)\n",
      " |-- _c4: string (nullable = true)\n",
      " |-- _c5: string (nullable = true)\n",
      " |-- _c6: string (nullable = true)\n",
      " |-- _c7: string (nullable = true)\n",
      " |-- _c8: string (nullable = true)\n",
      " |-- _c9: string (nullable = true)\n",
      " |-- _c10: string (nullable = true)\n",
      " |-- _c11: string (nullable = true)\n",
      "\n"
     ]
    }
   ],
   "source": [
    "# Print schema\n",
    "\n",
    "titles_df.printSchema()"
   ]
  },
  {
   "cell_type": "markdown",
   "metadata": {
    "colab_type": "text",
    "id": "RXGTHdV75wUi"
   },
   "source": [
    "## **Bypassing the CSV interpeter**\n",
    "\n",
    "Our first few data rows look ok, but we can see that we have a few random rows even in our small sample. We know the first column should be an integer value but it looks like there are some values that do not meet this requirement. \n",
    "\n",
    "Let's run a `.count()` method on our dataframe to determine how many rows are present in the dataset, regardless of whether they're correct.\n"
   ]
  },
  {
   "cell_type": "code",
   "execution_count": 6,
   "metadata": {
    "colab": {
     "base_uri": "https://localhost:8080/",
     "height": 34
    },
    "colab_type": "code",
    "id": "eABNrdsfOzRR",
    "outputId": "ce01ec50-7fbf-465d-d85f-d55b4c2aeff4"
   },
   "outputs": [
    {
     "data": {
      "text/plain": [
       "6238"
      ]
     },
     "execution_count": 6,
     "metadata": {},
     "output_type": "execute_result"
    }
   ],
   "source": [
    "# Count the number of rows\n",
    "\n",
    "titles_df.count()"
   ]
  },
  {
   "cell_type": "markdown",
   "metadata": {
    "colab_type": "text",
    "id": "zYuq7DGUPtSe"
   },
   "source": [
    " Let's run a quick select statement on the DataFrame to determine the makeup of the content. We'll use some methods from the `pyspark.sql.functions` module to help us determine this. We'll alias this module as `F` for simplicity.\n",
    "\n",
    "We're going to use the `F.col` method to find the column named `_c0` in our dataframe. We'll then chain the function `.cast(\"int\")` to attempt to change each entry from a string value to an integer one. We then use the `.isNotNull()` function to find only entries that are not null. This is passed to the the `.filter()` method on the dataframe to return only rows that meet this requirement. Finally we run the `.count()` method on the resulting dataframe to get the count of rows where the first column is an integer value.\n",
    "\n",
    "An example to filter a Spark dataframe named `df_1` with a column named `_c0` would be:\n",
    "\n",
    "```\n",
    "from pyspark.sql import functions as F\n",
    "\n",
    "df_1.filter(F.col(\"_c0\").cast(\"int\").isNotNull()).show()\n",
    "```\n"
   ]
  },
  {
   "cell_type": "code",
   "execution_count": 6,
   "metadata": {
    "colab": {
     "base_uri": "https://localhost:8080/",
     "height": 34
    },
    "colab_type": "code",
    "id": "uznFuRdDcwTM",
    "outputId": "2f1a0664-9721-40f1-ee60-efd601ab2d9f"
   },
   "outputs": [
    {
     "data": {
      "text/plain": [
       "6173"
      ]
     },
     "execution_count": 6,
     "metadata": {},
     "output_type": "execute_result"
    }
   ],
   "source": [
    "# Import the Pyspark SQL helper functions\n",
    "from pyspark.sql import functions as F\n",
    "\n",
    "# Determine how many rows have a column that converts properly to an integer value\n",
    "titles_df.filter(F.col(\"_c0\").cast(\"int\").isNotNull()).count()\n"
   ]
  },
  {
   "cell_type": "markdown",
   "metadata": {
    "colab_type": "text",
    "id": "m7_8YXWoS59q"
   },
   "source": [
    "### **Spark is different**\n",
    "\n",
    "Depending on your background, you may be very confused as to what's going on right now. If you're used to pandas, you should know that Spark behaves similarly, but there are some significant differences.\n",
    "\n",
    "#### **Spark dataframes are immutable**\n",
    "- This means that once a dataframe is created, you cannot change the contents of the dataframe, you can only create a new one.\n",
    "- We won't cover why during this class, beyond mentioning that it makes a distributed system (such as Spark) much more manageable.\n",
    "- While you cannot change a dataframe, you can create a new one.\n",
    "- Dataframes in Spark are defined with various types of *transformations*. These are the *lazy* commands we mentioned earlier. You can think of them as a recipe, or set of commands that will be run at a given time. \n",
    "- Spark *actions* (such as `.count()`, `.show()`, `.write()`, among others) instantiate the dataframe, meaning that the data is processed and available within the dataframe.\n",
    "\n",
    "The important thing to note is that these `.filter()` commands are not changing our underlying dataframe - it's creating a new dataframe with the results of the `.filter()` operation and giving us the `.count()` of that. This is all done behind the scenes for you, but it's important to understand what Spark is doing underneath.\n",
    "\n",
    "### **Back to analysis**\n",
    "\n",
    "Now that we've determined there is a difference between the number of correct entries vs all entries (ie, take the full count and subtract the filtered dataframe), let's look at the rows that aren't coverting properly.\n",
    "\n",
    "We'll do the same as before, but this time we're going to use the `.isNull()` method to obtain only the rows that can't be cast to integers. We'll use the `.show()` method to see the content.\n",
    "\n",
    "*Note, this is only possible because Spark maintains an immutable dataframe. In our previous step, we created a new dataframe from our `.filter()` command, ran an action, and then Spark threw away the dataframe as we didn't assign it to a variable. We're going to now do the same type of operation on the original `titles_df` dataframe.*"
   ]
  },
  {
   "cell_type": "code",
   "execution_count": 7,
   "metadata": {
    "colab": {
     "base_uri": "https://localhost:8080/",
     "height": 479
    },
    "colab_type": "code",
    "id": "FM8wY72J7qnC",
    "outputId": "f38c1506-7e4d-4c85-e9e9-a11718cf038e"
   },
   "outputs": [
    {
     "name": "stdout",
     "output_type": "stream",
     "text": [
      "+-----------------------------------------------------------------------------------------------------+------------------------------------------------------------------------------------------------------------------------------------------------------------+----------------------------------------------------------------------------------------------------------------------------------------------------+-----------------+--------------+-----+--------+----------------------------------------------------------------------------------------------------------------------------------------------------+-----------------------------------------------------------------------------------------------------------------------------------------------+--------------------------------------------------------------------------------------------------------------------------------------------------+----+----+\n",
      "|_c0                                                                                                  |_c1                                                                                                                                                         |_c2                                                                                                                                                 |_c3              |_c4           |_c5  |_c6     |_c7                                                                                                                                                 |_c8                                                                                                                                            |_c9                                                                                                                                               |_c10|_c11|\n",
      "+-----------------------------------------------------------------------------------------------------+------------------------------------------------------------------------------------------------------------------------------------------------------------+----------------------------------------------------------------------------------------------------------------------------------------------------+-----------------+--------------+-----+--------+----------------------------------------------------------------------------------------------------------------------------------------------------+-----------------------------------------------------------------------------------------------------------------------------------------------+--------------------------------------------------------------------------------------------------------------------------------------------------+----+----+\n",
      "|# (87.8 percent Baxter memorize them. Extra dials, buttons, and controls their                       |null                                                                                                                                                        |null                                                                                                                                                |null             |null          |null |null    |null                                                                                                                                                |null                                                                                                                                           |null                                                                                                                                              |null|null|\n",
      "|Movie                                                                                                |null                                                                                                                                                        |This fun, charming documentary follows the exploits of some very feline-friendly folks as they strive to get their kitties crowned Canada’s top cat.|null             |null          |null |null    |null                                                                                                                                                |null                                                                                                                                           |null                                                                                                                                              |null|null|\n",
      "|null                                                                                                 |Kaycie Chase, David Gasman, Tom Morton, Lee Delong, Barbara Weber-Scaff                                                                                     |null                                                                                                                                                |January 31, 2019 |2018          |TV-Y |1 Season|Kids' TV                                                                                                                                            |Stan and Olivia – the amazingly different Paprika twins – use their boundless enthusiasm to turn everyday life into an extraordinary adventure.|null                                                                                                                                              |null|null|\n",
      "|# On exteriority, and low performing schools). Chicago has been growing concern over the merits of   |null                                                                                                                                                        |null                                                                                                                                                |null             |null          |null |null    |null                                                                                                                                                |null                                                                                                                                           |null                                                                                                                                              |null|null|\n",
      "|# Roosevelt University; latitudinally, reaching a speed infringement is detected. This has been SAM's|null                                                                                                                                                        |null                                                                                                                                                |null             |null          |null |null    |null                                                                                                                                                |null                                                                                                                                           |null                                                                                                                                              |null|null|\n",
      "|# An \"or\". a convention for domesticated animals of using Facebook                                   |null                                                                                                                                                        |null                                                                                                                                                |null             |null          |null |null    |null                                                                                                                                                |null                                                                                                                                           |null                                                                                                                                              |null|null|\n",
      "|# 1611–1613 Kalmar and subtropical continents                                                        |null                                                                                                                                                        |null                                                                                                                                                |null             |null          |null |null    |null                                                                                                                                                |null                                                                                                                                           |null                                                                                                                                              |null|null|\n",
      "|The 2000s                                                                                            |null                                                                                                                                                        |United States                                                                                                                                       |February 19, 2019|TV-MA         |null |null    |null                                                                                                                                                |null                                                                                                                                           |null                                                                                                                                              |null|null|\n",
      "|# A legally science, Higher Technical Examination                                                    |null                                                                                                                                                        |null                                                                                                                                                |null             |null          |null |null    |null                                                                                                                                                |null                                                                                                                                           |null                                                                                                                                              |null|null|\n",
      "|# Reparenting, may cultivated and stored by an inversion layer. If the                               |null                                                                                                                                                        |null                                                                                                                                                |null             |null          |null |null    |null                                                                                                                                                |null                                                                                                                                           |null                                                                                                                                              |null|null|\n",
      "|# USA South is done                                                                                  |null                                                                                                                                                        |null                                                                                                                                                |null             |null          |null |null    |null                                                                                                                                                |null                                                                                                                                           |null                                                                                                                                              |null|null|\n",
      "|# The wave for issues such as semantic network and computing                                         |null                                                                                                                                                        |null                                                                                                                                                |null             |null          |null |null    |null                                                                                                                                                |null                                                                                                                                           |null                                                                                                                                              |null|null|\n",
      "|TV Show                                                                                              |TV-MA                                                                                                                                                       |Crime TV Shows, International TV Shows, Spanish-Language TV Shows                                                                                   |null             |null          |null |null    |null                                                                                                                                                |null                                                                                                                                           |null                                                                                                                                              |null|null|\n",
      "|# Which was, Change Performance Index (EPI) with an electrode at                                     |null                                                                                                                                                        |null                                                                                                                                                |null             |null          |null |null    |null                                                                                                                                                |null                                                                                                                                           |null                                                                                                                                              |null|null|\n",
      "|# Five 40 dangerous. A more direct connection came                                                   |null                                                                                                                                                        |null                                                                                                                                                |null             |null          |null |null    |null                                                                                                                                                |null                                                                                                                                           |null                                                                                                                                              |null|null|\n",
      "|# Heisei Hyakkei fishing village with very low                                                       |null                                                                                                                                                        |null                                                                                                                                                |null             |null          |null |null    |null                                                                                                                                                |null                                                                                                                                           |null                                                                                                                                              |null|null|\n",
      "|# (or will advanced stage. There are                                                                 |null                                                                                                                                                        |null                                                                                                                                                |null             |null          |null |null    |null                                                                                                                                                |null                                                                                                                                           |null                                                                                                                                              |null|null|\n",
      "|The Miracle                                                                                          |Donghyun Kim, Nahyun, Yang Hak Jin, Yoon Hwa Hong                                                                                                           |International TV Shows, Korean TV Shows, TV Dramas                                                                                                  |null             |null          |null |null    |null                                                                                                                                                |null                                                                                                                                           |null                                                                                                                                              |null|null|\n",
      "|Flying Fortress\"                                                                                     |William Wyler                                                                                                                                               |null                                                                                                                                                |United States    |March 31, 2017|1944 |TV-PG   |40 min                                                                                                                                              |Classic Movies, Documentaries                                                                                                                  |This documentary centers on the crew of the B-17 Flying Fortress Memphis Belle as it prepares to execute a strategic bombing mission over Germany.|null|null|\n",
      "|Maryo J. De los Reyes                                                                                |Maricel Soriano, Aga Muhlach, Angelica Panganiban, Dante Rivero, Chin Chin Gutierrez, Bobby Andrews, TJ Trinidad, Baron Geisler, John Arcilla, Gerald Madrid|Philippines                                                                                                                                         |March 14, 2019   |2007          |TV-14|117 min |Self-made millionaire Ian thinks he's found happiness when he marries caring Joanna, but his love is put to the test when he meets stewardess Karyn.|null                                                                                                                                           |null                                                                                                                                              |null|null|\n",
      "+-----------------------------------------------------------------------------------------------------+------------------------------------------------------------------------------------------------------------------------------------------------------------+----------------------------------------------------------------------------------------------------------------------------------------------------+-----------------+--------------+-----+--------+----------------------------------------------------------------------------------------------------------------------------------------------------+-----------------------------------------------------------------------------------------------------------------------------------------------+--------------------------------------------------------------------------------------------------------------------------------------------------+----+----+\n",
      "only showing top 20 rows\n",
      "\n"
     ]
    }
   ],
   "source": [
    "# Look at rows that don't convert properly\n",
    "titles_df.filter(F.col(\"_c0\").cast(\"int\").isNull()).show(truncate=False)"
   ]
  },
  {
   "cell_type": "markdown",
   "metadata": {
    "colab_type": "text",
    "id": "jw0aLgc19Qok"
   },
   "source": [
    "**Observation 3**\n",
    "\n",
    "Looking at our content, we notice we have several types of problems:\n",
    "\n",
    "*Data problems*:\n",
    "- **Problem 4**: Comment rows - These begin with a `#` character in the first column, and all other columns are null\n",
    "- **Problem 5**: Missing first column - We have few rows that reference `TV Show` or `Movie`, which should be the 2nd column.\n",
    "- **Problem 6**: Odd columns - There are a few rows included where the columns seem out of sync (ie, a content type in the ID field, dates in the wrong column, etc).\n",
    "\n",
    "We could fairly easily remove rows that match this pattern, but we're not entirely sure what to expect here. This is a common issue when trying to parse a large amount of data, be it in native Python, in Spark, or even with command-line tools. \n",
    "\n",
    "What we need to do is bypass most of the CSV parser's intelligence, but still load the content into a DataFrame. One way to do this is to modify an option on the CSV loader.\n",
    "\n",
    "# **CSV loading**\n",
    "\n",
    "Our initial import relies on the defaults for the CSV import mechanism. This typically assumes an actual comma-separated value file using `,` between fields and a normal row level terminator (ie, `\\r\\n`, `\\r`, `\\n`). While this often works well, it doesn't always handle ever data cleaning process you'd like, especially if you want to save the errant data for later examination.\n",
    "\n",
    "One way we can trick our CSV load is to specify a custom separator that we know does not exist within our dataset. As we used above, the option to do this is called `sep` and takes a single character to be used as the column separator. The separator cannot be an empty string so depending on your data, you may need to determine a character that is not used. For our purposes, let's use a curly brace, `{`, which is most likely not present in our data."
   ]
  },
  {
   "cell_type": "code",
   "execution_count": 8,
   "metadata": {
    "colab": {},
    "colab_type": "code",
    "id": "Vme6VYgc8UP7"
   },
   "outputs": [],
   "source": [
    "# Load the files into a DataFrame with a single column\n",
    "\n",
    "titles_single_df = spark.read.csv('C:/Users/dennis.ee/Desktop/Directory/Demo/PySpark Data Cleaning\\data/netflix_titles_dirty*.csv', sep='{')"
   ]
  },
  {
   "cell_type": "code",
   "execution_count": 9,
   "metadata": {
    "colab": {
     "base_uri": "https://localhost:8080/",
     "height": 34
    },
    "colab_type": "code",
    "id": "CyTxTDhXART2",
    "outputId": "47a6d3c3-6c23-46e7-cccf-b60b34c9e569"
   },
   "outputs": [
    {
     "data": {
      "text/plain": [
       "6238"
      ]
     },
     "execution_count": 9,
     "metadata": {},
     "output_type": "execute_result"
    }
   ],
   "source": [
    "# Count rows\n",
    "\n",
    "titles_single_df.count()"
   ]
  },
  {
   "cell_type": "code",
   "execution_count": 10,
   "metadata": {
    "colab": {
     "base_uri": "https://localhost:8080/",
     "height": 479
    },
    "colab_type": "code",
    "id": "JcsIM-2KBMzP",
    "outputId": "7c4250c6-cbb4-4e52-8857-aecff94215e3"
   },
   "outputs": [
    {
     "name": "stdout",
     "output_type": "stream",
     "text": [
      "+--------------------------------------------------------------------------------------------------------------------------------------------------------------------------------------------------------------------------------------------------------------------------------------------------------------------------------------------------------------------------------------------------------------------------------------------------------+\n",
      "|_c0                                                                                                                                                                                                                                                                                                                                                                                                                                                     |\n",
      "+--------------------------------------------------------------------------------------------------------------------------------------------------------------------------------------------------------------------------------------------------------------------------------------------------------------------------------------------------------------------------------------------------------------------------------------------------------+\n",
      "|80044126\tMovie\tD.L. Hughley: Clear\tJay Chapman\tD.L. Hughley\tUnited States\tJuly 13, 2017\t2014\tTV-MA\t59 min\tStand-Up Comedy\tIn this 2014 standup special filmed in San Francisco, comedic genius D.L. Hughley entertains with his hilarious take on current affairs and more.                                                                                                                                                                             |\n",
      "|80148179\tMovie\tMy Scientology Movie\tJohn Dower\tLouis Theroux\tUnited Kingdom\tJuly 13, 2017\t2015\tTV-MA\t99 min\tDocumentaries\tAfter speaking with former Scientology members and being stonewalled by higher-ups, filmmaker Louis Theroux hires actors to re-create alleged events.                                                                                                                                                                         |\n",
      "|70301023\tMovie\tTom Segura: Completely Normal\tJay Chapman\tTom Segura\tUnited States\tJuly 13, 2017\t2014\tTV-MA\t74 min\tStand-Up Comedy\tLevelheaded stand-up Tom Segura shares offhand appraisals on hotels and opens up about his hobbies and digestive ailments in this comedy special.                                                                                                                                                                     |\n",
      "|80221109\tMovie\t4L\tGerardo Olivares\tJean Reno, Hovik Keuchkerian, Susana Abaitua, Juan Dos Santos, Arturo Valls, Enrique San Francisco, Francesc Garrido, Eric Nguyen\tSpain\tJuly 12, 2019\t2019\tTV-MA\t105 min\tComedies, Dramas, Independent Movies\tHoping to reunite with a dying friend, two longtime pals re-create their desert road trip from Spain to Mali, bringing along his estranged daughter.                                                   |\n",
      "|80221942\tTV Show\tAge Gap Love\t\tFay Ripley\tUnited Kingdom\tJuly 12, 2019\t2017\tTV-MA\t1 Season\tBritish TV Shows, Reality TV, Romantic TV Shows\tDespite the social backlash and challenges that come with intergenerational romance, these couples choose to stick together through thick and thin.                                                                                                                                                          |\n",
      "|80221943\tTV Show\tAinsley Eats the Streets\t\tAinsley Harriott\tUnited Kingdom\tJuly 12, 2019\t2014\tTV-PG\t1 Season\tBritish TV Shows, Docuseries, International TV Shows\tCelebrity chef Ainsley Harriott embarks on a journey around the world to explore the relationship between local street foods and cultural identity.                                                                                                                                   |\n",
      "|81145271\tMovie\tBlack & Privileged: Volume 1\tMark Harris\tDawnisha Halfkenny, Simeon Henderson, Corey Hendrix, Malcom Banks, Nadia Simms, Brian White, Brely Evans, Cynda Williams, Carl Anthony Payne II\tUnited States\tJuly 12, 2019\t2019\tTV-MA\t79 min\tDramas\tWhen low-income families move into a thriving black community in Chicago, they find themselves at odds with politicians to maintain their status.                                          |\n",
      "|80215147\tTV Show\tBlown Away\t\t\tCanada\tJuly 12, 2019\t2019\tTV-PG\t1 Season\tInternational TV Shows, Reality TV\tTen master artists turn up the heat in glassblowing sculpture challenges for the chance to win $60,000 in prizes and the title of champion.                                                                                                                                                                                                   |\n",
      "|81024041\tMovie\tCities of Last Things\tWi Ding Ho\tJack Kao, Lee Hong-chi, Louise Grinberg, Huang Lu, Ding Ning\tTaiwan, China, France, United States\tJuly 12, 2019\t2018\tTV-MA\t106 min\tDramas, Independent Movies, International Movies\tIn a dystopian tale unfolding in reverse chronology, a man with a complicated past takes revenge on the individuals who wronged him decades ago.                                                                    |\n",
      "|80222071\tTV Show\tEncounters with Evil\t\tRichard Lintern\tUnited Kingdom\tJuly 12, 2019\t2016\tTV-14\t1 Season\tBritish TV Shows, Crime TV Shows, Docuseries\tThis documentary series tries to get at the root of some of the most heinous crimes ever committed by deranged, cold-blooded criminals.                                                                                                                                                            |\n",
      "|80210245\tTV Show\tExtreme Engagement\t\tTim Noonan, PJ Madam\t\tJuly 12, 2019\t2019\tTV-MA\t1 Season\tInternational TV Shows, Reality TV\tAn engaged couple travels the world for a year to explore marriage customs in diverse cultures. Will the journey bring them closer or tear them apart?                                                                                                                                                                  |\n",
      "|80224312\tTV Show\tHistory's Greatest Hoaxes\t\t\tAustralia\tJuly 12, 2019\t2016\tTV-PG\t1 Season\tBritish TV Shows, Docuseries\tUsing previously unseen footage, this documentary series offers new insights into some of the biggest scams and forgeries in human history.                                                                                                                                                                                       |\n",
      "|81044248\tMovie\tKidnapping Stella\tThomas Sieben\tMax von der Groeben, Jella Haase, Clemens Schick\tGermany\tJuly 12, 2019\t2019\tTV-MA\t90 min\tDramas, International Movies, Thrillers\tSnatched off the street and held for ransom, a bound and gagged woman uses her limited powers to derail her two masked abductors' carefully laid plans.                                                                                                                 |\n",
      "|80191236\tTV Show\tLuis Miguel - The Series\t\tDiego Boneta, Juan Pablo Zurita, Camila Sodi, Óscar Jaenada, Izan Llunas, Paulina Dávila, Martín Bello, Anna Favella, César Bordón, Vanessa Bauche\tMexico\tJuly 12, 2019\t2018\tTV-MA\t1 Season\tInternational TV Shows, Spanish-Language TV Shows, TV Dramas\tThis series dramatizes the life story of Mexican superstar singer Luis Miguel, who has captivated audiences in Latin America and beyond for decades.|\n",
      "|80224314\tTV Show\tMega Food\t\t\tUnited Kingdom\tJuly 12, 2019\t2013\tTV-G\t1 Season\tBritish TV Shows, Docuseries, International TV Shows\tVisiting the busiest kitchens in the world, this reality series focuses on large-scale food production – and the people who make it happen.                                                                                                                                                                           |\n",
      "|80224184\tTV Show\tMegaTruckers\t\t\tAustralia\tJuly 12, 2019\t2012\tTV-PG\t1 Season\tReality TV\tThis reality ride-along offers a glimpse into the can-do, high-stakes world of big rig drivers who haul massive loads of cargo across Australia.                                                                                                                                                                                                                 |\n",
      "|80224602\tTV Show\tMoney for Nothing\t\t\t\tJuly 12, 2019\t2015\tTV-PG\t1 Season\tBritish TV Shows, International TV Shows, Reality TV\tAided by designers and craftspeople, entrepreneur Sarah Moore rescues items bound for the garbage dump and turns them into valuable, unique objects.                                                                                                                                                                       |\n",
      "|81094069\tTV Show\tOne Spring Night\t\tHan Ji-min, Jung Hae-in, Kim Jun-han, Yim Sung-eon, Song Seung-hwan, Kil Hae-yeon, Lee Moo-saeng, Kim Chang-wan\tSouth Korea\tJuly 12, 2019\t2019\tTV-14\t1 Season\tInternational TV Shows, Korean TV Shows, Romantic TV Shows\tWhen Lee Jeong-in and Yu Ji-ho meet, something unexpected happens. Or it just may be that spring is in the air – and anything is possible.                                                  |\n",
      "|81094893\tTV Show\tPILI Fantasy: War of Dragons\t\tWang Hsi-hua, Lai Wei, Zhang Yu-quan, Chen Yu-kuan, Gao Ming-xiao, Tian Zhi-jie, Li Xiang-yu, Guo Ya-zhen, Zhan Yi-chun, Ye Yu-jia\t\tJuly 12, 2019\t2019\tTV-14\t1 Season\tInternational TV Shows, TV Action & Adventure, TV Sci-Fi & Fantasy\tAs turmoil looms in the Martial World, and the Eight Wonders of the Evil Dragon unleashes dark forces, who will emerge as the new warrior legend?               |\n",
      "|80221677\tMovie\tPoint Blank\tJoe Lynch\tFrank Grillo, Anthony Mackie, Marcia Gay Harden, Teyonah Parris, Boris McGiver, Christian Cooke, Markice Moore\tFrance, United States\tJuly 12, 2019\t2019\tTV-MA\t87 min\tAction & Adventure\tTo save his pregnant wife, an emergency room nurse unwillingly partners with an injured murder suspect in a race against time and renegade cops.                                                                           |\n",
      "+--------------------------------------------------------------------------------------------------------------------------------------------------------------------------------------------------------------------------------------------------------------------------------------------------------------------------------------------------------------------------------------------------------------------------------------------------------+\n",
      "only showing top 20 rows\n",
      "\n"
     ]
    }
   ],
   "source": [
    "# Show header\n",
    "\n",
    "titles_single_df.show(truncate=False)"
   ]
  },
  {
   "cell_type": "code",
   "execution_count": 11,
   "metadata": {
    "colab": {
     "base_uri": "https://localhost:8080/",
     "height": 68
    },
    "colab_type": "code",
    "id": "P0HJfU--BRm1",
    "outputId": "5e7a9c59-9d18-41c1-d9b1-21fbc9445390"
   },
   "outputs": [
    {
     "name": "stdout",
     "output_type": "stream",
     "text": [
      "root\n",
      " |-- _c0: string (nullable = true)\n",
      "\n"
     ]
    }
   ],
   "source": [
    "# Print schema\n",
    "\n",
    "titles_single_df.printSchema()"
   ]
  },
  {
   "cell_type": "markdown",
   "metadata": {
    "colab_type": "text",
    "id": "Uyelt4SeaiHe"
   },
   "source": [
    "# **Q&A?**"
   ]
  },
  {
   "cell_type": "markdown",
   "metadata": {
    "colab_type": "text",
    "id": "hSTcSJgEB-YK"
   },
   "source": [
    "# **Cleaning up our data**\n",
    "\n",
    "We know from some earlier analysis that we have comment rows in place (ie, rows that begin with a `#`). While Spark provides a DataFrame option to handle this automatically, let's consider what it would take to remove comment rows.\n",
    "\n",
    "We need to:\n",
    "\n",
    "- Determine if the column / line starts with a `#`\n",
    "- If so, filter these out to a new DataFrame\n",
    "\n",
    "There are many ways to accomplish this in Spark, but let's use a conceptually straight-forward option, `.startsWith()`."
   ]
  },
  {
   "cell_type": "code",
   "execution_count": 12,
   "metadata": {
    "colab": {
     "base_uri": "https://localhost:8080/",
     "height": 459
    },
    "colab_type": "code",
    "id": "Pny8lhMnBVsv",
    "outputId": "5af41209-cacc-4892-cbe3-6cdc60f00d14"
   },
   "outputs": [
    {
     "name": "stdout",
     "output_type": "stream",
     "text": [
      "+--------------------+\n",
      "|                 _c0|\n",
      "+--------------------+\n",
      "|# (87.8 percent B...|\n",
      "|# On exteriority,...|\n",
      "|# Roosevelt Unive...|\n",
      "|# An \"or\". a conv...|\n",
      "|# 1611–1613 Kalma...|\n",
      "|# A legally scien...|\n",
      "|# Reparenting, ma...|\n",
      "| # USA South is done|\n",
      "|# The wave for is...|\n",
      "|# Which was, Chan...|\n",
      "|# Five 40 dangero...|\n",
      "|# Heisei Hyakkei ...|\n",
      "|# (or will advanc...|\n",
      "|# Procedures. Kow...|\n",
      "|# 3 million. part...|\n",
      "|# And 1985, by bo...|\n",
      "|# Their decision,...|\n",
      "|# 82 (4): birds h...|\n",
      "|# Viva was surfac...|\n",
      "|# Of Monte-Cristo...|\n",
      "+--------------------+\n",
      "only showing top 20 rows\n",
      "\n"
     ]
    }
   ],
   "source": [
    "# Filter DataFrame and show rows that starts with #\n",
    "\n",
    "titles_single_new_df = titles_single_df.filter(F.col('_c0').startswith('#'))\n",
    "titles_single_new_df.show()"
   ]
  },
  {
   "cell_type": "code",
   "execution_count": 13,
   "metadata": {
    "colab": {
     "base_uri": "https://localhost:8080/",
     "height": 34
    },
    "colab_type": "code",
    "id": "8GOHWXvmDhtu",
    "outputId": "ef392087-5e1c-452c-e6f0-53001e967392"
   },
   "outputs": [
    {
     "data": {
      "text/plain": [
       "47"
      ]
     },
     "execution_count": 13,
     "metadata": {},
     "output_type": "execute_result"
    }
   ],
   "source": [
    "# Count number of rows\n",
    "\n",
    "titles_single_new_df.count()"
   ]
  },
  {
   "cell_type": "markdown",
   "metadata": {
    "colab_type": "text",
    "id": "MurSx_92YsGv"
   },
   "source": [
    "We've determined that we have 47 rows that begin with a comment character. We can now easily filter these from our DataFrame as we do below. This resolves **Problem 4**.\n",
    "\n",
    "*Note: We're doing things in a more difficult fashion than is absolutely necessary to illustrate options. The Spark CSV reader has an option for a `comment` property, which actually defaults to skipping all rows starting with a `#` character. That said, it only supports a single character - consider if you were looking for multi-character options (ie, a // from C-style syntax). This feature is also only available in newer versions of Spark, where our method works in any of the 2.x Spark releases.*"
   ]
  },
  {
   "cell_type": "code",
   "execution_count": 14,
   "metadata": {
    "colab": {},
    "colab_type": "code",
    "id": "FnKLL42OXtkx"
   },
   "outputs": [],
   "source": [
    "# Filter out comments\n",
    "\n",
    "titles_single_df = titles_single_df.filter(~ F.col('_c0').startswith('#'))"
   ]
  },
  {
   "cell_type": "code",
   "execution_count": 15,
   "metadata": {
    "colab": {
     "base_uri": "https://localhost:8080/",
     "height": 34
    },
    "colab_type": "code",
    "id": "MHbyFQt4aUag",
    "outputId": "1ff9ea9a-7e4c-419d-d415-39a456a64fb3"
   },
   "outputs": [
    {
     "data": {
      "text/plain": [
       "6191"
      ]
     },
     "execution_count": 15,
     "metadata": {},
     "output_type": "execute_result"
    }
   ],
   "source": [
    "titles_single_df.count()"
   ]
  },
  {
   "cell_type": "markdown",
   "metadata": {
    "colab_type": "text",
    "id": "2NRGmdeqa2L3"
   },
   "source": [
    "# **Checking column counts**\n",
    "\n",
    "Our next step for cleaning this dataset in Pyspark involves determining how many columns we should have in our dataset and take care of any outliers. We know from our earlier examination that the dataset should have 12 usable columns per row.\n",
    "\n",
    "First, let's determine how many columns are present in the data and add that as a column. We'll do this with a combination of:\n",
    "\n",
    "- `F.split()`: This acts similar to the Python `split()` method, splitting the contents of a dataframe column on a specified character into a Spark ArrayType column (ie, Spark's version of a list variable). \n",
    "- `F.size()`: Returns the size (length) of a Spark ArrayType column.\n",
    "- `.withColumn()`: Creates a new dataframe with a given column."
   ]
  },
  {
   "cell_type": "code",
   "execution_count": 16,
   "metadata": {
    "colab": {},
    "colab_type": "code",
    "id": "0mNCitULaWL7"
   },
   "outputs": [],
   "source": [
    "# Add a column representing the total number of fields / columns\n",
    "\n",
    "titles_single_df = titles_single_df.withColumn('fieldCount', F.size(F.split(titles_single_df['_c0'], '\\t')))"
   ]
  },
  {
   "cell_type": "code",
   "execution_count": 17,
   "metadata": {
    "colab": {
     "base_uri": "https://localhost:8080/",
     "height": 479
    },
    "colab_type": "code",
    "id": "Lv5MOxL_tuyw",
    "outputId": "87205a7d-e1a0-4558-b866-2812ed6065ac"
   },
   "outputs": [
    {
     "name": "stdout",
     "output_type": "stream",
     "text": [
      "+----------+---------------------------------------------------------------------------------------------------------------------------------------------------------------------------------------------------------------------------------------------------------------------------------------------------------------------------------------------------------------------------------------------------------------------------------------------------------------------------------------------------------------------------------------------------------------------------------------------------------------------------------------------------------------------------------------------------------------------------------------------------------------------------------------------------------------------------------------------------------------------------------------------------+\n",
      "|fieldcount|_c0                                                                                                                                                                                                                                                                                                                                                                                                                                                                                                                                                                                                                                                                                                                                                                                                                                                                                                |\n",
      "+----------+---------------------------------------------------------------------------------------------------------------------------------------------------------------------------------------------------------------------------------------------------------------------------------------------------------------------------------------------------------------------------------------------------------------------------------------------------------------------------------------------------------------------------------------------------------------------------------------------------------------------------------------------------------------------------------------------------------------------------------------------------------------------------------------------------------------------------------------------------------------------------------------------------+\n",
      "|17        |81121186\tMovie\tNOVA: Prediction by the Numbers\tDaniel McCabe\tJay O. Sanders\tUnited States\tJuly 1, 2019\t2018\tTV-G\t53 min\tDocumentaries\tWith the science of forecasting flourishing, this documentary explores how predictions inform our lives and statistics and algorithms' reliability.\t\tUruct@ect.fr\thttps://Ind.us.gif\tthe@weas.com\t837-874-9418                                                                                                                                                                                                                                                                                                                                                                                                                                                                                                                                               |\n",
      "|20        |80099016\tMovie\tIBOY\tAdam Randall\tBill Milner, Maisie Williams, Rory Kinnear, Miranda Richardson, Jordan Bolger, Charley Palmer Rothwell, Aymen Hamdouchi\tUnited Kingdom\tJanuary 27, 2017\t2017\tTV-MA\t91 min\tInternational Movies, Sci-Fi & Fantasy, Thrillers\tWhen shards of a cell phone get lodged in a teenager's brain, he discovers he can control electronic devices and uses his newfound power for revenge.\t\tan@watime.com\thttps://as.us/Earnal/sions.sm-andes-Itan\t200000.th@antre.us\t591-758-0224\twhiso.fistry@sooman57.com\t79576\tind@agence.usiged.us                                                                                                                                                                                                                                                                                                                                    |\n",
      "|26        |70113006\tMovie\tThe Final Destination\tDavid R. Ellis\tBobby Campo, Shantel VanSanten, Nick Zano, Haley Webb, Mykelti Williamson, Krista Allen, Andrew Fiscella, Justin Welborn, Stephanie Honoré\tUnited States\tJanuary 1, 2020\t2009\tR\t82 min\tHorror Movies\tNick O'Bannon thinks he's cheated death when he keeps a grisly premonition from becoming reality, but he soon realizes that fate has other plans.\t\tcal.gentic@win.gov\thttps://thampe.org/the.whilly-produl27\tbitedu504@cuilop.com\t372-771-9479\tmatems@lartha.tv\t28582\tof@foughe.org\thttps://used.us/the/Caboha.php\tduccut@mocked.com\tition,\tinumis@he.tv\t\ta@Leve.edu                                                                                                                                                                                                                                                                      |\n",
      "|23        |60004476\tMovie\tJay and Silent Bob Strike Back\tKevin Smith\tJason Mewes, Kevin Smith, Ben Affleck, Jeff Anderson, Brian O'Halloran, Shannon Elizabeth, Eliza Dushku, Ali Larter, Jennifer Schwalbach, Will Ferrell, Jason Lee\tUnited States\tJanuary 1, 2019\t2001\tR\t105 min\tComedies, Cult Movies\tJay and Silent Bob's comic book alter egos have been sold to Hollywood without permission, so they head to Tinseltown to sabotage the production.\t\tthe@a.com\thttps://werric.com/fulaya/the/The.mern10-woriag-Jultur\tist@a.of.com\t220-422-0555\tAs@Scate.edu\t48985\twidept@now.com\thttps://ing.biz/of/nommun/a.peny-tworiv-by\tand@Deatin.com\tThe                                                                                                                                                                                                                                                       |\n",
      "|27        |70286029\tMovie\tMonster High: Why Do Ghouls Fall in Love?\tDustin McKenzie, Steve Sacks\tLaura Bailey, Ogie Banks, Cam Clarke, Debi Derryberry, Erin Fitzgerald, Kate Higgins, Jonathan Lipow, Audu Paden, Cindy Robinson, Salli Saffioti, Evan Smith, America Young\tUnited States\tJanuary 1, 2018\t2013\tTV-Y7\t46 min\tChildren & Family Movies\tDraculaura's ghoulfriends have some suspicions about one of her two persistent suitors – but can they stop him before he steals her un-beating heart?\t\tcandle@Ion.net\thttps://us.tain.net/the/ang.Therge-troand-majoya-the-ing-thomme65\tcoduch@Nor.fr\t576-493-0008\ta@exual.Burnit.us\t51727\tprove@socans.jp\thttps://is.whisio.us/as/Placia/ing/Min.fory,-by32\tspere.sedout@pon.com\tAment\tCend.begick@ision.gov\t\t1300@Swed.tv\thttps://of.com/polles/ha.ound-foriss53-lans                                                                                 |\n",
      "|35        |70039645\tMovie\tZach Galifianakis: Live at the Purple Onion\tMichael Blieden\tZach Galifianakis, Brian Unger\tUnited States\tFebruary 26, 2019\t2006\tTV-MA\t61 min\tStand-Up Comedy\tThe unorthodox, piano-playing stand-up star Zach Galifianakis makes a splash on the scene and serves up a healthy dose of his signature wit.\t\tlarly.The@coadve.ru\thttps://etwo.com/Unitur/be/Atly.html\tFais@co.biz\t971-617-7850\tSuscho@con.gov\t77933\tof@fealgi.cough.net\thttps://stmose.com/oriali/coutco/Pubgem/mal.theaus-th12-of13-wain\tof@noulan.tv\tDecomy\tand@du.com\t\tfroper@Canic.com\thttp://on.ru/sed/for.Naraiw-ma5\tfourea.wits@isints.com\t\tcoges.gonto@of.com\t\tand@dozoni.Anicat.com\thttps://wed976.com/Sparld/numark/rage/the.Nom-Agrope54997319\tainglo@Comica.of.edu\t                                                                                                                                       |\n",
      "|15        |80198794\tTV Show\tRe:Mind\t\tKeyakizaka46\tJapan\tFebruary 15, 2018\t2017\tTV-MA\t1 Season\tInternational TV Shows, TV Dramas, TV Mysteries\tEleven high school classmates awaken, restrained to a large dining room. While fearing for their lives, they question a motive to this bizarre act.\t\tFunifi@sideen.com\thttp://topopu.com/to.Islato55-litent-is-artisa30-abduch                                                                                                                                                                                                                                                                                                                                                                                                                                                                                                                                  |\n",
      "|32        |80167646\tMovie\tThe Blind Christ\tChristopher Murray\tMichael Silva, Bastián Inostroza, Ana María Henríquez, Mauricio Pinto, Pedro Godoy, Hermelinda Cayo, Héctor Mella, Gonzalo Villalobos, Noelia Rubio\tChile, France\tAugust 1, 2017\t2016\tTV-MA\t86 min\tDramas, Independent Movies, International Movies\tA man claiming he had a divine revelation as a child treks across the Chilean desert to perform a miracle on a friend badly injured in a remote town.\t\trand@pernar.biz\thttp://is.nal.com/by/wever/was/Forgin.puliko-ifird-thembo\taderve@becolv.edu\t374-831-1651\ta@of181.com\t58861\ttian@Mobsiz.net\thttp://pid.org/com/naterl/of/the.matudi-laname-cology-Eurrel-of\tecto@whount.com\tDevial\tan.sooms@fousit.fr\t\tpred@triesp.net\thttps://tork.net/20thoo/painit.larmay14-the-Vargat8366\tth@al.edu\t\tvateca@Bus.com\t\tinguen@Subate274.co.uk                                                       |\n",
      "|30        |80118918\tMovie\tStrike a Pose\tEster Gould, Reijer Zwaan\t\tNetherlands, Belgium\tApril 7, 2017\t2016\tTV-MA\t85 min\tDocumentaries, International Movies, LGBTQ Movies\tA quarter-century later, this documentary relocates the male dancers who backed Madonna on her 1990 Blond Ambition tour, as seen in \"Truth or Dare.\"\t\tles@hinges.net\thttp://downs.us/bectio/is/casse.html\tdurems@was999.co.uk\t680-778-1031\tBrolud@Cens.com\t1864\tof@gre.ru\thttps://Bathe.tv.png\t29@humate.us\tby\talled@to.com\t\tof@form.thin.gov\thttps://sologe.com/Reput/plattl/Orgy/to.propor-to-tries\tnintat@dis.net\t\tthenti846@fochou.en.com                                                                                                                                                                                                                                                                                       |\n",
      "|34        |80104198\tTV Show\tLost in Space\t\tMolly Parker, Toby Stephens, Max Jenkins, Taylor Russell, Mina Sundwall, Parker Posey, Ignacio Serricchio\tUnited States\tApril 13, 2018\t2018\tTV-PG\t1 Season\tTV Action & Adventure, TV Dramas, TV Sci-Fi & Fantasy\tAfter crash-landing on an alien planet, the Robinson family fights against all odds to survive and escape. But they're surrounded by hidden dangers.\t\tthen@Unican.us\thttp://pras.tv/Spand/whicou.arevoc-sact4-ing-taint-difica\tne@hichor.jp\t738-149-6607\tres@al.com\t6404\tSiencl@ing.biz\thttp://cons.us/couts.html\tDecans@law.biz\tpron\tact846@as.us\t\tinated380@regin.com\thttp://Kin.edu/lit/his/comatt.of-colow57-rentru-forequ-Statea-The\taniong925@was.org\t\ta@center.co.uk\t\tdiniqu@bran.ru\thttps://re847.us.(extio-to-His\tprommi@bechou.edu                                                                                                      |\n",
      "|35        |80207445\tMovie\tThe Legend of Michael Mishra\tManish Jha\tArshad Warsi, Aditi Rao Hydari, Kayoze Irani, Boman Irani\tIndia\tApril 1, 2019\t2016\tTV-PG\t118 min\tComedies, Dramas, International Movies\tAfter a life of crime, a notorious kidnapper tries to change his ways and turn over a new leaf to win the heart of the woman he loves.\t\tthe@The.200.us\thttps://by.Comens.biz/bectin/prount/tive/art.fore-com-Thenti-ind-to-not\tagente@des.com\t300-324-1101\tarions@martia.com\t93170\tbel785@th.the.com\thttps://so.us.asp\tbety361@Inds510.com\thas\ta@the.edu\t\tthe.Cenesi@gain.com\thttp://actlag.com/ing.html\tth@Not661.us\t\tang231@auding.com\t\tpard@to.An.com\thttp://East.biz/way/over.the91-adiver\ta.Humacy@Nolopu.com\t                                                                                                                                                                                 |\n",
      "|35        |60000722\tMovie\tPhir Bhi Dil Hai Hindustani\tAziz Mirza\tShah Rukh Khan, Juhi Chawla, Paresh Rawal, Satish Shah, Dilip Tahil, Govind Namdeo, Smita Jaykar, Shakti Kapoor, Johnny Lever\tIndia\tApril 1, 2018\t2000\tTV-PG\t159 min\tComedies, Dramas, International Movies\tIn this Bollywood entertainment, two journalists, Ajay and Ria, work for rival TV stations and compete heavily to mask their feelings for each other.\t\tfen.and@Rearly.com\thttps://andepr.co.uk/eventi/Krain/thatin/inic.as-in-GeV42\tSlonsu@imasti.com\t999-278-9874\tinativ.ativen@an.thand.us\t10454\tado.Asighw@of.conega.co.uk\thttp://ili.com.html\tthe@Cences.edu\tAdmay\tAsin@ithe.org\t\tthot@ustect.com\thttps://the.com/2011/sha.a-of-forn-diseca-matind-ords\tFicann@abled.com\t\tre@to.edu\t\tOrg@orated.gov\thttps://the.th.ru/usheir/Bakey.reenta-ean-ory-ing\tshil@thaved808.us\t                                                     |\n",
      "|21        |80159714\tTV Show\tBala Loca\t\tAlejandro Goic, Trinidad González, Ingrid Isensee, Mario Horton, Manuela Oyarzún, Fernanda Urrejola, Catalina Saavedra, Pablo Schwarz, Aline Küppenheim, Marcial Tagle, Víctor Quezada, Alfredo Castro, Roberto Farías, Hugo Medina, Daniel Candia, María Paz Grandjean, Alejandro Sieveking, Nicolás Durán, Sergio Hernández, Willy Semler, Erto Pantoja\tChile\tApril 1, 2017\t2016\tTV-MA\t1 Season\tInternational TV Shows, Spanish-Language TV Shows, TV Dramas\tA veteran journalist starting a news site about corruption in Chile stumbles on a big story when a fellow investigative reporter dies suspiciously.\t\tof@Hit.org\thttps://angly.net.html\tUrb@Provel.the.org\t488-752-7084\tacton@the.com\t29160\tdu@hassio.com\thttps://In.com/holis.and-ons37                                                                                                                 |\n",
      "|30        |80134695\tTV Show\tFree Rein\t\tJaylen Barron, Manpreet Bambra, Celine Buckens, Freddy Carter, Caroline Ford, Natalie Gumede, Bruce Herbelin-Earle, Noah Huntley, Kerry Ingram, Paul Luebke, Geoffrey McGivern, Navia Ziraili Robinson, Milo Twomey, Carla Woodcock\tUnited States\t July 6, 2019\t2019\tTV-G\t3 Seasons\tBritish TV Shows, Kids' TV, TV Dramas\tA 15-year-old from LA spends the summer at her mom's childhood home on an island off the coast of England, where she bonds with a mysterious horse.\t\tknotop@of689.com\thttp://solso.fr/prich/The/of.the-prompl-Trat-forana-ons-a-hicano\twhis@the.com\t812-758-6230\tasin.ralude@cand.net\t50496\tforédé.inges@a.com\thttp://is.com/uple/the.com-icalso-sectie\tlactis@Ancitu.net\tState\tand@be.biz\t\tand@witoor751.com\thttp://siffic.com/dry/of/molowf.The30-moso\tcovere@larese.gov\t\tmat@The.com                                                      |\n",
      "|33        |80123950\tTV Show\tI Am Me!\t\tGermán Bracco, Daniela Luque, José Antonio Becerril, Paula Serrano, Héctor Holten, Héctor Loeza, Edson Loyo, Brandon Rosas, José Sefami, Tiosha Bojórquez\tMexico\tMarch 3, 2017\t2016\tTV-14\t1 Season\tInternational TV Shows, Spanish-Language TV Shows, TV Comedies\tAspiring hip-hop star Francisco builds a name for himself as a musical artist while his conscience helps him through family drama and discrimination.\t\tthe@botana.org\thttps://to.org/urnit/sh/recods/re.comera-Applar-Othear-for-Frathe-they-Ration\tus500@betion.ITU.co.uk\t576-183-3646\tecand@by.edu\t53177\tthe.may@In.jp\thttps://a.com/bethol.html\tDEMOZ321@monte.ru\tle\tfice@notati.com\t\ttweven.20s@buntai.com\thttps://of.com/quilit/actual/stakol/in.le-but-Brouti-or-Pargyp-for47\tand858@thed.sunt.org\t\tbe@cot.com\t\ttowith@etarth.Basust.net\thttps://betudi.net.sed-winin-Spater-Sche-of-exampt-cons|\n",
      "|15        |80044566\tMovie\tWelcome to New York\tAbel Ferrara\tGérard Depardieu, Jacqueline Bisset, Marie Mouté, Paul Calderon, Paul Hipp, Pamela Afesi, Chris Zois, Shanyn Leigh, Drena De Niro, Amy Ferguson, Aurelie Claudel, Nikki James\tUnited States, France\tMarch 23, 2017\t2014\tR\t108 min\tDramas, Independent Movies\tA lecherous World Bank official sees his reputation crumbling when he's accused of raping a hotel maid during a trip to New York.\t\tth@coload.tv\thttps://the.the.com/the/sichol.orthe-obivia82                                                                                                                                                                                                                                                                                                                                                                                         |\n",
      "|25        |70001082\tMovie\tRun\tJeeva\tAbhishek Bachchan, Bhoomika Chawla, Mahesh Manjrekar, Vijay Raaz, Mukesh Rishi, Ayesha Jhulka, Anjan Srivastav, Goga Kapoor, Mukul Agarwal, Shweta Menon\tIndia\tMarch 1, 2018\t2004\tTV-14\t134 min\tAction & Adventure, International Movies, Music & Musicals\tSiddharth falls in love with beautiful Jhanvi. But Jhanvi's brother Ganpat is overly possessive – and determined to destroy their relationship.\t\tch@difia.tv\thttp://the.fr/and.Denter241-Asigre-hoters-censid\tcany@en.tv\t975-655-4248\tLat@Julazi.com\t18560\tAT@1952.ru\thttp://the.jp.His-st-oturig\tthe@races.com\ta\tof@the.edu\t                                                                                                                                                                                                                                                                                  |\n",
      "|16        |80186608\tMovie\tThor: Ragnarok\tTaika Waititi\tChris Hemsworth, Tom Hiddleston, Cate Blanchett, Idris Elba, Jeff Goldblum, Tessa Thompson, Karl Urban, Mark Ruffalo, Anthony Hopkins, Benedict Cumberbatch, Taika Waititi, Rachel House, Clancy Brown, Tadanobu Asano, Ray Stevenson, Zachary Levi, Luke Hemsworth, Sam Neill\tUnited States\tJune 5, 2018\t2017\tPG-13\t131 min\tAction & Adventure, Comedies, Sci-Fi & Fantasy\tTo save Asgard from a bloodthirsty goddess of death, the mighty Thor will have to battle his way to freedom and find a way back home.\t\tall.th@al.co.uk\thttps://hys.winine.edu/guity/anted/come.thingu52-sphist-Jappro\tfor@fora.com                                                                                                                                                                                                                                         |\n",
      "|19        |80217569\tMovie\tTAU\tFederico D'Alessandro\tMaika Monroe, Ed Skrein, Gary Oldman\tUnited States\tJune 29, 2018\t2018\tR\t98 min\tSci-Fi & Fantasy, Thrillers\tKidnapped by an inventor who uses her as a test subject to perfect his robotic AI, a street-smart young woman tries to escape her high-tech prison.\t\tAs.nomere@Barcul.com\thttps://therte.Afric.com/ition/ana/an/as.jpg\tTrical@witang410.com\t612-334-5093\thas787@partue.co.uk\t64934                                                                                                                                                                                                                                                                                                                                                                                                                                                             |\n",
      "|29        |80237975\tTV Show\tYoko\t\tEileen Stevens, Alyson Leigh Rosenfeld, Sarah Natochenny, H.D. Quinn\t\tJune 23, 2018\t2016\tTV-Y\t1 Season\tKids' TV\tFriends Mai, Oto and Vik's games at the park become magical adventures, thanks to Yoko, who can turn playgrounds into spaceships and camping sites.\t\ttharli@bets127.edu\thttps://mic.biz/the.html\tPorly.the@deas.tv\t518-482-5011\tin@clarec.Feall.com\t87330\tth@therat.ity.us\thttps://Pacter.Fain.org/hicest/10/munt.re-whices-Most-the\tto5@brater.com\tof\tandula.the@han.jp\t\tHe@a648.net\thttp://an.us/sect/so/withe/socife.html\tweepol@Monals.bial.fr\t                                                                                                                                                                                                                                                                                                         |\n",
      "+----------+---------------------------------------------------------------------------------------------------------------------------------------------------------------------------------------------------------------------------------------------------------------------------------------------------------------------------------------------------------------------------------------------------------------------------------------------------------------------------------------------------------------------------------------------------------------------------------------------------------------------------------------------------------------------------------------------------------------------------------------------------------------------------------------------------------------------------------------------------------------------------------------------------+\n",
      "only showing top 20 rows\n",
      "\n"
     ]
    }
   ],
   "source": [
    "# Show rows with a fieldcount > 12 (Note, select statement here isn't necessarily required - used to reorder the columns for easier viewing)\n",
    "titles_single_df.select('fieldcount', '_c0').where('fieldCount > 12').show(truncate=False)"
   ]
  },
  {
   "cell_type": "code",
   "execution_count": 18,
   "metadata": {
    "colab": {
     "base_uri": "https://localhost:8080/",
     "height": 479
    },
    "colab_type": "code",
    "id": "Pl3Tz5rht5OC",
    "outputId": "630d76f9-394d-4c54-ab74-f9b8bb6df6d3"
   },
   "outputs": [
    {
     "name": "stdout",
     "output_type": "stream",
     "text": [
      "+----------+-------------------------------------------------------------------------------------------------------------------------------------------------------------------------------------------------------------------------------------------------------------------------------------------------------------------------------------------------------------------------------------------------------------------------------------------------------------------------------------------------------------------------------------------------------------------------------------------------------------------+\n",
      "|fieldcount|_c0                                                                                                                                                                                                                                                                                                                                                                                                                                                                                                                                                                                                                |\n",
      "+----------+-------------------------------------------------------------------------------------------------------------------------------------------------------------------------------------------------------------------------------------------------------------------------------------------------------------------------------------------------------------------------------------------------------------------------------------------------------------------------------------------------------------------------------------------------------------------------------------------------------------------+\n",
      "|3         |Movie\t\tThis fun, charming documentary follows the exploits of some very feline-friendly folks as they strive to get their kitties crowned Canada’s top cat.                                                                                                                                                                                                                                                                                                                                                                                                                                                        |\n",
      "|10        |81047677\tMovie\tI Dream Of Dance\tMaria Demeshkina Peek\t\t\t2017\tTV-PG\t106 min\tExperience the joy and sacrifice of one of the nation's premier dance companies as its members and instructors prepare for a prestigious competition.                                                                                                                                                                                                                                                                                                                                                                                   |\n",
      "|9         |\tKaycie Chase, David Gasman, Tom Morton, Lee Delong, Barbara Weber-Scaff\t\tJanuary 31, 2019\t2018\tTV-Y\t1 Season\tKids' TV\tStan and Olivia – the amazingly different Paprika twins – use their boundless enthusiasm to turn everyday life into an extraordinary adventure.                                                                                                                                                                                                                                                                                                                                             |\n",
      "|10        |80223136\tMovie\tMatt Toronto\tUnited States\tJanuary 15, 2018\t2017\tTV-MA\t89 min\tDramas, Independent Movies\tTwo former friends, who now live far apart, learn about each other's insecurities and secrets over a series of video chats.                                                                                                                                                                                                                                                                                                                                                                                |\n",
      "|8         |80020131\tKate Higgins, Debi Derryberry, Salli Saffioti, Evan Smith, Laura Bailey, Audu Paden, Erin Fitzgerald, Cindy Robinson, Ogie Banks, Cam Clarke\tJanuary 1, 2018\t2012\tTV-Y7\t46 min\tChildren & Family Movies\tA swanky cruise veers off course for Lagoona and her friends when they're left stranded on Skull Shores, an island with a notorious beast.                                                                                                                                                                                                                                                        |\n",
      "|1         |70213078                                                                                                                                                                                                                                                                                                                                                                                                                                                                                                                                                                                                           |\n",
      "|5         |The 2000s\t\tUnited States\tFebruary 19, 2019\tTV-MA                                                                                                                                                                                                                                                                                                                                                                                                                                                                                                                                                                   |\n",
      "|3         |TV Show\tTV-MA\tCrime TV Shows, International TV Shows, Spanish-Language TV Shows                                                                                                                                                                                                                                                                                                                                                                                                                                                                                                                                    |\n",
      "|11        |80109038\tTV Show\tYou're My Destiny\t\tJoe Chen, Ethan Juan, Baron Chen, Bianca Bai, Wei-hsun Na, Tan Ai-Chen\tTaiwan\tAugust 1, 2016\t2008\tTV-14\tInternational TV Shows, Romantic TV Shows, TV Comedies\tA young woman's romantic cruise ends in a twist when she gets pregnant after a one-night stand with a rich executive, turning their lives upside down.                                                                                                                                                                                                                                                          |\n",
      "|11        |80227114\tMovie\tKüçük Esnaf\tBedran Güzel\tİbrahim Büyükak, Zeynep Koçak, Gupse Özay, Cengiz Bozkurt\tTurkey\tApril 4, 2018\t2016\tTV-14\tComedies, International Movies\tAs an honest locksmith scrambles to pay his late father's hefty debt to the mafia, he crosses paths with a woman in similar trouble and falls for her.                                                                                                                                                                                                                                                                                            |\n",
      "|8         |80108518\tAnthony D'Souza\tApril 12, 2019\t2016\tTV-PG\t129 min\tDramas, International Movies, Sports Movies\tThis biopic traces the tumultuous life and career of top cricket player Mohammad Azharuddin, who led India's national team in the 1990s.                                                                                                                                                                                                                                                                                                                                                                    |\n",
      "|3         |The Miracle\tDonghyun Kim, Nahyun, Yang Hak Jin, Yoon Hwa Hong\tInternational TV Shows, Korean TV Shows, TV Dramas                                                                                                                                                                                                                                                                                                                                                                                                                                                                                                   |\n",
      "|11        |80179762\tShe-Ra and the Princesses of Power\t\tAimee Carrero, AJ Michalka, Marcus Scribner, Karen Fukuhara, Reshma Shetty, Lorraine Toussaint, Keston John, Lauren Ash, Christine Woods, Morla Gorrondona, Antony Del Rio, Dana Davis, Grey Griffin, Genesis Rodriguez, Jordan Fisher, Vella Lovell, Merit Leighton, Sandra Oh, Krystal Joy Brown\tUnited States\t November 5, 2019\t2019\tTV-Y7-FV\t4 Seasons\tKids' TV, TV Action & Adventure, TV Sci-Fi & Fantasy\tSoldier Adora finds a magic sword – and her identity as legendary hero She-Ra. She joins the Rebellion, but her best friend stays with the evil Horde.|\n",
      "|3         |80119194\tMovie\tThe Memphis Belle: A Story of a                                                                                                                                                                                                                                                                                                                                                                                                                                                                                                                                                                     |\n",
      "|10        |Flying Fortress\"\tWilliam Wyler\t\tUnited States\tMarch 31, 2017\t1944\tTV-PG\t40 min\tClassic Movies, Documentaries\tThis documentary centers on the crew of the B-17 Flying Fortress Memphis Belle as it prepares to execute a strategic bombing mission over Germany.                                                                                                                                                                                                                                                                                                                                                    |\n",
      "|11        |60029366\tMovie\tHowards End\tJames Ivory\tAnthony Hopkins, Vanessa Redgrave, Helena Bonham Carter, Emma Thompson, James Wilby, Samuel West, Jemma Redgrave, Joseph Bennett, Nicola Duffett, Susie Lindeman\tUnited Kingdom, Japan, United States\tMarch 16, 2017\t1992\tPG\tClassic Movies, Dramas, Independent Movies\tWhen a husband, acting in his family's \"best interest,\" does not accept his wife's deathbed wish, providence dictates that he pay for his duplicity.                                                                                                                                                |\n",
      "|8         |Maryo J. De los Reyes\tMaricel Soriano, Aga Muhlach, Angelica Panganiban, Dante Rivero, Chin Chin Gutierrez, Bobby Andrews, TJ Trinidad, Baron Geisler, John Arcilla, Gerald Madrid\tPhilippines\tMarch 14, 2019\t2007\tTV-14\t117 min\tSelf-made millionaire Ian thinks he's found happiness when he marries caring Joanna, but his love is put to the test when he meets stewardess Karyn.                                                                                                                                                                                                                              |\n",
      "|11        |80144119\tMovie\tMy Honor Was Loyalty\tAlessandro Pepe\tLeone Frisa, Paolo Vaccarino, Francesco Migliore, Albrecht Weimer, Giulia Dichiaro, Alessandra Oriti Niosi, Andreas Segeritz\tItaly\tMarch 1, 2017\t\t115 min\tDramas\tAmid the chaos and horror of World War II, a committed German soldier fights a private battle with his own conscience.                                                                                                                                                                                                                                                                        |\n",
      "|2         |\tTV-G                                                                                                                                                                                                                                                                                                                                                                                                                                                                                                                                                                                                              |\n",
      "|11        |70293812\tMovie\tUnder The Skin\tJonathan Glazer\tScarlett Johansson, Krystof Hádek, Jeremy McWilliams, Joe Szula, Lynsey Taylor Mackay, Dougie McConnell, Kevin McAlinden, Andrew Gorman, Roy Armstrong, Alison Chand, Paul Brannigan\tSwitzerland, United Kingdom, United States\tJuly 15, 2018\t2013\tR\t108 min\tA seductive alien prowls the streets in search of prey: unsuspecting men who fall under her spell, only to be consumed by a strange liquid pool.                                                                                                                                                        |\n",
      "+----------+-------------------------------------------------------------------------------------------------------------------------------------------------------------------------------------------------------------------------------------------------------------------------------------------------------------------------------------------------------------------------------------------------------------------------------------------------------------------------------------------------------------------------------------------------------------------------------------------------------------------+\n",
      "only showing top 20 rows\n",
      "\n"
     ]
    }
   ],
   "source": [
    "# Check for any rows with fewer than 12 columns\n",
    "\n",
    "titles_single_df.select('fieldcount', '_c0').where('fieldcount < 12').show(truncate=False)"
   ]
  },
  {
   "cell_type": "markdown",
   "metadata": {
    "colab_type": "text",
    "id": "S71Avac6k1h3"
   },
   "source": [
    "**Observation 4**: We notice that we have many rows with fewer or greater than 12 columns of data. \n",
    "\n",
    "**Problem 7**: Column counts do not match our expected schema."
   ]
  },
  {
   "cell_type": "code",
   "execution_count": 18,
   "metadata": {
    "colab": {},
    "colab_type": "code",
    "id": "YmqGCyxi7peV"
   },
   "outputs": [],
   "source": [
    "# Save these to a separate dataframe for later analysis\n",
    "\n",
    "titles_badrows_df = titles_single_df.where('fieldcount != 12')"
   ]
  },
  {
   "cell_type": "code",
   "execution_count": 19,
   "metadata": {
    "colab": {
     "base_uri": "https://localhost:8080/",
     "height": 34
    },
    "colab_type": "code",
    "id": "Ag8tZcQ68gzr",
    "outputId": "66602c8d-eaa5-49d4-e838-da60ed6e4e31"
   },
   "outputs": [
    {
     "data": {
      "text/plain": [
       "78"
      ]
     },
     "execution_count": 19,
     "metadata": {},
     "output_type": "execute_result"
    }
   ],
   "source": [
    "# Determine total number of \"bad\" rows\n",
    "titles_badrows_df.count()"
   ]
  },
  {
   "cell_type": "markdown",
   "metadata": {
    "colab_type": "text",
    "id": "FCDT2lN4laxn"
   },
   "source": [
    "We can now resolve **problems 5, 6, and 7** by accessing only the rows that have 12 columns present."
   ]
  },
  {
   "cell_type": "code",
   "execution_count": 20,
   "metadata": {
    "colab": {},
    "colab_type": "code",
    "id": "jR_BbSWA8ila"
   },
   "outputs": [],
   "source": [
    "# Set the dataframe without the bad rows\n",
    "titles_single_df = titles_single_df.where('fieldcount == 12')"
   ]
  },
  {
   "cell_type": "code",
   "execution_count": 21,
   "metadata": {
    "colab": {
     "base_uri": "https://localhost:8080/",
     "height": 34
    },
    "colab_type": "code",
    "id": "VkyXBTyv8phE",
    "outputId": "b4c580a4-2601-4fbb-f140-3005aae4e228"
   },
   "outputs": [
    {
     "data": {
      "text/plain": [
       "6113"
      ]
     },
     "execution_count": 21,
     "metadata": {},
     "output_type": "execute_result"
    }
   ],
   "source": [
    "# How many current rows in dataframe?\n",
    "\n",
    "titles_single_df.count()"
   ]
  },
  {
   "cell_type": "markdown",
   "metadata": {
    "colab_type": "text",
    "id": "L_QN8__l81xh"
   },
   "source": [
    "# **Q&A**"
   ]
  },
  {
   "cell_type": "markdown",
   "metadata": {
    "colab_type": "text",
    "id": "eYMSHgfk9ukp"
   },
   "source": [
    "# **More cleaning / prep**\n",
    "\n",
    "Now that we've removed rows that don't fit our basic formatting, let's continue on with making our dataframe more useful.\n",
    "\n",
    "First, let's create a new column that is a list (actually a Spark ArrayType column) containing all \"columns\" using the `pyspark.sql.functions.split` method. We'll call this `splitcolumn`."
   ]
  },
  {
   "cell_type": "code",
   "execution_count": 22,
   "metadata": {
    "colab": {},
    "colab_type": "code",
    "id": "FdV-yNUpAkr3"
   },
   "outputs": [],
   "source": [
    "# Create a list of split strings as a new column named splitcolumn\n",
    "titles_cleaned_df = titles_single_df.select(F.split('_c0', '\\t').alias('splitcolumn'))\n"
   ]
  },
  {
   "cell_type": "code",
   "execution_count": 23,
   "metadata": {
    "colab": {
     "base_uri": "https://localhost:8080/",
     "height": 479
    },
    "colab_type": "code",
    "id": "5ku9EWddB8Su",
    "outputId": "ef6857a0-9fc2-4994-c6ef-046edfe54261"
   },
   "outputs": [
    {
     "name": "stdout",
     "output_type": "stream",
     "text": [
      "+---------------------------------------------------------------------------------------------------------------------------------------------------------------------------------------------------------------------------------------------------------------------------------------------------------------------------------------------------------------------------------------------------------------------------------------------------------------------+\n",
      "|splitcolumn                                                                                                                                                                                                                                                                                                                                                                                                                                                          |\n",
      "+---------------------------------------------------------------------------------------------------------------------------------------------------------------------------------------------------------------------------------------------------------------------------------------------------------------------------------------------------------------------------------------------------------------------------------------------------------------------+\n",
      "|[80044126, Movie, D.L. Hughley: Clear, Jay Chapman, D.L. Hughley, United States, July 13, 2017, 2014, TV-MA, 59 min, Stand-Up Comedy, In this 2014 standup special filmed in San Francisco, comedic genius D.L. Hughley entertains with his hilarious take on current affairs and more.]                                                                                                                                                                             |\n",
      "|[80148179, Movie, My Scientology Movie, John Dower, Louis Theroux, United Kingdom, July 13, 2017, 2015, TV-MA, 99 min, Documentaries, After speaking with former Scientology members and being stonewalled by higher-ups, filmmaker Louis Theroux hires actors to re-create alleged events.]                                                                                                                                                                         |\n",
      "|[70301023, Movie, Tom Segura: Completely Normal, Jay Chapman, Tom Segura, United States, July 13, 2017, 2014, TV-MA, 74 min, Stand-Up Comedy, Levelheaded stand-up Tom Segura shares offhand appraisals on hotels and opens up about his hobbies and digestive ailments in this comedy special.]                                                                                                                                                                     |\n",
      "|[80221109, Movie, 4L, Gerardo Olivares, Jean Reno, Hovik Keuchkerian, Susana Abaitua, Juan Dos Santos, Arturo Valls, Enrique San Francisco, Francesc Garrido, Eric Nguyen, Spain, July 12, 2019, 2019, TV-MA, 105 min, Comedies, Dramas, Independent Movies, Hoping to reunite with a dying friend, two longtime pals re-create their desert road trip from Spain to Mali, bringing along his estranged daughter.]                                                   |\n",
      "|[80221942, TV Show, Age Gap Love, , Fay Ripley, United Kingdom, July 12, 2019, 2017, TV-MA, 1 Season, British TV Shows, Reality TV, Romantic TV Shows, Despite the social backlash and challenges that come with intergenerational romance, these couples choose to stick together through thick and thin.]                                                                                                                                                          |\n",
      "|[80221943, TV Show, Ainsley Eats the Streets, , Ainsley Harriott, United Kingdom, July 12, 2019, 2014, TV-PG, 1 Season, British TV Shows, Docuseries, International TV Shows, Celebrity chef Ainsley Harriott embarks on a journey around the world to explore the relationship between local street foods and cultural identity.]                                                                                                                                   |\n",
      "|[81145271, Movie, Black & Privileged: Volume 1, Mark Harris, Dawnisha Halfkenny, Simeon Henderson, Corey Hendrix, Malcom Banks, Nadia Simms, Brian White, Brely Evans, Cynda Williams, Carl Anthony Payne II, United States, July 12, 2019, 2019, TV-MA, 79 min, Dramas, When low-income families move into a thriving black community in Chicago, they find themselves at odds with politicians to maintain their status.]                                          |\n",
      "|[80215147, TV Show, Blown Away, , , Canada, July 12, 2019, 2019, TV-PG, 1 Season, International TV Shows, Reality TV, Ten master artists turn up the heat in glassblowing sculpture challenges for the chance to win $60,000 in prizes and the title of champion.]                                                                                                                                                                                                   |\n",
      "|[81024041, Movie, Cities of Last Things, Wi Ding Ho, Jack Kao, Lee Hong-chi, Louise Grinberg, Huang Lu, Ding Ning, Taiwan, China, France, United States, July 12, 2019, 2018, TV-MA, 106 min, Dramas, Independent Movies, International Movies, In a dystopian tale unfolding in reverse chronology, a man with a complicated past takes revenge on the individuals who wronged him decades ago.]                                                                    |\n",
      "|[80222071, TV Show, Encounters with Evil, , Richard Lintern, United Kingdom, July 12, 2019, 2016, TV-14, 1 Season, British TV Shows, Crime TV Shows, Docuseries, This documentary series tries to get at the root of some of the most heinous crimes ever committed by deranged, cold-blooded criminals.]                                                                                                                                                            |\n",
      "|[80210245, TV Show, Extreme Engagement, , Tim Noonan, PJ Madam, , July 12, 2019, 2019, TV-MA, 1 Season, International TV Shows, Reality TV, An engaged couple travels the world for a year to explore marriage customs in diverse cultures. Will the journey bring them closer or tear them apart?]                                                                                                                                                                  |\n",
      "|[80224312, TV Show, History's Greatest Hoaxes, , , Australia, July 12, 2019, 2016, TV-PG, 1 Season, British TV Shows, Docuseries, Using previously unseen footage, this documentary series offers new insights into some of the biggest scams and forgeries in human history.]                                                                                                                                                                                       |\n",
      "|[81044248, Movie, Kidnapping Stella, Thomas Sieben, Max von der Groeben, Jella Haase, Clemens Schick, Germany, July 12, 2019, 2019, TV-MA, 90 min, Dramas, International Movies, Thrillers, Snatched off the street and held for ransom, a bound and gagged woman uses her limited powers to derail her two masked abductors' carefully laid plans.]                                                                                                                 |\n",
      "|[80191236, TV Show, Luis Miguel - The Series, , Diego Boneta, Juan Pablo Zurita, Camila Sodi, Óscar Jaenada, Izan Llunas, Paulina Dávila, Martín Bello, Anna Favella, César Bordón, Vanessa Bauche, Mexico, July 12, 2019, 2018, TV-MA, 1 Season, International TV Shows, Spanish-Language TV Shows, TV Dramas, This series dramatizes the life story of Mexican superstar singer Luis Miguel, who has captivated audiences in Latin America and beyond for decades.]|\n",
      "|[80224314, TV Show, Mega Food, , , United Kingdom, July 12, 2019, 2013, TV-G, 1 Season, British TV Shows, Docuseries, International TV Shows, Visiting the busiest kitchens in the world, this reality series focuses on large-scale food production – and the people who make it happen.]                                                                                                                                                                           |\n",
      "|[80224184, TV Show, MegaTruckers, , , Australia, July 12, 2019, 2012, TV-PG, 1 Season, Reality TV, This reality ride-along offers a glimpse into the can-do, high-stakes world of big rig drivers who haul massive loads of cargo across Australia.]                                                                                                                                                                                                                 |\n",
      "|[80224602, TV Show, Money for Nothing, , , , July 12, 2019, 2015, TV-PG, 1 Season, British TV Shows, International TV Shows, Reality TV, Aided by designers and craftspeople, entrepreneur Sarah Moore rescues items bound for the garbage dump and turns them into valuable, unique objects.]                                                                                                                                                                       |\n",
      "|[81094069, TV Show, One Spring Night, , Han Ji-min, Jung Hae-in, Kim Jun-han, Yim Sung-eon, Song Seung-hwan, Kil Hae-yeon, Lee Moo-saeng, Kim Chang-wan, South Korea, July 12, 2019, 2019, TV-14, 1 Season, International TV Shows, Korean TV Shows, Romantic TV Shows, When Lee Jeong-in and Yu Ji-ho meet, something unexpected happens. Or it just may be that spring is in the air – and anything is possible.]                                                  |\n",
      "|[81094893, TV Show, PILI Fantasy: War of Dragons, , Wang Hsi-hua, Lai Wei, Zhang Yu-quan, Chen Yu-kuan, Gao Ming-xiao, Tian Zhi-jie, Li Xiang-yu, Guo Ya-zhen, Zhan Yi-chun, Ye Yu-jia, , July 12, 2019, 2019, TV-14, 1 Season, International TV Shows, TV Action & Adventure, TV Sci-Fi & Fantasy, As turmoil looms in the Martial World, and the Eight Wonders of the Evil Dragon unleashes dark forces, who will emerge as the new warrior legend?]               |\n",
      "|[80221677, Movie, Point Blank, Joe Lynch, Frank Grillo, Anthony Mackie, Marcia Gay Harden, Teyonah Parris, Boris McGiver, Christian Cooke, Markice Moore, France, United States, July 12, 2019, 2019, TV-MA, 87 min, Action & Adventure, To save his pregnant wife, an emergency room nurse unwillingly partners with an injured murder suspect in a race against time and renegade cops.]                                                                           |\n",
      "+---------------------------------------------------------------------------------------------------------------------------------------------------------------------------------------------------------------------------------------------------------------------------------------------------------------------------------------------------------------------------------------------------------------------------------------------------------------------+\n",
      "only showing top 20 rows\n",
      "\n"
     ]
    }
   ],
   "source": [
    "# View the contents\n",
    "titles_cleaned_df.show(truncate=False)"
   ]
  },
  {
   "cell_type": "markdown",
   "metadata": {
    "colab_type": "text",
    "id": "BwUcLor4IggD"
   },
   "source": [
    "# **Creating typed columns**\n",
    "\n",
    "There are several ways to do this operation depending on your needs, but for this dataset we'll explicitly convert the strings in the ArrayType column (ie, a Spark list column) to actual dataframe columns. The `.getItem()` method returns the value at the specified index of the listcolumn (ie, of `splitcolumn`). \n",
    "\n",
    "Let's consider if we wanted to create a full dataframe from the following example dataframe (`df_1`):\n",
    "\n",
    "splitcolumn |\n",
    "---|\n",
    "[1,USA,North America]\n",
    "[2,France,Europe]\n",
    "[3,China,Asia]\n",
    "\n",
    "```\n",
    "df_1 = df_1.withColumn('country_id', df_1.splitcolumn.getItem(0).cast(IntegerType())\n",
    "df_1 = df_1.withColumn('country_name', df_1.splitcolumn.getItem(1))\n",
    "df_1 = df_1.withColumn('continent', df_1.splitcolumn.getItem(2))\n",
    "```\n",
    "\n",
    "This would give you a resulting dataframe of:\n",
    "\n",
    "splitcolumn | country_id | country_name | continent\n",
    "---|---|---|---\n",
    "[1,USA,North America]|1|USA|North America\n",
    "[2,France,Europe]|2|France|Europe\n",
    "[3,China,Asia]|3|China|Asia\n",
    "\n",
    "The `splitcolumn` is currently still present - we'll take care of that later on.\n",
    "\n",
    "Note that for `show_id` and `release_year`, we'll also use `.cast()` to specify them as integers rather than just strings. We also need to import the `IntegerType` from the `pyspark.sql.types` module to properly cast our data to an integer column in Spark.\n",
    "\n"
   ]
  },
  {
   "cell_type": "code",
   "execution_count": 24,
   "metadata": {
    "colab": {},
    "colab_type": "code",
    "id": "Roo0kxtlB-hz"
   },
   "outputs": [],
   "source": [
    "from pyspark.sql.types import IntegerType\n",
    "\n",
    "# Create columns with specific data types using .getItem()\n",
    "\n",
    "titles_cleaned_df = titles_cleaned_df.withColumn('show_id', titles_cleaned_df.splitcolumn.getItem(0).cast(IntegerType()))\n",
    "titles_cleaned_df = titles_cleaned_df.withColumn('type', titles_cleaned_df.splitcolumn.getItem(1))\n",
    "titles_cleaned_df = titles_cleaned_df.withColumn('title', titles_cleaned_df.splitcolumn.getItem(2))\n",
    "titles_cleaned_df = titles_cleaned_df.withColumn('director', titles_cleaned_df.splitcolumn.getItem(3))\n",
    "titles_cleaned_df = titles_cleaned_df.withColumn('cast', titles_cleaned_df.splitcolumn.getItem(4))\n",
    "titles_cleaned_df = titles_cleaned_df.withColumn('country', titles_cleaned_df.splitcolumn.getItem(5))\n",
    "titles_cleaned_df = titles_cleaned_df.withColumn('date_added', titles_cleaned_df.splitcolumn.getItem(6))\n",
    "titles_cleaned_df = titles_cleaned_df.withColumn('release_year', titles_cleaned_df.splitcolumn.getItem(7).cast(IntegerType()))\n",
    "titles_cleaned_df = titles_cleaned_df.withColumn('rating', titles_cleaned_df.splitcolumn.getItem(8))\n",
    "titles_cleaned_df = titles_cleaned_df.withColumn('duration', titles_cleaned_df.splitcolumn.getItem(9))\n",
    "titles_cleaned_df = titles_cleaned_df.withColumn('listed_in', titles_cleaned_df.splitcolumn.getItem(10))\n",
    "titles_cleaned_df = titles_cleaned_df.withColumn('description', titles_cleaned_df.splitcolumn.getItem(11))"
   ]
  },
  {
   "cell_type": "markdown",
   "metadata": {
    "colab_type": "text",
    "id": "LytioBfiJLvr"
   },
   "source": [
    "Let's now drop our columns that aren't needed anymore. These are `_c0` (the original single line string), `fieldcount`, and `splitcolumn`. You can drop these as a single column per entry, or a comma-separated set of column names."
   ]
  },
  {
   "cell_type": "code",
   "execution_count": 25,
   "metadata": {
    "colab": {},
    "colab_type": "code",
    "id": "feZwxQ8rC1MJ"
   },
   "outputs": [],
   "source": [
    "# Drop original _c0 column\n",
    "\n",
    "titles_cleaned_df = titles_cleaned_df.drop('_c0', 'fieldcount', 'splitcolumn')"
   ]
  },
  {
   "cell_type": "markdown",
   "metadata": {
    "colab_type": "text",
    "id": "7G_Zdg7EJq-i"
   },
   "source": [
    "Let's verify our content, check the row count, and then look at our schema."
   ]
  },
  {
   "cell_type": "code",
   "execution_count": 26,
   "metadata": {
    "colab": {
     "base_uri": "https://localhost:8080/",
     "height": 479
    },
    "colab_type": "code",
    "id": "eL_ewudgDKKt",
    "outputId": "7114b807-bb71-4d51-f4d4-59d1a819177b"
   },
   "outputs": [
    {
     "name": "stdout",
     "output_type": "stream",
     "text": [
      "+--------+-------+--------------------+----------------+--------------------+--------------------+-------------+------------+------+--------+--------------------+--------------------+\n",
      "| show_id|   type|               title|        director|                cast|             country|   date_added|release_year|rating|duration|           listed_in|         description|\n",
      "+--------+-------+--------------------+----------------+--------------------+--------------------+-------------+------------+------+--------+--------------------+--------------------+\n",
      "|80044126|  Movie| D.L. Hughley: Clear|     Jay Chapman|        D.L. Hughley|       United States|July 13, 2017|        2014| TV-MA|  59 min|     Stand-Up Comedy|In this 2014 stan...|\n",
      "|80148179|  Movie|My Scientology Movie|      John Dower|       Louis Theroux|      United Kingdom|July 13, 2017|        2015| TV-MA|  99 min|       Documentaries|After speaking wi...|\n",
      "|70301023|  Movie|Tom Segura: Compl...|     Jay Chapman|          Tom Segura|       United States|July 13, 2017|        2014| TV-MA|  74 min|     Stand-Up Comedy|Levelheaded stand...|\n",
      "|80221109|  Movie|                  4L|Gerardo Olivares|Jean Reno, Hovik ...|               Spain|July 12, 2019|        2019| TV-MA| 105 min|Comedies, Dramas,...|Hoping to reunite...|\n",
      "|80221942|TV Show|        Age Gap Love|                |          Fay Ripley|      United Kingdom|July 12, 2019|        2017| TV-MA|1 Season|British TV Shows,...|Despite the socia...|\n",
      "|80221943|TV Show|Ainsley Eats the ...|                |    Ainsley Harriott|      United Kingdom|July 12, 2019|        2014| TV-PG|1 Season|British TV Shows,...|Celebrity chef Ai...|\n",
      "|81145271|  Movie|Black & Privilege...|     Mark Harris|Dawnisha Halfkenn...|       United States|July 12, 2019|        2019| TV-MA|  79 min|              Dramas|When low-income f...|\n",
      "|80215147|TV Show|          Blown Away|                |                    |              Canada|July 12, 2019|        2019| TV-PG|1 Season|International TV ...|Ten master artist...|\n",
      "|81024041|  Movie|Cities of Last Th...|      Wi Ding Ho|Jack Kao, Lee Hon...|Taiwan, China, Fr...|July 12, 2019|        2018| TV-MA| 106 min|Dramas, Independe...|In a dystopian ta...|\n",
      "|80222071|TV Show|Encounters with Evil|                |     Richard Lintern|      United Kingdom|July 12, 2019|        2016| TV-14|1 Season|British TV Shows,...|This documentary ...|\n",
      "|80210245|TV Show|  Extreme Engagement|                |Tim Noonan, PJ Madam|                    |July 12, 2019|        2019| TV-MA|1 Season|International TV ...|An engaged couple...|\n",
      "|80224312|TV Show|History's Greates...|                |                    |           Australia|July 12, 2019|        2016| TV-PG|1 Season|British TV Shows,...|Using previously ...|\n",
      "|81044248|  Movie|   Kidnapping Stella|   Thomas Sieben|Max von der Groeb...|             Germany|July 12, 2019|        2019| TV-MA|  90 min|Dramas, Internati...|Snatched off the ...|\n",
      "|80191236|TV Show|Luis Miguel - The...|                |Diego Boneta, Jua...|              Mexico|July 12, 2019|        2018| TV-MA|1 Season|International TV ...|This series drama...|\n",
      "|80224314|TV Show|           Mega Food|                |                    |      United Kingdom|July 12, 2019|        2013|  TV-G|1 Season|British TV Shows,...|Visiting the busi...|\n",
      "|80224184|TV Show|        MegaTruckers|                |                    |           Australia|July 12, 2019|        2012| TV-PG|1 Season|          Reality TV|This reality ride...|\n",
      "|80224602|TV Show|   Money for Nothing|                |                    |                    |July 12, 2019|        2015| TV-PG|1 Season|British TV Shows,...|Aided by designer...|\n",
      "|81094069|TV Show|    One Spring Night|                |Han Ji-min, Jung ...|         South Korea|July 12, 2019|        2019| TV-14|1 Season|International TV ...|When Lee Jeong-in...|\n",
      "|81094893|TV Show|PILI Fantasy: War...|                |Wang Hsi-hua, Lai...|                    |July 12, 2019|        2019| TV-14|1 Season|International TV ...|As turmoil looms ...|\n",
      "|80221677|  Movie|         Point Blank|       Joe Lynch|Frank Grillo, Ant...|France, United St...|July 12, 2019|        2019| TV-MA|  87 min|  Action & Adventure|To save his pregn...|\n",
      "+--------+-------+--------------------+----------------+--------------------+--------------------+-------------+------------+------+--------+--------------------+--------------------+\n",
      "only showing top 20 rows\n",
      "\n"
     ]
    }
   ],
   "source": [
    "# Showcase new DataFrame\n",
    "\n",
    "titles_cleaned_df.show()"
   ]
  },
  {
   "cell_type": "code",
   "execution_count": 27,
   "metadata": {
    "colab": {
     "base_uri": "https://localhost:8080/",
     "height": 34
    },
    "colab_type": "code",
    "id": "l-C2jZOZEnnr",
    "outputId": "fb70e3a7-32d7-4188-c77e-c34956f50230"
   },
   "outputs": [
    {
     "data": {
      "text/plain": [
       "6113"
      ]
     },
     "execution_count": 27,
     "metadata": {},
     "output_type": "execute_result"
    }
   ],
   "source": [
    "# Count rows\n",
    "\n",
    "titles_cleaned_df.count()"
   ]
  },
  {
   "cell_type": "code",
   "execution_count": 28,
   "metadata": {
    "colab": {
     "base_uri": "https://localhost:8080/",
     "height": 255
    },
    "colab_type": "code",
    "id": "fti0um-RDRVp",
    "outputId": "d04857ee-6e81-4467-ba7c-7a0f9490c0e3"
   },
   "outputs": [
    {
     "name": "stdout",
     "output_type": "stream",
     "text": [
      "root\n",
      " |-- show_id: integer (nullable = true)\n",
      " |-- type: string (nullable = true)\n",
      " |-- title: string (nullable = true)\n",
      " |-- director: string (nullable = true)\n",
      " |-- cast: string (nullable = true)\n",
      " |-- country: string (nullable = true)\n",
      " |-- date_added: string (nullable = true)\n",
      " |-- release_year: integer (nullable = true)\n",
      " |-- rating: string (nullable = true)\n",
      " |-- duration: string (nullable = true)\n",
      " |-- listed_in: string (nullable = true)\n",
      " |-- description: string (nullable = true)\n",
      "\n"
     ]
    }
   ],
   "source": [
    "# Print the schema\n",
    "\n",
    "titles_cleaned_df.printSchema()"
   ]
  },
  {
   "cell_type": "markdown",
   "metadata": {
    "colab_type": "text",
    "id": "d2W5ImNkJ3f8"
   },
   "source": [
    "# **Even more cleanup**\n",
    "\n",
    "With our last set of steps, we've successfully fixed our remaining **problems (1, 2, and 3)**. Now that we have a generally clean dataset, let's look for further issues.\n",
    "\n",
    "If we look at the distinct values available in the show `type` column, we see an issue. This is a categorical data column - collapsing the values in this column is a typical data cleaning issue."
   ]
  },
  {
   "cell_type": "code",
   "execution_count": 29,
   "metadata": {
    "colab": {
     "base_uri": "https://localhost:8080/",
     "height": 153
    },
    "colab_type": "code",
    "id": "YP9IzxLPFwBS",
    "outputId": "9b03a704-d770-4839-aeb3-a76cb6e53387"
   },
   "outputs": [
    {
     "name": "stdout",
     "output_type": "stream",
     "text": [
      "+-------+\n",
      "|   type|\n",
      "+-------+\n",
      "|TV Show|\n",
      "|  Movie|\n",
      "|       |\n",
      "+-------+\n",
      "\n"
     ]
    }
   ],
   "source": [
    "# Check out unique items in type column\n",
    "\n",
    "titles_cleaned_df.select('type').distinct().show()"
   ]
  },
  {
   "cell_type": "code",
   "execution_count": 30,
   "metadata": {
    "colab": {
     "base_uri": "https://localhost:8080/",
     "height": 207
    },
    "colab_type": "code",
    "id": "Nx7weVd1G33o",
    "outputId": "5a5b49aa-8533-4b8e-9f83-34ca8b14899a"
   },
   "outputs": [
    {
     "name": "stdout",
     "output_type": "stream",
     "text": [
      "+--------+----+--------------------+--------------+--------------------+----------------+----------------+------------+------+--------+--------------------+--------------------+\n",
      "| show_id|type|               title|      director|                cast|         country|      date_added|release_year|rating|duration|           listed_in|         description|\n",
      "+--------+----+--------------------+--------------+--------------------+----------------+----------------+------------+------+--------+--------------------+--------------------+\n",
      "|80156212|    |           Wakefield| Robin Swicord|Bryan Cranston, J...|   United States|   March 2, 2019|        2016|     R| 109 min|              Dramas|An unhappy father...|\n",
      "|80219180|    |Darr Sabko Lagta Hai|              |        Bipasha Basu|           India|   March 1, 2018|        2015| TV-MA|1 Season|International TV ...|In this chilling ...|\n",
      "|80032097|    |        Romeo Ranjha|Navaniat Singh|Jazzy B, Garry Sa...|   India, Canada|November 1, 2017|        2014| TV-14| 122 min|Action & Adventur...|Two common boys t...|\n",
      "|81039410|    |         Dry Martina|  Che Sandoval|Antonella Costa, ...|Chile, Argentina|    May 11, 2019|        2018| TV-MA| 100 min|Dramas, Independe...|An odd encounter ...|\n",
      "|80204730|    |       The Last O.G.|              |Tracy Morgan, Tif...|   United States|December 5, 2018|        2018| TV-MA|1 Season|         TV Comedies|After 15 years be...|\n",
      "+--------+----+--------------------+--------------+--------------------+----------------+----------------+------------+------+--------+--------------------+--------------------+\n",
      "\n"
     ]
    }
   ],
   "source": [
    "# Isolate rows where type is \"\"\n",
    "\n",
    "titles_cleaned_df.where('type == \"\"').show()"
   ]
  },
  {
   "cell_type": "markdown",
   "metadata": {
    "colab_type": "text",
    "id": "TW4sUhBMKt9v"
   },
   "source": [
    "You'll notice that we have 5 rows where the type is not specified when one should be. \n",
    "\n",
    "**Problem 8**: Invalid entry in a column - The type column should contain only `TV Show` or `Movie`, but it also contains an empty string value.\n",
    "\n",
    "\n",
    " We have a couple of options:\n",
    "\n",
    "- Drop the rows\n",
    "- Infer what the `type` is based on other content available in the dataset\n",
    "\n",
    "You could remove the problem rows using something like:\n",
    "\n",
    "```\n",
    "titles_cleaned_df = titles_cleaned_df.where('type == \"TV Show\" or type == \"Movie\"')\n",
    "```\n",
    "\n",
    "That feels a bit like cheating though - let's consider how else we could determine this largely automatically.\n",
    "\n",
    "If you look at the `duration` column, you'll notice that there are different meanings behind the entries. We have durations that contain the word *min* (minutes) or the word `Season` for seasons of the show. We can try to use these to properly set the `type` value for these rows.\n",
    "\n",
    "This problem is a bit tricky though as Spark does not have the concept of updating data within a column without jumping through several hoops. We can however work through this issue using a User Defined Function, or UDF.\n",
    "\n",
    "## **UDF**\n",
    "\n",
    "If you haven't worked with them before, a UDF is a Python function that gets applied to every row of a DataFrame. They are extremely flexible and can help us work through issues such as our current one.\n",
    "\n",
    "A UDF in Pyspark requires three things:\n",
    "\n",
    "1. **A Python function or callable**: This is the function that you want called when the UDF is run by Spark.\n",
    "2. **A UDF variable**: Defined by the `udf()` function, with the Python callable defined in #1, and the Spark return type.\n",
    "3. **A Spark transformation**: The UDF must be defined via a transformation (ie `.withColumn()`) to be applied to the dataframe.\n",
    "\n",
    "Consider the following dataframe `df_1`, containing a two fields, `a` and `b`\n",
    "\n",
    "a|b\n",
    "---|---\n",
    "1|2\n",
    "2|3\n",
    "3|4\n",
    "\n",
    "For illustration, let's say we want to use a UDF to define a new column, which is simply the value `a*b`, unless the value of `a` is `3`. If it is, then we want the value to be `0`.\n",
    "\n",
    "Let's define our function - taking two arguments, `a`, and `b`. \n",
    "\n",
    "```\n",
    "def multiply(a, b):\n",
    "  if a == 3:\n",
    "    return 0\n",
    "  else:\n",
    "    return a*b\n",
    "```\n",
    "\n",
    "Now, we need to define our UDF variable. We need to import `udf` from `pyspark.sql.functions`, and as we're returning an integer value, we need to import `IntegerType` from `pyspark.sql.types`. \n",
    "\n",
    "```\n",
    "from pyspark.sql.functions import udf\n",
    "from pyspark.sql.types import IntegerType\n",
    "\n",
    "udfMultiply = udf(multiply, IntegerType())\n",
    "```\n",
    "\n",
    "Note that the `udf` function only takes the name of the callable, not any arguments. Those are defined with our last step - defining a new column. \n",
    "\n",
    "```\n",
    "df_1 = df_1.withColumn('output', udfMultiply(F.col('a'), F.col('b')))\n",
    "```\n",
    "\n",
    "Note that in this instance we're using the `F.col` method to refer to the column. You could use any of the other valid Spark methods to specify a dataframe column (ie, `df_1.a`, `df_1['b']`, etc).\n",
    "\n",
    "Assuming we run a Spark action, such as `.show()`, we would get a dataframe with the following contents:\n",
    "\n",
    "a|b|output\n",
    "---|---|---\n",
    "1|2|2\n",
    "2|3|6\n",
    "3|4|0\n",
    "\n",
    "*Note this is a trivial example for illustration purposes - the same behavior would be much better implemented using assorted functions in the Spark libraries.*\n",
    "\n",
    "\n",
    "First, let's define our Python function that takes two arguments, a showtype (ie, *Movie*, *TV Show*, or other) and the showduration. Note that these are strings in this case. We'll check if the showtype is already a Movie or TV Show - if so, just return that value. Otherwise, we'll check if the showduration ends with *min*, indicating a Movie. If not, we'll specify it as a TV Show.\n"
   ]
  },
  {
   "cell_type": "code",
   "execution_count": 31,
   "metadata": {
    "colab": {},
    "colab_type": "code",
    "id": "m97hs-7qPCus"
   },
   "outputs": [],
   "source": [
    "# Define the UDF callable\n",
    "\n",
    "def deriveType(showtype, showduration):\n",
    "  if showtype == 'Movie' or showtype == 'TV Show':\n",
    "    return showtype\n",
    "  else:\n",
    "    if showduration.endswith('min'):\n",
    "      return \"Movie\"\n",
    "    else:\n",
    "      return \"TV Show\""
   ]
  },
  {
   "cell_type": "markdown",
   "metadata": {
    "colab_type": "text",
    "id": "PW5L773xQCfy"
   },
   "source": [
    "# **Define the UDF for Spark**\n",
    "\n",
    "Now we need to configure the UDF for Spark to access it accordingly."
   ]
  },
  {
   "cell_type": "code",
   "execution_count": 32,
   "metadata": {
    "colab": {},
    "colab_type": "code",
    "id": "3y7TpzkAQb8x"
   },
   "outputs": [],
   "source": [
    "from pyspark.sql.functions import udf\n",
    "from pyspark.sql.types import StringType\n",
    "\n",
    "udfDeriveType = udf(deriveType, StringType())"
   ]
  },
  {
   "cell_type": "code",
   "execution_count": 33,
   "metadata": {
    "colab": {},
    "colab_type": "code",
    "id": "0sE7GaRVR7Tv"
   },
   "outputs": [],
   "source": [
    "# Create a new derived column, passing in the appropriate values\n",
    "\n",
    "titles_cleaned_df = titles_cleaned_df.withColumn('derivedType', udfDeriveType(F.col('type'), F.col('duration')))"
   ]
  },
  {
   "cell_type": "code",
   "execution_count": 34,
   "metadata": {
    "colab": {
     "base_uri": "https://localhost:8080/",
     "height": 207
    },
    "colab_type": "code",
    "id": "-eGdUm5ZSojy",
    "outputId": "a05f2e99-5e47-42f3-c062-c25f03132f55"
   },
   "outputs": [
    {
     "name": "stdout",
     "output_type": "stream",
     "text": [
      "+--------+----+--------------------+--------------+--------------------+----------------+----------------+------------+------+--------+--------------------+--------------------+-----------+\n",
      "| show_id|type|               title|      director|                cast|         country|      date_added|release_year|rating|duration|           listed_in|         description|derivedType|\n",
      "+--------+----+--------------------+--------------+--------------------+----------------+----------------+------------+------+--------+--------------------+--------------------+-----------+\n",
      "|80156212|    |           Wakefield| Robin Swicord|Bryan Cranston, J...|   United States|   March 2, 2019|        2016|     R| 109 min|              Dramas|An unhappy father...|      Movie|\n",
      "|80219180|    |Darr Sabko Lagta Hai|              |        Bipasha Basu|           India|   March 1, 2018|        2015| TV-MA|1 Season|International TV ...|In this chilling ...|    TV Show|\n",
      "|80032097|    |        Romeo Ranjha|Navaniat Singh|Jazzy B, Garry Sa...|   India, Canada|November 1, 2017|        2014| TV-14| 122 min|Action & Adventur...|Two common boys t...|      Movie|\n",
      "|81039410|    |         Dry Martina|  Che Sandoval|Antonella Costa, ...|Chile, Argentina|    May 11, 2019|        2018| TV-MA| 100 min|Dramas, Independe...|An odd encounter ...|      Movie|\n",
      "|80204730|    |       The Last O.G.|              |Tracy Morgan, Tif...|   United States|December 5, 2018|        2018| TV-MA|1 Season|         TV Comedies|After 15 years be...|    TV Show|\n",
      "+--------+----+--------------------+--------------+--------------------+----------------+----------------+------------+------+--------+--------------------+--------------------+-----------+\n",
      "\n"
     ]
    }
   ],
   "source": [
    "# Show the rows where type is an empty string again, examining the derivedType\n",
    "titles_cleaned_df.where('type == \"\"').show()"
   ]
  },
  {
   "cell_type": "code",
   "execution_count": 36,
   "metadata": {
    "colab": {},
    "colab_type": "code",
    "id": "w1Z923yGSt2q"
   },
   "outputs": [],
   "source": [
    "# Drop the original type column and rename derviedType to type\n",
    "titles_cleaned_df = titles_cleaned_df.drop('type').withColumnRenamed('derivedType', 'type')"
   ]
  },
  {
   "cell_type": "code",
   "execution_count": 37,
   "metadata": {
    "colab": {
     "base_uri": "https://localhost:8080/",
     "height": 136
    },
    "colab_type": "code",
    "id": "JW7Dtb-wHfs5",
    "outputId": "e5a6698b-d449-443c-f4d6-4feb42688eea"
   },
   "outputs": [
    {
     "ename": "AnalysisException",
     "evalue": "cannot resolve '`type`' given input columns: [cast, country, date_added, description, director, duration, listed_in, rating, release_year, show_id, title];;\n'Project ['type]\n+- Project [show_id#308, title#315, director#320, cast#326, country#333, date_added#341, release_year#350, rating#360, duration#371, listed_in#383, description#396]\n   +- Project [show_id#308, title#315, director#320, cast#326, country#333, date_added#341, release_year#350, rating#360, duration#371, listed_in#383, description#396, derivedType#548 AS type#629]\n      +- Project [show_id#308, title#315, director#320, cast#326, country#333, date_added#341, release_year#350, rating#360, duration#371, listed_in#383, description#396, derivedType#548]\n         +- Project [show_id#308, type#311, title#315, director#320, cast#326, country#333, date_added#341, release_year#350, rating#360, duration#371, listed_in#383, description#396, deriveType(type#311, duration#371) AS derivedType#548]\n            +- Project [show_id#308, type#311, title#315, director#320, cast#326, country#333, date_added#341, release_year#350, rating#360, duration#371, listed_in#383, description#396]\n               +- Project [splitcolumn#300, show_id#308, type#311, title#315, director#320, cast#326, country#333, date_added#341, release_year#350, rating#360, duration#371, listed_in#383, splitcolumn#300[11] AS description#396]\n                  +- Project [splitcolumn#300, show_id#308, type#311, title#315, director#320, cast#326, country#333, date_added#341, release_year#350, rating#360, duration#371, splitcolumn#300[10] AS listed_in#383]\n                     +- Project [splitcolumn#300, show_id#308, type#311, title#315, director#320, cast#326, country#333, date_added#341, release_year#350, rating#360, splitcolumn#300[9] AS duration#371]\n                        +- Project [splitcolumn#300, show_id#308, type#311, title#315, director#320, cast#326, country#333, date_added#341, release_year#350, splitcolumn#300[8] AS rating#360]\n                           +- Project [splitcolumn#300, show_id#308, type#311, title#315, director#320, cast#326, country#333, date_added#341, cast(splitcolumn#300[7] as int) AS release_year#350]\n                              +- Project [splitcolumn#300, show_id#308, type#311, title#315, director#320, cast#326, country#333, splitcolumn#300[6] AS date_added#341]\n                                 +- Project [splitcolumn#300, show_id#308, type#311, title#315, director#320, cast#326, splitcolumn#300[5] AS country#333]\n                                    +- Project [splitcolumn#300, show_id#308, type#311, title#315, director#320, splitcolumn#300[4] AS cast#326]\n                                       +- Project [splitcolumn#300, show_id#308, type#311, title#315, splitcolumn#300[3] AS director#320]\n                                          +- Project [splitcolumn#300, show_id#308, type#311, splitcolumn#300[2] AS title#315]\n                                             +- Project [splitcolumn#300, show_id#308, splitcolumn#300[1] AS type#311]\n                                                +- Project [splitcolumn#300, cast(splitcolumn#300[0] as int) AS show_id#308]\n                                                   +- Project [split(_c0#235, \t, -1) AS splitcolumn#300]\n                                                      +- Filter (fieldcount#269 = 12)\n                                                         +- Project [_c0#235, size(split(_c0#235, \t, -1), true) AS fieldCount#269]\n                                                            +- Filter NOT StartsWith(_c0#235, #)\n                                                               +- Relation[_c0#235] csv\n",
     "output_type": "error",
     "traceback": [
      "\u001b[1;31m---------------------------------------------------------------------------\u001b[0m",
      "\u001b[1;31mAnalysisException\u001b[0m                         Traceback (most recent call last)",
      "\u001b[1;32m<ipython-input-37-4f7f3fc779ea>\u001b[0m in \u001b[0;36m<module>\u001b[1;34m\u001b[0m\n\u001b[0;32m      1\u001b[0m \u001b[1;31m# Verify we only have two types available\u001b[0m\u001b[1;33m\u001b[0m\u001b[1;33m\u001b[0m\u001b[1;33m\u001b[0m\u001b[0m\n\u001b[1;32m----> 2\u001b[1;33m \u001b[0mtitles_cleaned_df\u001b[0m\u001b[1;33m.\u001b[0m\u001b[0mselect\u001b[0m\u001b[1;33m(\u001b[0m\u001b[1;34m'type'\u001b[0m\u001b[1;33m)\u001b[0m\u001b[1;33m.\u001b[0m\u001b[0mdistinct\u001b[0m\u001b[1;33m(\u001b[0m\u001b[1;33m)\u001b[0m\u001b[1;33m.\u001b[0m\u001b[0mshow\u001b[0m\u001b[1;33m(\u001b[0m\u001b[1;33m)\u001b[0m\u001b[1;33m\u001b[0m\u001b[1;33m\u001b[0m\u001b[0m\n\u001b[0m",
      "\u001b[1;32m~\\Miniconda3\\envs\\umbase\\lib\\site-packages\\pyspark\\sql\\dataframe.py\u001b[0m in \u001b[0;36mselect\u001b[1;34m(self, *cols)\u001b[0m\n\u001b[0;32m   1419\u001b[0m         \u001b[1;33m[\u001b[0m\u001b[0mRow\u001b[0m\u001b[1;33m(\u001b[0m\u001b[0mname\u001b[0m\u001b[1;33m=\u001b[0m\u001b[1;34mu'Alice'\u001b[0m\u001b[1;33m,\u001b[0m \u001b[0mage\u001b[0m\u001b[1;33m=\u001b[0m\u001b[1;36m12\u001b[0m\u001b[1;33m)\u001b[0m\u001b[1;33m,\u001b[0m \u001b[0mRow\u001b[0m\u001b[1;33m(\u001b[0m\u001b[0mname\u001b[0m\u001b[1;33m=\u001b[0m\u001b[1;34mu'Bob'\u001b[0m\u001b[1;33m,\u001b[0m \u001b[0mage\u001b[0m\u001b[1;33m=\u001b[0m\u001b[1;36m15\u001b[0m\u001b[1;33m)\u001b[0m\u001b[1;33m]\u001b[0m\u001b[1;33m\u001b[0m\u001b[1;33m\u001b[0m\u001b[0m\n\u001b[0;32m   1420\u001b[0m         \"\"\"\n\u001b[1;32m-> 1421\u001b[1;33m         \u001b[0mjdf\u001b[0m \u001b[1;33m=\u001b[0m \u001b[0mself\u001b[0m\u001b[1;33m.\u001b[0m\u001b[0m_jdf\u001b[0m\u001b[1;33m.\u001b[0m\u001b[0mselect\u001b[0m\u001b[1;33m(\u001b[0m\u001b[0mself\u001b[0m\u001b[1;33m.\u001b[0m\u001b[0m_jcols\u001b[0m\u001b[1;33m(\u001b[0m\u001b[1;33m*\u001b[0m\u001b[0mcols\u001b[0m\u001b[1;33m)\u001b[0m\u001b[1;33m)\u001b[0m\u001b[1;33m\u001b[0m\u001b[1;33m\u001b[0m\u001b[0m\n\u001b[0m\u001b[0;32m   1422\u001b[0m         \u001b[1;32mreturn\u001b[0m \u001b[0mDataFrame\u001b[0m\u001b[1;33m(\u001b[0m\u001b[0mjdf\u001b[0m\u001b[1;33m,\u001b[0m \u001b[0mself\u001b[0m\u001b[1;33m.\u001b[0m\u001b[0msql_ctx\u001b[0m\u001b[1;33m)\u001b[0m\u001b[1;33m\u001b[0m\u001b[1;33m\u001b[0m\u001b[0m\n\u001b[0;32m   1423\u001b[0m \u001b[1;33m\u001b[0m\u001b[0m\n",
      "\u001b[1;32m~\\Miniconda3\\envs\\umbase\\lib\\site-packages\\py4j\\java_gateway.py\u001b[0m in \u001b[0;36m__call__\u001b[1;34m(self, *args)\u001b[0m\n\u001b[0;32m   1302\u001b[0m \u001b[1;33m\u001b[0m\u001b[0m\n\u001b[0;32m   1303\u001b[0m         \u001b[0manswer\u001b[0m \u001b[1;33m=\u001b[0m \u001b[0mself\u001b[0m\u001b[1;33m.\u001b[0m\u001b[0mgateway_client\u001b[0m\u001b[1;33m.\u001b[0m\u001b[0msend_command\u001b[0m\u001b[1;33m(\u001b[0m\u001b[0mcommand\u001b[0m\u001b[1;33m)\u001b[0m\u001b[1;33m\u001b[0m\u001b[1;33m\u001b[0m\u001b[0m\n\u001b[1;32m-> 1304\u001b[1;33m         return_value = get_return_value(\n\u001b[0m\u001b[0;32m   1305\u001b[0m             answer, self.gateway_client, self.target_id, self.name)\n\u001b[0;32m   1306\u001b[0m \u001b[1;33m\u001b[0m\u001b[0m\n",
      "\u001b[1;32m~\\Miniconda3\\envs\\umbase\\lib\\site-packages\\pyspark\\sql\\utils.py\u001b[0m in \u001b[0;36mdeco\u001b[1;34m(*a, **kw)\u001b[0m\n\u001b[0;32m    132\u001b[0m                 \u001b[1;31m# Hide where the exception came from that shows a non-Pythonic\u001b[0m\u001b[1;33m\u001b[0m\u001b[1;33m\u001b[0m\u001b[1;33m\u001b[0m\u001b[0m\n\u001b[0;32m    133\u001b[0m                 \u001b[1;31m# JVM exception message.\u001b[0m\u001b[1;33m\u001b[0m\u001b[1;33m\u001b[0m\u001b[1;33m\u001b[0m\u001b[0m\n\u001b[1;32m--> 134\u001b[1;33m                 \u001b[0mraise_from\u001b[0m\u001b[1;33m(\u001b[0m\u001b[0mconverted\u001b[0m\u001b[1;33m)\u001b[0m\u001b[1;33m\u001b[0m\u001b[1;33m\u001b[0m\u001b[0m\n\u001b[0m\u001b[0;32m    135\u001b[0m             \u001b[1;32melse\u001b[0m\u001b[1;33m:\u001b[0m\u001b[1;33m\u001b[0m\u001b[1;33m\u001b[0m\u001b[0m\n\u001b[0;32m    136\u001b[0m                 \u001b[1;32mraise\u001b[0m\u001b[1;33m\u001b[0m\u001b[1;33m\u001b[0m\u001b[0m\n",
      "\u001b[1;32m~\\Miniconda3\\envs\\umbase\\lib\\site-packages\\pyspark\\sql\\utils.py\u001b[0m in \u001b[0;36mraise_from\u001b[1;34m(e)\u001b[0m\n",
      "\u001b[1;31mAnalysisException\u001b[0m: cannot resolve '`type`' given input columns: [cast, country, date_added, description, director, duration, listed_in, rating, release_year, show_id, title];;\n'Project ['type]\n+- Project [show_id#308, title#315, director#320, cast#326, country#333, date_added#341, release_year#350, rating#360, duration#371, listed_in#383, description#396]\n   +- Project [show_id#308, title#315, director#320, cast#326, country#333, date_added#341, release_year#350, rating#360, duration#371, listed_in#383, description#396, derivedType#548 AS type#629]\n      +- Project [show_id#308, title#315, director#320, cast#326, country#333, date_added#341, release_year#350, rating#360, duration#371, listed_in#383, description#396, derivedType#548]\n         +- Project [show_id#308, type#311, title#315, director#320, cast#326, country#333, date_added#341, release_year#350, rating#360, duration#371, listed_in#383, description#396, deriveType(type#311, duration#371) AS derivedType#548]\n            +- Project [show_id#308, type#311, title#315, director#320, cast#326, country#333, date_added#341, release_year#350, rating#360, duration#371, listed_in#383, description#396]\n               +- Project [splitcolumn#300, show_id#308, type#311, title#315, director#320, cast#326, country#333, date_added#341, release_year#350, rating#360, duration#371, listed_in#383, splitcolumn#300[11] AS description#396]\n                  +- Project [splitcolumn#300, show_id#308, type#311, title#315, director#320, cast#326, country#333, date_added#341, release_year#350, rating#360, duration#371, splitcolumn#300[10] AS listed_in#383]\n                     +- Project [splitcolumn#300, show_id#308, type#311, title#315, director#320, cast#326, country#333, date_added#341, release_year#350, rating#360, splitcolumn#300[9] AS duration#371]\n                        +- Project [splitcolumn#300, show_id#308, type#311, title#315, director#320, cast#326, country#333, date_added#341, release_year#350, splitcolumn#300[8] AS rating#360]\n                           +- Project [splitcolumn#300, show_id#308, type#311, title#315, director#320, cast#326, country#333, date_added#341, cast(splitcolumn#300[7] as int) AS release_year#350]\n                              +- Project [splitcolumn#300, show_id#308, type#311, title#315, director#320, cast#326, country#333, splitcolumn#300[6] AS date_added#341]\n                                 +- Project [splitcolumn#300, show_id#308, type#311, title#315, director#320, cast#326, splitcolumn#300[5] AS country#333]\n                                    +- Project [splitcolumn#300, show_id#308, type#311, title#315, director#320, splitcolumn#300[4] AS cast#326]\n                                       +- Project [splitcolumn#300, show_id#308, type#311, title#315, splitcolumn#300[3] AS director#320]\n                                          +- Project [splitcolumn#300, show_id#308, type#311, splitcolumn#300[2] AS title#315]\n                                             +- Project [splitcolumn#300, show_id#308, splitcolumn#300[1] AS type#311]\n                                                +- Project [splitcolumn#300, cast(splitcolumn#300[0] as int) AS show_id#308]\n                                                   +- Project [split(_c0#235, \t, -1) AS splitcolumn#300]\n                                                      +- Filter (fieldcount#269 = 12)\n                                                         +- Project [_c0#235, size(split(_c0#235, \t, -1), true) AS fieldCount#269]\n                                                            +- Filter NOT StartsWith(_c0#235, #)\n                                                               +- Relation[_c0#235] csv\n"
     ]
    }
   ],
   "source": [
    "# Verify we only have two types available\n",
    "titles_cleaned_df.select('type').distinct().show()"
   ]
  },
  {
   "cell_type": "code",
   "execution_count": 38,
   "metadata": {
    "colab": {
     "base_uri": "https://localhost:8080/",
     "height": 34
    },
    "colab_type": "code",
    "id": "rXr5D8-4HkSR",
    "outputId": "349a5455-1866-434e-a265-c3645a74febe"
   },
   "outputs": [
    {
     "data": {
      "text/plain": [
       "6113"
      ]
     },
     "execution_count": 38,
     "metadata": {},
     "output_type": "execute_result"
    }
   ],
   "source": [
    "# Verify our row count is the same\n",
    "titles_cleaned_df.count()"
   ]
  },
  {
   "cell_type": "markdown",
   "metadata": {
    "colab_type": "text",
    "id": "Ks9eP6uMnUPe"
   },
   "source": [
    "We've now successfully resolved **problem 8**."
   ]
  },
  {
   "cell_type": "markdown",
   "metadata": {
    "colab_type": "text",
    "id": "0KUVyBzLTZgN"
   },
   "source": [
    "# **Saving data for analysis / further processing**\n",
    "\n",
    "The last step of our data cleaning is to save the cleaned dataframe out to a file type. If you plan to do any further analysis or processing using Spark, it's highly recommended you use Parquet. Other options are available per your needs, but Spark is optimized to take advantage of Parquet.\n",
    "\n",
    "There are two options we use for the `.write.parquet()` method:\n",
    "\n",
    "- The path of where to write the file\n",
    "- An optional `mode` parameter, which we've set to `overwrite`. This allows Spark to write data to an existing location, solving some potential issues in a notebook environment."
   ]
  },
  {
   "cell_type": "code",
   "execution_count": 39,
   "metadata": {},
   "outputs": [
    {
     "name": "stdout",
     "output_type": "stream",
     "text": [
      "+--------+--------------------+----------------+--------------------+--------------------+-------------+------------+------+--------+--------------------+--------------------+-------+\n",
      "| show_id|               title|        director|                cast|             country|   date_added|release_year|rating|duration|           listed_in|         description|   type|\n",
      "+--------+--------------------+----------------+--------------------+--------------------+-------------+------------+------+--------+--------------------+--------------------+-------+\n",
      "|80044126| D.L. Hughley: Clear|     Jay Chapman|        D.L. Hughley|       United States|July 13, 2017|        2014| TV-MA|  59 min|     Stand-Up Comedy|In this 2014 stan...|  Movie|\n",
      "|80148179|My Scientology Movie|      John Dower|       Louis Theroux|      United Kingdom|July 13, 2017|        2015| TV-MA|  99 min|       Documentaries|After speaking wi...|  Movie|\n",
      "|70301023|Tom Segura: Compl...|     Jay Chapman|          Tom Segura|       United States|July 13, 2017|        2014| TV-MA|  74 min|     Stand-Up Comedy|Levelheaded stand...|  Movie|\n",
      "|80221109|                  4L|Gerardo Olivares|Jean Reno, Hovik ...|               Spain|July 12, 2019|        2019| TV-MA| 105 min|Comedies, Dramas,...|Hoping to reunite...|  Movie|\n",
      "|80221942|        Age Gap Love|                |          Fay Ripley|      United Kingdom|July 12, 2019|        2017| TV-MA|1 Season|British TV Shows,...|Despite the socia...|TV Show|\n",
      "|80221943|Ainsley Eats the ...|                |    Ainsley Harriott|      United Kingdom|July 12, 2019|        2014| TV-PG|1 Season|British TV Shows,...|Celebrity chef Ai...|TV Show|\n",
      "|81145271|Black & Privilege...|     Mark Harris|Dawnisha Halfkenn...|       United States|July 12, 2019|        2019| TV-MA|  79 min|              Dramas|When low-income f...|  Movie|\n",
      "|80215147|          Blown Away|                |                    |              Canada|July 12, 2019|        2019| TV-PG|1 Season|International TV ...|Ten master artist...|TV Show|\n",
      "|81024041|Cities of Last Th...|      Wi Ding Ho|Jack Kao, Lee Hon...|Taiwan, China, Fr...|July 12, 2019|        2018| TV-MA| 106 min|Dramas, Independe...|In a dystopian ta...|  Movie|\n",
      "|80222071|Encounters with Evil|                |     Richard Lintern|      United Kingdom|July 12, 2019|        2016| TV-14|1 Season|British TV Shows,...|This documentary ...|TV Show|\n",
      "|80210245|  Extreme Engagement|                |Tim Noonan, PJ Madam|                    |July 12, 2019|        2019| TV-MA|1 Season|International TV ...|An engaged couple...|TV Show|\n",
      "|80224312|History's Greates...|                |                    |           Australia|July 12, 2019|        2016| TV-PG|1 Season|British TV Shows,...|Using previously ...|TV Show|\n",
      "|81044248|   Kidnapping Stella|   Thomas Sieben|Max von der Groeb...|             Germany|July 12, 2019|        2019| TV-MA|  90 min|Dramas, Internati...|Snatched off the ...|  Movie|\n",
      "|80191236|Luis Miguel - The...|                |Diego Boneta, Jua...|              Mexico|July 12, 2019|        2018| TV-MA|1 Season|International TV ...|This series drama...|TV Show|\n",
      "|80224314|           Mega Food|                |                    |      United Kingdom|July 12, 2019|        2013|  TV-G|1 Season|British TV Shows,...|Visiting the busi...|TV Show|\n",
      "|80224184|        MegaTruckers|                |                    |           Australia|July 12, 2019|        2012| TV-PG|1 Season|          Reality TV|This reality ride...|TV Show|\n",
      "|80224602|   Money for Nothing|                |                    |                    |July 12, 2019|        2015| TV-PG|1 Season|British TV Shows,...|Aided by designer...|TV Show|\n",
      "|81094069|    One Spring Night|                |Han Ji-min, Jung ...|         South Korea|July 12, 2019|        2019| TV-14|1 Season|International TV ...|When Lee Jeong-in...|TV Show|\n",
      "|81094893|PILI Fantasy: War...|                |Wang Hsi-hua, Lai...|                    |July 12, 2019|        2019| TV-14|1 Season|International TV ...|As turmoil looms ...|TV Show|\n",
      "|80221677|         Point Blank|       Joe Lynch|Frank Grillo, Ant...|France, United St...|July 12, 2019|        2019| TV-MA|  87 min|  Action & Adventure|To save his pregn...|  Movie|\n",
      "+--------+--------------------+----------------+--------------------+--------------------+-------------+------------+------+--------+--------------------+--------------------+-------+\n",
      "only showing top 20 rows\n",
      "\n"
     ]
    }
   ],
   "source": [
    "titles_cleaned_df.show()"
   ]
  },
  {
   "cell_type": "code",
   "execution_count": 40,
   "metadata": {},
   "outputs": [
    {
     "name": "stdout",
     "output_type": "stream",
     "text": [
      "root\n",
      " |-- show_id: integer (nullable = true)\n",
      " |-- title: string (nullable = true)\n",
      " |-- director: string (nullable = true)\n",
      " |-- cast: string (nullable = true)\n",
      " |-- country: string (nullable = true)\n",
      " |-- date_added: string (nullable = true)\n",
      " |-- release_year: integer (nullable = true)\n",
      " |-- rating: string (nullable = true)\n",
      " |-- duration: string (nullable = true)\n",
      " |-- listed_in: string (nullable = true)\n",
      " |-- description: string (nullable = true)\n",
      " |-- type: string (nullable = true)\n",
      "\n"
     ]
    }
   ],
   "source": [
    "titles_cleaned_df.printSchema()"
   ]
  },
  {
   "cell_type": "code",
   "execution_count": 41,
   "metadata": {},
   "outputs": [],
   "source": [
    "titles_cleaned_df = titles_cleaned_df.na.fill(value=0)"
   ]
  },
  {
   "cell_type": "code",
   "execution_count": 42,
   "metadata": {},
   "outputs": [
    {
     "name": "stdout",
     "output_type": "stream",
     "text": [
      "+-------+-----+--------+----+-------+----------+------------+------+--------+---------+-----------+----+\n",
      "|show_id|title|director|cast|country|date_added|release_year|rating|duration|listed_in|description|type|\n",
      "+-------+-----+--------+----+-------+----------+------------+------+--------+---------+-----------+----+\n",
      "+-------+-----+--------+----+-------+----------+------------+------+--------+---------+-----------+----+\n",
      "\n"
     ]
    }
   ],
   "source": [
    "titles_cleaned_df.where(col(\"release_year\").isNull()).show()"
   ]
  },
  {
   "cell_type": "code",
   "execution_count": 43,
   "metadata": {},
   "outputs": [
    {
     "name": "stdout",
     "output_type": "stream",
     "text": [
      "+-------+-----+--------+----+-------+----------+------------+------+--------+---------+-----------+----+\n",
      "|show_id|title|director|cast|country|date_added|release_year|rating|duration|listed_in|description|type|\n",
      "+-------+-----+--------+----+-------+----------+------------+------+--------+---------+-----------+----+\n",
      "+-------+-----+--------+----+-------+----------+------------+------+--------+---------+-----------+----+\n",
      "\n"
     ]
    }
   ],
   "source": [
    "titles_cleaned_df.where(col(\"type\").isNull()).show()"
   ]
  },
  {
   "cell_type": "code",
   "execution_count": 45,
   "metadata": {},
   "outputs": [],
   "source": [
    "titles_cleaned_df.toPandas().to_csv('netflix_titles_cleaned_newv2.csv',index=False)"
   ]
  },
  {
   "cell_type": "code",
   "execution_count": null,
   "metadata": {},
   "outputs": [],
   "source": []
  }
 ],
 "metadata": {
  "colab": {
   "name": "Cleaning Data with PySpark_solution.ipynb",
   "provenance": []
  },
  "kernelspec": {
   "display_name": "Python 3",
   "language": "python",
   "name": "python3"
  },
  "language_info": {
   "codemirror_mode": {
    "name": "ipython",
    "version": 3
   },
   "file_extension": ".py",
   "mimetype": "text/x-python",
   "name": "python",
   "nbconvert_exporter": "python",
   "pygments_lexer": "ipython3",
   "version": "3.8.5"
  }
 },
 "nbformat": 4,
 "nbformat_minor": 1
}
